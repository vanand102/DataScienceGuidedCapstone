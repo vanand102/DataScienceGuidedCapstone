{
  "cells": [
    {
      "cell_type": "markdown",
      "metadata": {
        "id": "view-in-github",
        "colab_type": "text"
      },
      "source": [
        "<a href=\"https://colab.research.google.com/github/vanand102/DataScienceGuidedCapstone/blob/master/Frequentist_Inference_Case_Study_Part_B_(2).ipynb\" target=\"_parent\"><img src=\"https://colab.research.google.com/assets/colab-badge.svg\" alt=\"Open In Colab\"/></a>"
      ]
    },
    {
      "cell_type": "markdown",
      "metadata": {
        "id": "8shIzTAgGSKr"
      },
      "source": [
        "# Frequentist Inference Case Study - Part B"
      ]
    },
    {
      "cell_type": "markdown",
      "metadata": {
        "id": "lh-kDDVlGSK0"
      },
      "source": [
        "## Learning objectives"
      ]
    },
    {
      "cell_type": "markdown",
      "metadata": {
        "id": "pSCSxeCWGSK1"
      },
      "source": [
        "Welcome to Part B of the Frequentist inference case study! The purpose of this case study is to help you apply the concepts associated with Frequentist inference in Python. In particular, you'll practice writing Python code to apply the following statistical concepts: \n",
        "* the _z_-statistic\n",
        "* the _t_-statistic\n",
        "* the difference and relationship between the two\n",
        "* the Central Limit Theorem, including its assumptions and consequences\n",
        "* how to estimate the population mean and standard deviation from a sample\n",
        "* the concept of a sampling distribution of a test statistic, particularly for the mean\n",
        "* how to combine these concepts to calculate a confidence interval"
      ]
    },
    {
      "cell_type": "markdown",
      "metadata": {
        "id": "AbMKkBiuGSK2"
      },
      "source": [
        "In the previous notebook, we used only data from a known normal distribution. **You'll now tackle real data, rather than simulated data, and answer some relevant real-world business problems using the data.**"
      ]
    },
    {
      "cell_type": "markdown",
      "metadata": {
        "id": "VbtsywFxGSK3"
      },
      "source": [
        "## Hospital medical charges"
      ]
    },
    {
      "cell_type": "markdown",
      "metadata": {
        "id": "IYZEMgWNGSK4"
      },
      "source": [
        "Imagine that a hospital has hired you as their data scientist. An administrator is working on the hospital's business operations plan and needs you to help them answer some business questions. \n",
        "\n",
        "In this assignment notebook, you're going to use frequentist statistical inference on a data sample to answer the questions:\n",
        "* has the hospital's revenue stream fallen below a key threshold?\n",
        "* are patients with insurance really charged different amounts than those without?\n",
        "\n",
        "Answering that last question with a frequentist approach makes some assumptions, and requires some knowledge, about the two groups."
      ]
    },
    {
      "cell_type": "markdown",
      "metadata": {
        "id": "e-BecfYVGSK5"
      },
      "source": [
        "We are going to use some data on medical charges obtained from [Kaggle](https://www.kaggle.com/easonlai/sample-insurance-claim-prediction-dataset). \n",
        "\n",
        "For the purposes of this exercise, assume the observations are the result of random sampling from our single hospital. Recall that in the previous assignment, we introduced the Central Limit Theorem (CLT), and its consequence that the distributions of sample statistics approach a normal distribution as $n$ increases. The amazing thing about this is that it applies to the sampling distributions of statistics that have been calculated from even highly non-normal distributions of data! Recall, also, that hypothesis testing is very much based on making inferences about such sample statistics. You're going to rely heavily on the CLT to apply frequentist (parametric) tests to answer the questions in this notebook."
      ]
    },
    {
      "cell_type": "code",
      "source": [
        "from google.colab import drive\n",
        "drive.mount('/content/drive')"
      ],
      "metadata": {
        "colab": {
          "base_uri": "https://localhost:8080/"
        },
        "id": "g60VvPJJso6g",
        "outputId": "9c6d4485-c44f-466e-fefa-4a6ee3e292bf"
      },
      "execution_count": 2,
      "outputs": [
        {
          "output_type": "stream",
          "name": "stdout",
          "text": [
            "Mounted at /content/drive\n"
          ]
        }
      ]
    },
    {
      "cell_type": "code",
      "source": [
        "import sys\n",
        "sys.path.append('/content/drive/MyDrive/Springboard/Frequentist Inference')"
      ],
      "metadata": {
        "id": "tP52YUebent9"
      },
      "execution_count": 3,
      "outputs": []
    },
    {
      "cell_type": "code",
      "execution_count": 30,
      "metadata": {
        "id": "d0WSbJ1XGSK7"
      },
      "outputs": [],
      "source": [
        "import pandas as pd\n",
        "import numpy as np\n",
        "import matplotlib.pyplot as plt\n",
        "from scipy.stats import norm\n",
        "from scipy.stats import t\n",
        "from scipy.stats import ttest_ind_from_stats\n",
        "from numpy.random import seed\n",
        "medical = pd.read_csv('/content/drive/MyDrive/Springboard/Frequentist Inference/insurance2.csv')"
      ]
    },
    {
      "cell_type": "code",
      "execution_count": 5,
      "metadata": {
        "colab": {
          "base_uri": "https://localhost:8080/"
        },
        "id": "J_wcnaDeGSK-",
        "outputId": "10b89985-5ece-4693-ccc9-1895e654320e"
      },
      "outputs": [
        {
          "output_type": "execute_result",
          "data": {
            "text/plain": [
              "(1338, 8)"
            ]
          },
          "metadata": {},
          "execution_count": 5
        }
      ],
      "source": [
        "medical.shape"
      ]
    },
    {
      "cell_type": "code",
      "execution_count": 6,
      "metadata": {
        "colab": {
          "base_uri": "https://localhost:8080/",
          "height": 206
        },
        "id": "8pQ0-vUeGSLA",
        "outputId": "5303623b-007c-42ed-db3f-89f1d4837db0"
      },
      "outputs": [
        {
          "output_type": "execute_result",
          "data": {
            "text/plain": [
              "   age  sex     bmi  children  smoker  region      charges  insuranceclaim\n",
              "0   19    0  27.900         0       1       3  16884.92400               1\n",
              "1   18    1  33.770         1       0       2   1725.55230               1\n",
              "2   28    1  33.000         3       0       2   4449.46200               0\n",
              "3   33    1  22.705         0       0       1  21984.47061               0\n",
              "4   32    1  28.880         0       0       1   3866.85520               1"
            ],
            "text/html": [
              "\n",
              "  <div id=\"df-47348e95-a7e1-4deb-8ea4-9bbc169a2050\">\n",
              "    <div class=\"colab-df-container\">\n",
              "      <div>\n",
              "<style scoped>\n",
              "    .dataframe tbody tr th:only-of-type {\n",
              "        vertical-align: middle;\n",
              "    }\n",
              "\n",
              "    .dataframe tbody tr th {\n",
              "        vertical-align: top;\n",
              "    }\n",
              "\n",
              "    .dataframe thead th {\n",
              "        text-align: right;\n",
              "    }\n",
              "</style>\n",
              "<table border=\"1\" class=\"dataframe\">\n",
              "  <thead>\n",
              "    <tr style=\"text-align: right;\">\n",
              "      <th></th>\n",
              "      <th>age</th>\n",
              "      <th>sex</th>\n",
              "      <th>bmi</th>\n",
              "      <th>children</th>\n",
              "      <th>smoker</th>\n",
              "      <th>region</th>\n",
              "      <th>charges</th>\n",
              "      <th>insuranceclaim</th>\n",
              "    </tr>\n",
              "  </thead>\n",
              "  <tbody>\n",
              "    <tr>\n",
              "      <th>0</th>\n",
              "      <td>19</td>\n",
              "      <td>0</td>\n",
              "      <td>27.900</td>\n",
              "      <td>0</td>\n",
              "      <td>1</td>\n",
              "      <td>3</td>\n",
              "      <td>16884.92400</td>\n",
              "      <td>1</td>\n",
              "    </tr>\n",
              "    <tr>\n",
              "      <th>1</th>\n",
              "      <td>18</td>\n",
              "      <td>1</td>\n",
              "      <td>33.770</td>\n",
              "      <td>1</td>\n",
              "      <td>0</td>\n",
              "      <td>2</td>\n",
              "      <td>1725.55230</td>\n",
              "      <td>1</td>\n",
              "    </tr>\n",
              "    <tr>\n",
              "      <th>2</th>\n",
              "      <td>28</td>\n",
              "      <td>1</td>\n",
              "      <td>33.000</td>\n",
              "      <td>3</td>\n",
              "      <td>0</td>\n",
              "      <td>2</td>\n",
              "      <td>4449.46200</td>\n",
              "      <td>0</td>\n",
              "    </tr>\n",
              "    <tr>\n",
              "      <th>3</th>\n",
              "      <td>33</td>\n",
              "      <td>1</td>\n",
              "      <td>22.705</td>\n",
              "      <td>0</td>\n",
              "      <td>0</td>\n",
              "      <td>1</td>\n",
              "      <td>21984.47061</td>\n",
              "      <td>0</td>\n",
              "    </tr>\n",
              "    <tr>\n",
              "      <th>4</th>\n",
              "      <td>32</td>\n",
              "      <td>1</td>\n",
              "      <td>28.880</td>\n",
              "      <td>0</td>\n",
              "      <td>0</td>\n",
              "      <td>1</td>\n",
              "      <td>3866.85520</td>\n",
              "      <td>1</td>\n",
              "    </tr>\n",
              "  </tbody>\n",
              "</table>\n",
              "</div>\n",
              "      <button class=\"colab-df-convert\" onclick=\"convertToInteractive('df-47348e95-a7e1-4deb-8ea4-9bbc169a2050')\"\n",
              "              title=\"Convert this dataframe to an interactive table.\"\n",
              "              style=\"display:none;\">\n",
              "        \n",
              "  <svg xmlns=\"http://www.w3.org/2000/svg\" height=\"24px\"viewBox=\"0 0 24 24\"\n",
              "       width=\"24px\">\n",
              "    <path d=\"M0 0h24v24H0V0z\" fill=\"none\"/>\n",
              "    <path d=\"M18.56 5.44l.94 2.06.94-2.06 2.06-.94-2.06-.94-.94-2.06-.94 2.06-2.06.94zm-11 1L8.5 8.5l.94-2.06 2.06-.94-2.06-.94L8.5 2.5l-.94 2.06-2.06.94zm10 10l.94 2.06.94-2.06 2.06-.94-2.06-.94-.94-2.06-.94 2.06-2.06.94z\"/><path d=\"M17.41 7.96l-1.37-1.37c-.4-.4-.92-.59-1.43-.59-.52 0-1.04.2-1.43.59L10.3 9.45l-7.72 7.72c-.78.78-.78 2.05 0 2.83L4 21.41c.39.39.9.59 1.41.59.51 0 1.02-.2 1.41-.59l7.78-7.78 2.81-2.81c.8-.78.8-2.07 0-2.86zM5.41 20L4 18.59l7.72-7.72 1.47 1.35L5.41 20z\"/>\n",
              "  </svg>\n",
              "      </button>\n",
              "      \n",
              "  <style>\n",
              "    .colab-df-container {\n",
              "      display:flex;\n",
              "      flex-wrap:wrap;\n",
              "      gap: 12px;\n",
              "    }\n",
              "\n",
              "    .colab-df-convert {\n",
              "      background-color: #E8F0FE;\n",
              "      border: none;\n",
              "      border-radius: 50%;\n",
              "      cursor: pointer;\n",
              "      display: none;\n",
              "      fill: #1967D2;\n",
              "      height: 32px;\n",
              "      padding: 0 0 0 0;\n",
              "      width: 32px;\n",
              "    }\n",
              "\n",
              "    .colab-df-convert:hover {\n",
              "      background-color: #E2EBFA;\n",
              "      box-shadow: 0px 1px 2px rgba(60, 64, 67, 0.3), 0px 1px 3px 1px rgba(60, 64, 67, 0.15);\n",
              "      fill: #174EA6;\n",
              "    }\n",
              "\n",
              "    [theme=dark] .colab-df-convert {\n",
              "      background-color: #3B4455;\n",
              "      fill: #D2E3FC;\n",
              "    }\n",
              "\n",
              "    [theme=dark] .colab-df-convert:hover {\n",
              "      background-color: #434B5C;\n",
              "      box-shadow: 0px 1px 3px 1px rgba(0, 0, 0, 0.15);\n",
              "      filter: drop-shadow(0px 1px 2px rgba(0, 0, 0, 0.3));\n",
              "      fill: #FFFFFF;\n",
              "    }\n",
              "  </style>\n",
              "\n",
              "      <script>\n",
              "        const buttonEl =\n",
              "          document.querySelector('#df-47348e95-a7e1-4deb-8ea4-9bbc169a2050 button.colab-df-convert');\n",
              "        buttonEl.style.display =\n",
              "          google.colab.kernel.accessAllowed ? 'block' : 'none';\n",
              "\n",
              "        async function convertToInteractive(key) {\n",
              "          const element = document.querySelector('#df-47348e95-a7e1-4deb-8ea4-9bbc169a2050');\n",
              "          const dataTable =\n",
              "            await google.colab.kernel.invokeFunction('convertToInteractive',\n",
              "                                                     [key], {});\n",
              "          if (!dataTable) return;\n",
              "\n",
              "          const docLinkHtml = 'Like what you see? Visit the ' +\n",
              "            '<a target=\"_blank\" href=https://colab.research.google.com/notebooks/data_table.ipynb>data table notebook</a>'\n",
              "            + ' to learn more about interactive tables.';\n",
              "          element.innerHTML = '';\n",
              "          dataTable['output_type'] = 'display_data';\n",
              "          await google.colab.output.renderOutput(dataTable, element);\n",
              "          const docLink = document.createElement('div');\n",
              "          docLink.innerHTML = docLinkHtml;\n",
              "          element.appendChild(docLink);\n",
              "        }\n",
              "      </script>\n",
              "    </div>\n",
              "  </div>\n",
              "  "
            ]
          },
          "metadata": {},
          "execution_count": 6
        }
      ],
      "source": [
        "medical.head()"
      ]
    },
    {
      "cell_type": "markdown",
      "metadata": {
        "id": "hYVy4O29GSLB"
      },
      "source": [
        "__Q1:__ Plot the histogram of charges and calculate the mean and standard deviation. Comment on the appropriateness of these statistics for the data."
      ]
    },
    {
      "cell_type": "markdown",
      "metadata": {
        "id": "0XK1x-7vGSLC"
      },
      "source": [
        "__A:__"
      ]
    },
    {
      "cell_type": "code",
      "execution_count": 7,
      "metadata": {
        "colab": {
          "base_uri": "https://localhost:8080/",
          "height": 265
        },
        "id": "pZrsm1fwGSLD",
        "outputId": "01e43bc3-952e-474b-fbfe-ab9fc44311f1"
      },
      "outputs": [
        {
          "output_type": "display_data",
          "data": {
            "text/plain": [
              "<Figure size 432x288 with 1 Axes>"
            ],
            "image/png": "[encoded data removed]"
          },
          "metadata": {
            "needs_background": "light"
          }
        }
      ],
      "source": [
        "_ = plt.hist(medical['charges'], bins=30)"
      ]
    },
    {
      "cell_type": "code",
      "execution_count": 8,
      "metadata": {
        "colab": {
          "base_uri": "https://localhost:8080/"
        },
        "id": "A1rzPo7dGSLD",
        "outputId": "d5f9b5aa-cf2a-40f3-bb60-0ee79e1f2c47"
      },
      "outputs": [
        {
          "output_type": "stream",
          "name": "stdout",
          "text": [
            "13270.422265141257\n"
          ]
        }
      ],
      "source": [
        "mean = np.mean(medical['charges'])\n",
        "print(mean)"
      ]
    },
    {
      "cell_type": "code",
      "source": [
        "std = np.std(medical['charges'])\n",
        "print(std)"
      ],
      "metadata": {
        "id": "E8ZoX-p1rWiL",
        "outputId": "eec1593d-f418-4d74-b442-8546c7fb50ce",
        "colab": {
          "base_uri": "https://localhost:8080/"
        }
      },
      "execution_count": 9,
      "outputs": [
        {
          "output_type": "stream",
          "name": "stdout",
          "text": [
            "12105.484975561612\n"
          ]
        }
      ]
    },
    {
      "cell_type": "markdown",
      "metadata": {
        "id": "z3RNKfA3GSLE"
      },
      "source": [
        "__Q2:__ The administrator is concerned that the actual average charge has fallen below 12,000, threatening the hospital's operational model. On the assumption that these data represent a random sample of charges, how would you justify that these data allow you to answer that question? And what would be the most appropriate frequentist test, of the ones discussed so far, to apply?"
      ]
    },
    {
      "cell_type": "markdown",
      "metadata": {
        "id": "IX5RqDioGSLE"
      },
      "source": [
        "__A:__ One sided confidence interval because we only care that the charge is above 12,000."
      ]
    },
    {
      "cell_type": "markdown",
      "metadata": {
        "id": "NdbOFzbeGSLE"
      },
      "source": [
        "__Q3:__ Given the nature of the administrator's concern, what is the appropriate confidence interval in this case? A ***one-sided*** or ***two-sided*** interval? (Refresh your understanding of this concept on p. 399 of the *AoS*). Calculate the critical value and the relevant 95% confidence interval for the mean, and comment on whether the administrator should be concerned."
      ]
    },
    {
      "cell_type": "markdown",
      "metadata": {
        "id": "Lm2WRLAKGSLF"
      },
      "source": [
        "__A:__ One Sided"
      ]
    },
    {
      "cell_type": "code",
      "execution_count": 23,
      "metadata": {
        "id": "PUYcuLeDGSLF",
        "colab": {
          "base_uri": "https://localhost:8080/"
        },
        "outputId": "26665d94-2ec2-44ae-f45f-4cb6838cc221"
      },
      "outputs": [
        {
          "output_type": "stream",
          "name": "stdout",
          "text": [
            "1.6448536269514722\n"
          ]
        }
      ],
      "source": [
        "n = 1338\n",
        "ppf = norm.ppf(.95)\n",
        "print (ppf)"
      ]
    },
    {
      "cell_type": "code",
      "execution_count": 24,
      "metadata": {
        "id": "zOelPu7IGSLG",
        "colab": {
          "base_uri": "https://localhost:8080/"
        },
        "outputId": "6c766b2b-f302-492e-a8ff-08e830668b68"
      },
      "outputs": [
        {
          "output_type": "stream",
          "name": "stdout",
          "text": [
            "544.353968135213\n"
          ]
        }
      ],
      "source": [
        "marginoferror = (t_ppf * std)/(n**0.5)\n",
        "print(marginoferror)"
      ]
    },
    {
      "cell_type": "code",
      "execution_count": 26,
      "metadata": {
        "id": "IQJ8XBQPGSLG",
        "colab": {
          "base_uri": "https://localhost:8080/"
        },
        "outputId": "e7b478ec-47b2-48c9-bf2a-339ca0f2d1d5"
      },
      "outputs": [
        {
          "output_type": "stream",
          "name": "stdout",
          "text": [
            "12726.068297006044\n"
          ]
        }
      ],
      "source": [
        "lowerinterval = mean - marginoferror\n",
        "\n",
        "print(lowerinterval)"
      ]
    },
    {
      "cell_type": "markdown",
      "source": [
        "They should not be concerned because the margin of error is above 12000"
      ],
      "metadata": {
        "id": "7-J0DaS-0v89"
      }
    },
    {
      "cell_type": "markdown",
      "metadata": {
        "id": "IBbjsW-vGSLG"
      },
      "source": [
        "The administrator then wants to know whether people with insurance really are charged a different amount to those without.\n",
        "\n",
        "__Q4:__ State the null and alternative hypothesis here. Use the _t_-test for the difference between means, where the pooled standard deviation of the two groups is given by:\n",
        "\\begin{equation}\n",
        "s_p = \\sqrt{\\frac{(n_0 - 1)s^2_0 + (n_1 - 1)s^2_1}{n_0 + n_1 - 2}}\n",
        "\\end{equation}\n",
        "\n",
        "and the *t*-test statistic is then given by:\n",
        "\n",
        "\\begin{equation}\n",
        "t = \\frac{\\bar{x}_0 - \\bar{x}_1}{s_p \\sqrt{1/n_0 + 1/n_1}}.\n",
        "\\end{equation}\n",
        "\n",
        "(If you need some reminding of the general definition of ***t-statistic***, check out the definition on p. 404 of *AoS*). \n",
        "\n",
        "What assumption about the variances of the two groups are we making here?"
      ]
    },
    {
      "cell_type": "markdown",
      "metadata": {
        "id": "IFCJrpqsGSLH"
      },
      "source": [
        "__A:__The null hypothesis is that people with insurance are charged the same as people without, and the alternative hypothesis is that people with insurance are charged differently than people without."
      ]
    },
    {
      "cell_type": "markdown",
      "metadata": {
        "id": "9HMqRPknGSLI"
      },
      "source": [
        "__Q5:__ Perform this hypothesis test both manually, using the above formulae, and then using the appropriate function from [scipy.stats](https://docs.scipy.org/doc/scipy/reference/stats.html#statistical-tests) (hint, you're looking for a function to perform a _t_-test on two independent samples). For the manual approach, calculate the value of the test statistic and then its probability (the p-value). Verify you get the same results from both."
      ]
    },
    {
      "cell_type": "markdown",
      "metadata": {
        "id": "AnhQ5-vHGSLI"
      },
      "source": [
        "__A:__ "
      ]
    },
    {
      "cell_type": "code",
      "execution_count": 28,
      "metadata": {
        "id": "IVK0sqtpGSLJ",
        "colab": {
          "base_uri": "https://localhost:8080/"
        },
        "outputId": "a86a297c-e086-4220-b1ed-c67ca7301951"
      },
      "outputs": [
        {
          "output_type": "execute_result",
          "data": {
            "text/plain": [
              "(-11.89329903087671, 4.461230231620972e-31)"
            ]
          },
          "metadata": {},
          "execution_count": 28
        }
      ],
      "source": [
        "charges1 = medical.charges[medical.insuranceclaim == 0]\n",
        "charges2 = medical.charges[medical.insuranceclaim == 1]\n",
        "n1 = len(x0)\n",
        "n2 = len(x1)\n",
        "mean1 = np.mean(x0)\n",
        "mean2 = np.mean(x1)\n",
        "sd1 = np.std(x0, ddof=1)\n",
        "sd2 = np.std(x1, ddof=1)\n",
        "sp = np.sqrt( ((n1 - 1) * sd1**2 + (n2 - 1) * sd2**2) / ( n1 + n2 - 2) )\n",
        "t_stat = ( mean1 - mean2 ) / ( sp * np.sqrt( 1/n1 + 1/n2 ) )\n",
        "\n",
        "total_dof = n1 + n2 - 2\n",
        "p_value = 2 * t.cdf(t_stat, df=total_dof)\n",
        "\n",
        "t_stat, p_value"
      ]
    },
    {
      "cell_type": "code",
      "execution_count": 32,
      "metadata": {
        "id": "LD0zJRsBGSLJ",
        "colab": {
          "base_uri": "https://localhost:8080/"
        },
        "outputId": "c0d4e6cb-a05a-4016-81e8-f6977cb39c55"
      },
      "outputs": [
        {
          "output_type": "execute_result",
          "data": {
            "text/plain": [
              "Ttest_indResult(statistic=-11.893299030876712, pvalue=4.461230231620717e-31)"
            ]
          },
          "metadata": {},
          "execution_count": 32
        }
      ],
      "source": [
        "ttest_ind_from_stats(mean1, sd1, n1, mean2, sd2, n2, equal_var=True, alternative='two-sided')"
      ]
    },
    {
      "cell_type": "code",
      "execution_count": null,
      "metadata": {
        "id": "KqWTRuWUGSLJ"
      },
      "outputs": [],
      "source": []
    },
    {
      "cell_type": "markdown",
      "metadata": {
        "id": "FPfCEpuiGSLK"
      },
      "source": [
        "Congratulations! Hopefully you got the exact same numerical results. This shows that you correctly calculated the numbers by hand. Secondly, you used the correct function and saw that it's much easier to use. All you need to do is pass your data to it."
      ]
    },
    {
      "cell_type": "markdown",
      "metadata": {
        "id": "mhGBINgrGSLK"
      },
      "source": [
        "__Q6:__ Conceptual question: look through the documentation for statistical test functions in scipy.stats. You'll see the above _t_-test for a sample, but can you see an equivalent one for performing a *z*-test from a sample? Comment on your answer."
      ]
    },
    {
      "cell_type": "markdown",
      "metadata": {
        "id": "KvGn_FsQGSLL"
      },
      "source": [
        "__A:__There's none that perform a z-test because a z-test is not used for samples."
      ]
    },
    {
      "cell_type": "markdown",
      "metadata": {
        "id": "6DC7WF3HGSLL"
      },
      "source": [
        "## Learning outcomes"
      ]
    },
    {
      "cell_type": "markdown",
      "metadata": {
        "id": "XpZRRjFgGSLM"
      },
      "source": [
        "Having completed this project notebook, you now have good hands-on experience:\n",
        "* using the central limit theorem to help you apply frequentist techniques to answer questions that pertain to very non-normally distributed data from the real world\n",
        "* performing inference using such data to answer business questions\n",
        "* forming a hypothesis and framing the null and alternative hypotheses\n",
        "* testing this using a _t_-test"
      ]
    }
  ],
  "metadata": {
    "kernelspec": {
      "display_name": "Python 3",
      "language": "python",
      "name": "python3"
    },
    "language_info": {
      "codemirror_mode": {
        "name": "ipython",
        "version": 3
      },
      "file_extension": ".py",
      "mimetype": "text/x-python",
      "name": "python",
      "nbconvert_exporter": "python",
      "pygments_lexer": "ipython3",
      "version": "3.7.3"
    },
    "colab": {
      "name": "Frequentist Inference Case Study - Part B (2).ipynb",
      "provenance": [],
      "include_colab_link": true
    }
  },
  "nbformat": 4,
  "nbformat_minor": 0
}