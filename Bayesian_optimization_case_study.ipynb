{
  "cells": [
    {
      "cell_type": "markdown",
      "metadata": {
        "id": "view-in-github",
        "colab_type": "text"
      },
      "source": [
        "<a href=\"https://colab.research.google.com/github/vanand102/DataScienceGuidedCapstone/blob/master/Bayesian_optimization_case_study.ipynb\" target=\"_parent\"><img src=\"https://colab.research.google.com/assets/colab-badge.svg\" alt=\"Open In Colab\"/></a>"
      ]
    },
    {
      "cell_type": "markdown",
      "metadata": {
        "id": "WNK7vbHo-KYU"
      },
      "source": [
        "## Bayesian methods of hyperparameter optimization"
      ]
    },
    {
      "cell_type": "markdown",
      "metadata": {
        "id": "BlFdvPwF-KYW"
      },
      "source": [
        "In addition to the random search and the grid search methods for selecting optimal hyperparameters, we can use Bayesian methods of probabilities to select the optimal hyperparameters for an algorithm.\n",
        "\n",
        "In this case study, we will be using the BayesianOptimization library to perform hyperparmater tuning. This library has very good documentation which you can find here: https://github.com/fmfn/BayesianOptimization\n",
        "\n",
        "You will need to install the Bayesian optimization module. Running a cell with an exclamation point in the beginning of the command will run it as a shell command — please do this to install this module from our notebook in the cell below."
      ]
    },
    {
      "cell_type": "code",
      "source": [
        "#Mount Google Drive\n",
        "from google.colab import drive\n",
        "drive.mount('/content/drive')"
      ],
      "metadata": {
        "colab": {
          "base_uri": "https://localhost:8080/"
        },
        "id": "Houu9FN-b0YX",
        "outputId": "221c9a34-1623-462a-ad17-cef66a4da4e6"
      },
      "execution_count": 23,
      "outputs": [
        {
          "output_type": "stream",
          "name": "stdout",
          "text": [
            "Drive already mounted at /content/drive; to attempt to forcibly remount, call drive.mount(\"/content/drive\", force_remount=True).\n"
          ]
        }
      ]
    },
    {
      "cell_type": "code",
      "source": [
        "#Import folder\n",
        "import sys\n",
        "sys.path.append('/content/drive/MyDrive/Springboard/Bayesian Optimization')"
      ],
      "metadata": {
        "id": "FM7FUdNHb02U"
      },
      "execution_count": 24,
      "outputs": []
    },
    {
      "cell_type": "code",
      "execution_count": 3,
      "metadata": {
        "colab": {
          "base_uri": "https://localhost:8080/"
        },
        "id": "Pssx080d-Ulf",
        "outputId": "28a80eea-1bfa-41e1-e813-5fb93d043fcb"
      },
      "outputs": [
        {
          "output_type": "stream",
          "name": "stdout",
          "text": [
            "Collecting bayesian-optimization==1.4.1\n",
            "  Downloading bayesian_optimization-1.4.1-py3-none-any.whl (18 kB)\n",
            "Requirement already satisfied: numpy>=1.9.0 in /usr/local/lib/python3.10/dist-packages (from bayesian-optimization==1.4.1) (1.22.4)\n",
            "Requirement already satisfied: scipy>=1.0.0 in /usr/local/lib/python3.10/dist-packages (from bayesian-optimization==1.4.1) (1.10.1)\n",
            "Requirement already satisfied: scikit-learn>=0.18.0 in /usr/local/lib/python3.10/dist-packages (from bayesian-optimization==1.4.1) (1.2.2)\n",
            "Collecting colorama (from bayesian-optimization==1.4.1)\n",
            "  Downloading colorama-0.4.6-py2.py3-none-any.whl (25 kB)\n",
            "Requirement already satisfied: joblib>=1.1.1 in /usr/local/lib/python3.10/dist-packages (from scikit-learn>=0.18.0->bayesian-optimization==1.4.1) (1.3.1)\n",
            "Requirement already satisfied: threadpoolctl>=2.0.0 in /usr/local/lib/python3.10/dist-packages (from scikit-learn>=0.18.0->bayesian-optimization==1.4.1) (3.2.0)\n",
            "\u001b[33mWARNING: The candidate selected for download or install is a yanked version: 'bayesian-optimization' candidate (version 1.4.1 at https://files.pythonhosted.org/packages/86/71/57ce5c1859e997b6a66fd368fcd940452032c7fb2208371117a693e5f70a/bayesian_optimization-1.4.1-py3-none-any.whl (from https://pypi.org/simple/bayesian-optimization/))\n",
            "Reason for being yanked: https://github.com/fmfn/BayesianOptimization/pull/388\u001b[0m\u001b[33m\n",
            "\u001b[0mInstalling collected packages: colorama, bayesian-optimization\n",
            "Successfully installed bayesian-optimization-1.4.1 colorama-0.4.6\n"
          ]
        }
      ],
      "source": [
        "%pip install bayesian-optimization==1.4.1"
      ]
    },
    {
      "cell_type": "code",
      "execution_count": 4,
      "metadata": {
        "ExecuteTime": {
          "end_time": "2019-04-22T16:39:09.312682Z",
          "start_time": "2019-04-22T16:39:09.309208Z"
        },
        "_kg_hide-input": true,
        "id": "l9nfFTyj-KYY"
      },
      "outputs": [],
      "source": [
        "import warnings\n",
        "warnings.filterwarnings('ignore')\n",
        "from sklearn.preprocessing import LabelEncoder\n",
        "import numpy as np\n",
        "import pandas as pd\n",
        "import lightgbm\n",
        "from bayes_opt import BayesianOptimization\n",
        "#from catboost import CatBoostClassifier, cv, Pool"
      ]
    },
    {
      "cell_type": "code",
      "execution_count": 5,
      "metadata": {
        "colab": {
          "base_uri": "https://localhost:8080/"
        },
        "id": "D16Dquw1AAK0",
        "outputId": "45b54a51-0421-47d3-f513-7d459ec52b7b"
      },
      "outputs": [
        {
          "output_type": "execute_result",
          "data": {
            "text/plain": [
              "['.config', 'drive', 'sample_data']"
            ]
          },
          "metadata": {},
          "execution_count": 5
        }
      ],
      "source": [
        "import os\n",
        "os.listdir()"
      ]
    },
    {
      "cell_type": "markdown",
      "metadata": {
        "ExecuteTime": {
          "end_time": "2019-04-22T14:48:15.929012Z",
          "start_time": "2019-04-22T14:48:15.926574Z"
        },
        "id": "AkBt3yds-KYu"
      },
      "source": [
        "## How does Bayesian optimization work?"
      ]
    },
    {
      "cell_type": "markdown",
      "metadata": {
        "id": "E1kyBCUs-KYv"
      },
      "source": [
        "Bayesian optimization works by constructing a posterior distribution of functions (Gaussian process) that best describes the function you want to optimize. As the number of observations grows, the posterior distribution improves, and the algorithm becomes more certain of which regions in parameter space are worth exploring and which are not, as seen in the picture below."
      ]
    },
    {
      "cell_type": "markdown",
      "metadata": {
        "id": "gAdHF72R-KYw"
      },
      "source": [
        "<img src=\"https://github.com/fmfn/BayesianOptimization/blob/master/examples/bo_example.png?raw=true\" />\n",
        "As you iterate over and over, the algorithm balances its needs of exploration and exploitation while taking into account what it knows about the target function. At each step, a Gaussian Process is fitted to the known samples (points previously explored), and the posterior distribution, combined with an exploration strategy (such as UCB — aka Upper Confidence Bound), or EI (Expected Improvement). This process is used to determine the next point that should be explored (see the gif below).\n",
        "<img src=\"https://github.com/fmfn/BayesianOptimization/raw/master/examples/bayesian_optimization.gif\" />"
      ]
    },
    {
      "cell_type": "markdown",
      "metadata": {
        "id": "RTP8KUlLoYzu"
      },
      "source": [
        "## Let's look at a simple example"
      ]
    },
    {
      "cell_type": "markdown",
      "metadata": {
        "id": "crpPqKdC-KYx"
      },
      "source": [
        "The first step is to create an optimizer. It uses two items:\n",
        "* function to optimize\n",
        "* bounds of parameters\n",
        "\n",
        "The function is the procedure that counts metrics of our model quality. The important thing is that our optimization will maximize the value on function. Smaller metrics are best. Hint: don't forget to use negative metric values."
      ]
    },
    {
      "cell_type": "markdown",
      "metadata": {
        "id": "e09ciF8gpTfr"
      },
      "source": [
        "Here we define our simple function we want to optimize."
      ]
    },
    {
      "cell_type": "code",
      "execution_count": 6,
      "metadata": {
        "id": "ofwvnfEwo5mG"
      },
      "outputs": [],
      "source": [
        "def simple_func(a, b):\n",
        "    return a + b"
      ]
    },
    {
      "cell_type": "markdown",
      "metadata": {
        "id": "XCGsdciCpeI3"
      },
      "source": [
        "Now, we define our bounds of the parameters to optimize, within the Bayesian optimizer."
      ]
    },
    {
      "cell_type": "code",
      "execution_count": 7,
      "metadata": {
        "id": "4jLYW2qnpOFr"
      },
      "outputs": [],
      "source": [
        "optimizer = BayesianOptimization(\n",
        "    simple_func,\n",
        "    {'a': (1, 3),\n",
        "    'b': (4, 7)})"
      ]
    },
    {
      "cell_type": "markdown",
      "metadata": {
        "id": "dg6LdYx8pq2T"
      },
      "source": [
        "These are the main parameters of this function:\n",
        "\n",
        "* **n_iter:** This is how many steps of Bayesian optimization you want to perform. The more steps, the more likely you are to find a good maximum.\n",
        "\n",
        "* **init_points:** This is how many steps of random exploration you want to perform. Random exploration can help by diversifying the exploration space."
      ]
    },
    {
      "cell_type": "markdown",
      "metadata": {
        "id": "i-GKMJ1uqMYv"
      },
      "source": [
        "Let's run an example where we use the optimizer to find the best values to maximize the target value for a and b given the inputs of 3 and 2."
      ]
    },
    {
      "cell_type": "code",
      "execution_count": 8,
      "metadata": {
        "colab": {
          "base_uri": "https://localhost:8080/"
        },
        "id": "Oy44Ro7wqNat",
        "outputId": "b17a9b41-2e6e-4deb-dddb-ffde709ccbdc"
      },
      "outputs": [
        {
          "output_type": "stream",
          "name": "stdout",
          "text": [
            "|   iter    |  target   |     a     |     b     |\n",
            "-------------------------------------------------\n",
            "| \u001b[0m1        \u001b[0m | \u001b[0m6.666    \u001b[0m | \u001b[0m1.575    \u001b[0m | \u001b[0m5.091    \u001b[0m |\n",
            "| \u001b[95m2        \u001b[0m | \u001b[95m7.697    \u001b[0m | \u001b[95m1.182    \u001b[0m | \u001b[95m6.516    \u001b[0m |\n",
            "| \u001b[95m3        \u001b[0m | \u001b[95m7.997    \u001b[0m | \u001b[95m1.491    \u001b[0m | \u001b[95m6.506    \u001b[0m |\n",
            "| \u001b[95m4        \u001b[0m | \u001b[95m8.962    \u001b[0m | \u001b[95m1.976    \u001b[0m | \u001b[95m6.986    \u001b[0m |\n",
            "| \u001b[95m5        \u001b[0m | \u001b[95m10.0     \u001b[0m | \u001b[95m3.0      \u001b[0m | \u001b[95m7.0      \u001b[0m |\n",
            "=================================================\n"
          ]
        }
      ],
      "source": [
        "optimizer.maximize(3,2)"
      ]
    },
    {
      "cell_type": "markdown",
      "metadata": {
        "id": "tyKFMF2Hq2Sx"
      },
      "source": [
        "Great, now let's print the best parameters and the associated maximized target."
      ]
    },
    {
      "cell_type": "code",
      "execution_count": 9,
      "metadata": {
        "colab": {
          "base_uri": "https://localhost:8080/"
        },
        "id": "_H6DixyfscV_",
        "outputId": "f2e24125-cbab-4ef8-e2ae-f3f7e984674c"
      },
      "outputs": [
        {
          "output_type": "stream",
          "name": "stdout",
          "text": [
            "{'a': 3.0, 'b': 7.0}\n"
          ]
        },
        {
          "output_type": "execute_result",
          "data": {
            "text/plain": [
              "10.0"
            ]
          },
          "metadata": {},
          "execution_count": 9
        }
      ],
      "source": [
        "print(optimizer.max['params']);optimizer.max['target']"
      ]
    },
    {
      "cell_type": "markdown",
      "metadata": {
        "id": "tQ1T1V6Mspi4"
      },
      "source": [
        "## Test it on real data using the Light GBM"
      ]
    },
    {
      "cell_type": "markdown",
      "metadata": {
        "id": "y_oGwREZkm4h"
      },
      "source": [
        "The dataset we will be working with is the famous flight departures dataset. Our modeling goal will be to predict if a flight departure is going to be delayed by 15 minutes based on the other attributes in our dataset. As part of this modeling exercise, we will use Bayesian hyperparameter optimization to identify the best parameters for our model."
      ]
    },
    {
      "cell_type": "markdown",
      "metadata": {
        "id": "abYSagjQANDZ"
      },
      "source": [
        "**<font color='teal'> You can load the zipped csv files just as you would regular csv files using Pandas read_csv. In the next cell load the train and test data into two seperate dataframes. </font>**\n"
      ]
    },
    {
      "cell_type": "code",
      "execution_count": 10,
      "metadata": {
        "id": "EWKBApVuAeJe"
      },
      "outputs": [],
      "source": [
        "train_df = pd.read_csv('/content/drive/MyDrive/Springboard/Bayesian Optimization/flight_delays_train.csv')\n",
        "test_df = pd.read_csv('/content/drive/MyDrive/Springboard/Bayesian Optimization/flight_delays_test.csv')"
      ]
    },
    {
      "cell_type": "markdown",
      "metadata": {
        "id": "OapNcT9Eikis"
      },
      "source": [
        "**<font color='teal'> Print the top five rows of the train dataframe and review the columns in the data. </font>**"
      ]
    },
    {
      "cell_type": "code",
      "execution_count": 11,
      "metadata": {
        "colab": {
          "base_uri": "https://localhost:8080/",
          "height": 206
        },
        "id": "__4cXZ8iiYaC",
        "outputId": "a6ba7a2b-94f6-4ed3-ff45-20fa8222c8b8"
      },
      "outputs": [
        {
          "output_type": "execute_result",
          "data": {
            "text/plain": [
              "  Month DayofMonth DayOfWeek  DepTime UniqueCarrier Origin Dest  Distance  \\\n",
              "0   c-8       c-21       c-7     1934            AA    ATL  DFW       732   \n",
              "1   c-4       c-20       c-3     1548            US    PIT  MCO       834   \n",
              "2   c-9        c-2       c-5     1422            XE    RDU  CLE       416   \n",
              "3  c-11       c-25       c-6     1015            OO    DEN  MEM       872   \n",
              "4  c-10        c-7       c-6     1828            WN    MDW  OMA       423   \n",
              "\n",
              "  dep_delayed_15min  \n",
              "0                 N  \n",
              "1                 N  \n",
              "2                 N  \n",
              "3                 N  \n",
              "4                 Y  "
            ],
            "text/html": [
              "\n",
              "\n",
              "  <div id=\"df-cbf88761-cefa-4822-bce6-05381ad61e5b\">\n",
              "    <div class=\"colab-df-container\">\n",
              "      <div>\n",
              "<style scoped>\n",
              "    .dataframe tbody tr th:only-of-type {\n",
              "        vertical-align: middle;\n",
              "    }\n",
              "\n",
              "    .dataframe tbody tr th {\n",
              "        vertical-align: top;\n",
              "    }\n",
              "\n",
              "    .dataframe thead th {\n",
              "        text-align: right;\n",
              "    }\n",
              "</style>\n",
              "<table border=\"1\" class=\"dataframe\">\n",
              "  <thead>\n",
              "    <tr style=\"text-align: right;\">\n",
              "      <th></th>\n",
              "      <th>Month</th>\n",
              "      <th>DayofMonth</th>\n",
              "      <th>DayOfWeek</th>\n",
              "      <th>DepTime</th>\n",
              "      <th>UniqueCarrier</th>\n",
              "      <th>Origin</th>\n",
              "      <th>Dest</th>\n",
              "      <th>Distance</th>\n",
              "      <th>dep_delayed_15min</th>\n",
              "    </tr>\n",
              "  </thead>\n",
              "  <tbody>\n",
              "    <tr>\n",
              "      <th>0</th>\n",
              "      <td>c-8</td>\n",
              "      <td>c-21</td>\n",
              "      <td>c-7</td>\n",
              "      <td>1934</td>\n",
              "      <td>AA</td>\n",
              "      <td>ATL</td>\n",
              "      <td>DFW</td>\n",
              "      <td>732</td>\n",
              "      <td>N</td>\n",
              "    </tr>\n",
              "    <tr>\n",
              "      <th>1</th>\n",
              "      <td>c-4</td>\n",
              "      <td>c-20</td>\n",
              "      <td>c-3</td>\n",
              "      <td>1548</td>\n",
              "      <td>US</td>\n",
              "      <td>PIT</td>\n",
              "      <td>MCO</td>\n",
              "      <td>834</td>\n",
              "      <td>N</td>\n",
              "    </tr>\n",
              "    <tr>\n",
              "      <th>2</th>\n",
              "      <td>c-9</td>\n",
              "      <td>c-2</td>\n",
              "      <td>c-5</td>\n",
              "      <td>1422</td>\n",
              "      <td>XE</td>\n",
              "      <td>RDU</td>\n",
              "      <td>CLE</td>\n",
              "      <td>416</td>\n",
              "      <td>N</td>\n",
              "    </tr>\n",
              "    <tr>\n",
              "      <th>3</th>\n",
              "      <td>c-11</td>\n",
              "      <td>c-25</td>\n",
              "      <td>c-6</td>\n",
              "      <td>1015</td>\n",
              "      <td>OO</td>\n",
              "      <td>DEN</td>\n",
              "      <td>MEM</td>\n",
              "      <td>872</td>\n",
              "      <td>N</td>\n",
              "    </tr>\n",
              "    <tr>\n",
              "      <th>4</th>\n",
              "      <td>c-10</td>\n",
              "      <td>c-7</td>\n",
              "      <td>c-6</td>\n",
              "      <td>1828</td>\n",
              "      <td>WN</td>\n",
              "      <td>MDW</td>\n",
              "      <td>OMA</td>\n",
              "      <td>423</td>\n",
              "      <td>Y</td>\n",
              "    </tr>\n",
              "  </tbody>\n",
              "</table>\n",
              "</div>\n",
              "      <button class=\"colab-df-convert\" onclick=\"convertToInteractive('df-cbf88761-cefa-4822-bce6-05381ad61e5b')\"\n",
              "              title=\"Convert this dataframe to an interactive table.\"\n",
              "              style=\"display:none;\">\n",
              "\n",
              "  <svg xmlns=\"http://www.w3.org/2000/svg\" height=\"24px\"viewBox=\"0 0 24 24\"\n",
              "       width=\"24px\">\n",
              "    <path d=\"M0 0h24v24H0V0z\" fill=\"none\"/>\n",
              "    <path d=\"M18.56 5.44l.94 2.06.94-2.06 2.06-.94-2.06-.94-.94-2.06-.94 2.06-2.06.94zm-11 1L8.5 8.5l.94-2.06 2.06-.94-2.06-.94L8.5 2.5l-.94 2.06-2.06.94zm10 10l.94 2.06.94-2.06 2.06-.94-2.06-.94-.94-2.06-.94 2.06-2.06.94z\"/><path d=\"M17.41 7.96l-1.37-1.37c-.4-.4-.92-.59-1.43-.59-.52 0-1.04.2-1.43.59L10.3 9.45l-7.72 7.72c-.78.78-.78 2.05 0 2.83L4 21.41c.39.39.9.59 1.41.59.51 0 1.02-.2 1.41-.59l7.78-7.78 2.81-2.81c.8-.78.8-2.07 0-2.86zM5.41 20L4 18.59l7.72-7.72 1.47 1.35L5.41 20z\"/>\n",
              "  </svg>\n",
              "      </button>\n",
              "\n",
              "\n",
              "\n",
              "    <div id=\"df-977f8bcd-686b-434b-aeaa-b07341e4c198\">\n",
              "      <button class=\"colab-df-quickchart\" onclick=\"quickchart('df-977f8bcd-686b-434b-aeaa-b07341e4c198')\"\n",
              "              title=\"Suggest charts.\"\n",
              "              style=\"display:none;\">\n",
              "\n",
              "<svg xmlns=\"http://www.w3.org/2000/svg\" height=\"24px\"viewBox=\"0 0 24 24\"\n",
              "     width=\"24px\">\n",
              "    <g>\n",
              "        <path d=\"M19 3H5c-1.1 0-2 .9-2 2v14c0 1.1.9 2 2 2h14c1.1 0 2-.9 2-2V5c0-1.1-.9-2-2-2zM9 17H7v-7h2v7zm4 0h-2V7h2v10zm4 0h-2v-4h2v4z\"/>\n",
              "    </g>\n",
              "</svg>\n",
              "      </button>\n",
              "    </div>\n",
              "\n",
              "<style>\n",
              "  .colab-df-quickchart {\n",
              "    background-color: #E8F0FE;\n",
              "    border: none;\n",
              "    border-radius: 50%;\n",
              "    cursor: pointer;\n",
              "    display: none;\n",
              "    fill: #1967D2;\n",
              "    height: 32px;\n",
              "    padding: 0 0 0 0;\n",
              "    width: 32px;\n",
              "  }\n",
              "\n",
              "  .colab-df-quickchart:hover {\n",
              "    background-color: #E2EBFA;\n",
              "    box-shadow: 0px 1px 2px rgba(60, 64, 67, 0.3), 0px 1px 3px 1px rgba(60, 64, 67, 0.15);\n",
              "    fill: #174EA6;\n",
              "  }\n",
              "\n",
              "  [theme=dark] .colab-df-quickchart {\n",
              "    background-color: #3B4455;\n",
              "    fill: #D2E3FC;\n",
              "  }\n",
              "\n",
              "  [theme=dark] .colab-df-quickchart:hover {\n",
              "    background-color: #434B5C;\n",
              "    box-shadow: 0px 1px 3px 1px rgba(0, 0, 0, 0.15);\n",
              "    filter: drop-shadow(0px 1px 2px rgba(0, 0, 0, 0.3));\n",
              "    fill: #FFFFFF;\n",
              "  }\n",
              "</style>\n",
              "\n",
              "    <script>\n",
              "      async function quickchart(key) {\n",
              "        const containerElement = document.querySelector('#' + key);\n",
              "        const charts = await google.colab.kernel.invokeFunction(\n",
              "            'suggestCharts', [key], {});\n",
              "      }\n",
              "    </script>\n",
              "\n",
              "      <script>\n",
              "\n",
              "function displayQuickchartButton(domScope) {\n",
              "  let quickchartButtonEl =\n",
              "    domScope.querySelector('#df-977f8bcd-686b-434b-aeaa-b07341e4c198 button.colab-df-quickchart');\n",
              "  quickchartButtonEl.style.display =\n",
              "    google.colab.kernel.accessAllowed ? 'block' : 'none';\n",
              "}\n",
              "\n",
              "        displayQuickchartButton(document);\n",
              "      </script>\n",
              "      <style>\n",
              "    .colab-df-container {\n",
              "      display:flex;\n",
              "      flex-wrap:wrap;\n",
              "      gap: 12px;\n",
              "    }\n",
              "\n",
              "    .colab-df-convert {\n",
              "      background-color: #E8F0FE;\n",
              "      border: none;\n",
              "      border-radius: 50%;\n",
              "      cursor: pointer;\n",
              "      display: none;\n",
              "      fill: #1967D2;\n",
              "      height: 32px;\n",
              "      padding: 0 0 0 0;\n",
              "      width: 32px;\n",
              "    }\n",
              "\n",
              "    .colab-df-convert:hover {\n",
              "      background-color: #E2EBFA;\n",
              "      box-shadow: 0px 1px 2px rgba(60, 64, 67, 0.3), 0px 1px 3px 1px rgba(60, 64, 67, 0.15);\n",
              "      fill: #174EA6;\n",
              "    }\n",
              "\n",
              "    [theme=dark] .colab-df-convert {\n",
              "      background-color: #3B4455;\n",
              "      fill: #D2E3FC;\n",
              "    }\n",
              "\n",
              "    [theme=dark] .colab-df-convert:hover {\n",
              "      background-color: #434B5C;\n",
              "      box-shadow: 0px 1px 3px 1px rgba(0, 0, 0, 0.15);\n",
              "      filter: drop-shadow(0px 1px 2px rgba(0, 0, 0, 0.3));\n",
              "      fill: #FFFFFF;\n",
              "    }\n",
              "  </style>\n",
              "\n",
              "      <script>\n",
              "        const buttonEl =\n",
              "          document.querySelector('#df-cbf88761-cefa-4822-bce6-05381ad61e5b button.colab-df-convert');\n",
              "        buttonEl.style.display =\n",
              "          google.colab.kernel.accessAllowed ? 'block' : 'none';\n",
              "\n",
              "        async function convertToInteractive(key) {\n",
              "          const element = document.querySelector('#df-cbf88761-cefa-4822-bce6-05381ad61e5b');\n",
              "          const dataTable =\n",
              "            await google.colab.kernel.invokeFunction('convertToInteractive',\n",
              "                                                     [key], {});\n",
              "          if (!dataTable) return;\n",
              "\n",
              "          const docLinkHtml = 'Like what you see? Visit the ' +\n",
              "            '<a target=\"_blank\" href=https://colab.research.google.com/notebooks/data_table.ipynb>data table notebook</a>'\n",
              "            + ' to learn more about interactive tables.';\n",
              "          element.innerHTML = '';\n",
              "          dataTable['output_type'] = 'display_data';\n",
              "          await google.colab.output.renderOutput(dataTable, element);\n",
              "          const docLink = document.createElement('div');\n",
              "          docLink.innerHTML = docLinkHtml;\n",
              "          element.appendChild(docLink);\n",
              "        }\n",
              "      </script>\n",
              "    </div>\n",
              "  </div>\n"
            ]
          },
          "metadata": {},
          "execution_count": 11
        }
      ],
      "source": [
        "train_df.head()"
      ]
    },
    {
      "cell_type": "markdown",
      "metadata": {
        "id": "UxGBsPQhffgd"
      },
      "source": [
        "**<font color='teal'> Use the describe function to review the numeric columns in the train dataframe. </font>**"
      ]
    },
    {
      "cell_type": "code",
      "execution_count": 12,
      "metadata": {
        "colab": {
          "base_uri": "https://localhost:8080/",
          "height": 300
        },
        "id": "_bRRKG3DAtae",
        "outputId": "656b2222-5597-4dca-d998-bb64af33d09b"
      },
      "outputs": [
        {
          "output_type": "execute_result",
          "data": {
            "text/plain": [
              "             DepTime      Distance\n",
              "count  100000.000000  100000.00000\n",
              "mean     1341.523880     729.39716\n",
              "std       476.378445     574.61686\n",
              "min         1.000000      30.00000\n",
              "25%       931.000000     317.00000\n",
              "50%      1330.000000     575.00000\n",
              "75%      1733.000000     957.00000\n",
              "max      2534.000000    4962.00000"
            ],
            "text/html": [
              "\n",
              "\n",
              "  <div id=\"df-6d279290-9170-4901-99f8-31537f69373f\">\n",
              "    <div class=\"colab-df-container\">\n",
              "      <div>\n",
              "<style scoped>\n",
              "    .dataframe tbody tr th:only-of-type {\n",
              "        vertical-align: middle;\n",
              "    }\n",
              "\n",
              "    .dataframe tbody tr th {\n",
              "        vertical-align: top;\n",
              "    }\n",
              "\n",
              "    .dataframe thead th {\n",
              "        text-align: right;\n",
              "    }\n",
              "</style>\n",
              "<table border=\"1\" class=\"dataframe\">\n",
              "  <thead>\n",
              "    <tr style=\"text-align: right;\">\n",
              "      <th></th>\n",
              "      <th>DepTime</th>\n",
              "      <th>Distance</th>\n",
              "    </tr>\n",
              "  </thead>\n",
              "  <tbody>\n",
              "    <tr>\n",
              "      <th>count</th>\n",
              "      <td>100000.000000</td>\n",
              "      <td>100000.00000</td>\n",
              "    </tr>\n",
              "    <tr>\n",
              "      <th>mean</th>\n",
              "      <td>1341.523880</td>\n",
              "      <td>729.39716</td>\n",
              "    </tr>\n",
              "    <tr>\n",
              "      <th>std</th>\n",
              "      <td>476.378445</td>\n",
              "      <td>574.61686</td>\n",
              "    </tr>\n",
              "    <tr>\n",
              "      <th>min</th>\n",
              "      <td>1.000000</td>\n",
              "      <td>30.00000</td>\n",
              "    </tr>\n",
              "    <tr>\n",
              "      <th>25%</th>\n",
              "      <td>931.000000</td>\n",
              "      <td>317.00000</td>\n",
              "    </tr>\n",
              "    <tr>\n",
              "      <th>50%</th>\n",
              "      <td>1330.000000</td>\n",
              "      <td>575.00000</td>\n",
              "    </tr>\n",
              "    <tr>\n",
              "      <th>75%</th>\n",
              "      <td>1733.000000</td>\n",
              "      <td>957.00000</td>\n",
              "    </tr>\n",
              "    <tr>\n",
              "      <th>max</th>\n",
              "      <td>2534.000000</td>\n",
              "      <td>4962.00000</td>\n",
              "    </tr>\n",
              "  </tbody>\n",
              "</table>\n",
              "</div>\n",
              "      <button class=\"colab-df-convert\" onclick=\"convertToInteractive('df-6d279290-9170-4901-99f8-31537f69373f')\"\n",
              "              title=\"Convert this dataframe to an interactive table.\"\n",
              "              style=\"display:none;\">\n",
              "\n",
              "  <svg xmlns=\"http://www.w3.org/2000/svg\" height=\"24px\"viewBox=\"0 0 24 24\"\n",
              "       width=\"24px\">\n",
              "    <path d=\"M0 0h24v24H0V0z\" fill=\"none\"/>\n",
              "    <path d=\"M18.56 5.44l.94 2.06.94-2.06 2.06-.94-2.06-.94-.94-2.06-.94 2.06-2.06.94zm-11 1L8.5 8.5l.94-2.06 2.06-.94-2.06-.94L8.5 2.5l-.94 2.06-2.06.94zm10 10l.94 2.06.94-2.06 2.06-.94-2.06-.94-.94-2.06-.94 2.06-2.06.94z\"/><path d=\"M17.41 7.96l-1.37-1.37c-.4-.4-.92-.59-1.43-.59-.52 0-1.04.2-1.43.59L10.3 9.45l-7.72 7.72c-.78.78-.78 2.05 0 2.83L4 21.41c.39.39.9.59 1.41.59.51 0 1.02-.2 1.41-.59l7.78-7.78 2.81-2.81c.8-.78.8-2.07 0-2.86zM5.41 20L4 18.59l7.72-7.72 1.47 1.35L5.41 20z\"/>\n",
              "  </svg>\n",
              "      </button>\n",
              "\n",
              "\n",
              "\n",
              "    <div id=\"df-8e5ece1c-541f-43f9-9173-1f4c17d417c1\">\n",
              "      <button class=\"colab-df-quickchart\" onclick=\"quickchart('df-8e5ece1c-541f-43f9-9173-1f4c17d417c1')\"\n",
              "              title=\"Suggest charts.\"\n",
              "              style=\"display:none;\">\n",
              "\n",
              "<svg xmlns=\"http://www.w3.org/2000/svg\" height=\"24px\"viewBox=\"0 0 24 24\"\n",
              "     width=\"24px\">\n",
              "    <g>\n",
              "        <path d=\"M19 3H5c-1.1 0-2 .9-2 2v14c0 1.1.9 2 2 2h14c1.1 0 2-.9 2-2V5c0-1.1-.9-2-2-2zM9 17H7v-7h2v7zm4 0h-2V7h2v10zm4 0h-2v-4h2v4z\"/>\n",
              "    </g>\n",
              "</svg>\n",
              "      </button>\n",
              "    </div>\n",
              "\n",
              "<style>\n",
              "  .colab-df-quickchart {\n",
              "    background-color: #E8F0FE;\n",
              "    border: none;\n",
              "    border-radius: 50%;\n",
              "    cursor: pointer;\n",
              "    display: none;\n",
              "    fill: #1967D2;\n",
              "    height: 32px;\n",
              "    padding: 0 0 0 0;\n",
              "    width: 32px;\n",
              "  }\n",
              "\n",
              "  .colab-df-quickchart:hover {\n",
              "    background-color: #E2EBFA;\n",
              "    box-shadow: 0px 1px 2px rgba(60, 64, 67, 0.3), 0px 1px 3px 1px rgba(60, 64, 67, 0.15);\n",
              "    fill: #174EA6;\n",
              "  }\n",
              "\n",
              "  [theme=dark] .colab-df-quickchart {\n",
              "    background-color: #3B4455;\n",
              "    fill: #D2E3FC;\n",
              "  }\n",
              "\n",
              "  [theme=dark] .colab-df-quickchart:hover {\n",
              "    background-color: #434B5C;\n",
              "    box-shadow: 0px 1px 3px 1px rgba(0, 0, 0, 0.15);\n",
              "    filter: drop-shadow(0px 1px 2px rgba(0, 0, 0, 0.3));\n",
              "    fill: #FFFFFF;\n",
              "  }\n",
              "</style>\n",
              "\n",
              "    <script>\n",
              "      async function quickchart(key) {\n",
              "        const containerElement = document.querySelector('#' + key);\n",
              "        const charts = await google.colab.kernel.invokeFunction(\n",
              "            'suggestCharts', [key], {});\n",
              "      }\n",
              "    </script>\n",
              "\n",
              "      <script>\n",
              "\n",
              "function displayQuickchartButton(domScope) {\n",
              "  let quickchartButtonEl =\n",
              "    domScope.querySelector('#df-8e5ece1c-541f-43f9-9173-1f4c17d417c1 button.colab-df-quickchart');\n",
              "  quickchartButtonEl.style.display =\n",
              "    google.colab.kernel.accessAllowed ? 'block' : 'none';\n",
              "}\n",
              "\n",
              "        displayQuickchartButton(document);\n",
              "      </script>\n",
              "      <style>\n",
              "    .colab-df-container {\n",
              "      display:flex;\n",
              "      flex-wrap:wrap;\n",
              "      gap: 12px;\n",
              "    }\n",
              "\n",
              "    .colab-df-convert {\n",
              "      background-color: #E8F0FE;\n",
              "      border: none;\n",
              "      border-radius: 50%;\n",
              "      cursor: pointer;\n",
              "      display: none;\n",
              "      fill: #1967D2;\n",
              "      height: 32px;\n",
              "      padding: 0 0 0 0;\n",
              "      width: 32px;\n",
              "    }\n",
              "\n",
              "    .colab-df-convert:hover {\n",
              "      background-color: #E2EBFA;\n",
              "      box-shadow: 0px 1px 2px rgba(60, 64, 67, 0.3), 0px 1px 3px 1px rgba(60, 64, 67, 0.15);\n",
              "      fill: #174EA6;\n",
              "    }\n",
              "\n",
              "    [theme=dark] .colab-df-convert {\n",
              "      background-color: #3B4455;\n",
              "      fill: #D2E3FC;\n",
              "    }\n",
              "\n",
              "    [theme=dark] .colab-df-convert:hover {\n",
              "      background-color: #434B5C;\n",
              "      box-shadow: 0px 1px 3px 1px rgba(0, 0, 0, 0.15);\n",
              "      filter: drop-shadow(0px 1px 2px rgba(0, 0, 0, 0.3));\n",
              "      fill: #FFFFFF;\n",
              "    }\n",
              "  </style>\n",
              "\n",
              "      <script>\n",
              "        const buttonEl =\n",
              "          document.querySelector('#df-6d279290-9170-4901-99f8-31537f69373f button.colab-df-convert');\n",
              "        buttonEl.style.display =\n",
              "          google.colab.kernel.accessAllowed ? 'block' : 'none';\n",
              "\n",
              "        async function convertToInteractive(key) {\n",
              "          const element = document.querySelector('#df-6d279290-9170-4901-99f8-31537f69373f');\n",
              "          const dataTable =\n",
              "            await google.colab.kernel.invokeFunction('convertToInteractive',\n",
              "                                                     [key], {});\n",
              "          if (!dataTable) return;\n",
              "\n",
              "          const docLinkHtml = 'Like what you see? Visit the ' +\n",
              "            '<a target=\"_blank\" href=https://colab.research.google.com/notebooks/data_table.ipynb>data table notebook</a>'\n",
              "            + ' to learn more about interactive tables.';\n",
              "          element.innerHTML = '';\n",
              "          dataTable['output_type'] = 'display_data';\n",
              "          await google.colab.output.renderOutput(dataTable, element);\n",
              "          const docLink = document.createElement('div');\n",
              "          docLink.innerHTML = docLinkHtml;\n",
              "          element.appendChild(docLink);\n",
              "        }\n",
              "      </script>\n",
              "    </div>\n",
              "  </div>\n"
            ]
          },
          "metadata": {},
          "execution_count": 12
        }
      ],
      "source": [
        "train_df.describe()"
      ]
    },
    {
      "cell_type": "markdown",
      "metadata": {
        "id": "i6k-_fI5Aiyh"
      },
      "source": [
        "Notice, `DepTime` is the departure time in a numeric representation in 2400 hours."
      ]
    },
    {
      "cell_type": "markdown",
      "metadata": {
        "id": "gtZS4-hrlQah"
      },
      "source": [
        " **<font color='teal'>The response variable is 'dep_delayed_15min' which is a categorical column, so we need to map the Y for yes and N for no values to 1 and 0. Run the code in the next cell to do this.</font>**"
      ]
    },
    {
      "cell_type": "code",
      "execution_count": 13,
      "metadata": {
        "ExecuteTime": {
          "end_time": "2019-04-22T15:38:42.677690Z",
          "start_time": "2019-04-22T15:38:42.481963Z"
        },
        "id": "yRlOTbnW-KYc"
      },
      "outputs": [],
      "source": [
        "#train_df = train_df[train_df.DepTime <= 2400].copy()\n",
        "y_train = train_df['dep_delayed_15min'].map({'Y': 1, 'N': 0}).values"
      ]
    },
    {
      "cell_type": "markdown",
      "metadata": {
        "id": "z3WPkFQO9uo9"
      },
      "source": [
        "## Feature Engineering\n",
        "Use these defined functions to create additional features for the model. Run the cell to add the functions to your workspace."
      ]
    },
    {
      "cell_type": "code",
      "execution_count": 14,
      "metadata": {
        "id": "cXqsqz5W9t3r"
      },
      "outputs": [],
      "source": [
        "def label_enc(df_column):\n",
        "    df_column = LabelEncoder().fit_transform(df_column)\n",
        "    return df_column\n",
        "\n",
        "def make_harmonic_features_sin(value, period=2400):\n",
        "    value *= 2 * np.pi / period\n",
        "    return np.sin(value)\n",
        "\n",
        "def make_harmonic_features_cos(value, period=2400):\n",
        "    value *= 2 * np.pi / period\n",
        "    return np.cos(value)\n",
        "\n",
        "def feature_eng(df):\n",
        "    df['flight'] = df['Origin']+df['Dest']\n",
        "    df['Month'] = df.Month.map(lambda x: x.split('-')[-1]).astype('int32')\n",
        "    df['DayofMonth'] = df.DayofMonth.map(lambda x: x.split('-')[-1]).astype('uint8')\n",
        "    df['begin_of_month'] = (df['DayofMonth'] < 10).astype('uint8')\n",
        "    df['midddle_of_month'] = ((df['DayofMonth'] >= 10)&(df['DayofMonth'] < 20)).astype('uint8')\n",
        "    df['end_of_month'] = (df['DayofMonth'] >= 20).astype('uint8')\n",
        "    df['DayOfWeek'] = df.DayOfWeek.map(lambda x: x.split('-')[-1]).astype('uint8')\n",
        "    df['hour'] = df.DepTime.map(lambda x: x/100).astype('int32')\n",
        "    df['morning'] = df['hour'].map(lambda x: 1 if (x <= 11)& (x >= 7) else 0).astype('uint8')\n",
        "    df['day'] = df['hour'].map(lambda x: 1 if (x >= 12) & (x <= 18) else 0).astype('uint8')\n",
        "    df['evening'] = df['hour'].map(lambda x: 1 if (x >= 19) & (x <= 23) else 0).astype('uint8')\n",
        "    df['night'] = df['hour'].map(lambda x: 1 if (x >= 0) & (x <= 6) else 0).astype('int32')\n",
        "    df['winter'] = df['Month'].map(lambda x: x in [12, 1, 2]).astype('int32')\n",
        "    df['spring'] = df['Month'].map(lambda x: x in [3, 4, 5]).astype('int32')\n",
        "    df['summer'] = df['Month'].map(lambda x: x in [6, 7, 8]).astype('int32')\n",
        "    df['autumn'] = df['Month'].map(lambda x: x in [9, 10, 11]).astype('int32')\n",
        "    df['holiday'] = (df['DayOfWeek'] >= 5).astype(int)\n",
        "    df['weekday'] = (df['DayOfWeek'] < 5).astype(int)\n",
        "    df['airport_dest_per_month'] = df.groupby(['Dest', 'Month'])['Dest'].transform('count')\n",
        "    df['airport_origin_per_month'] = df.groupby(['Origin', 'Month'])['Origin'].transform('count')\n",
        "    df['airport_dest_count'] = df.groupby(['Dest'])['Dest'].transform('count')\n",
        "    df['airport_origin_count'] = df.groupby(['Origin'])['Origin'].transform('count')\n",
        "    df['carrier_count'] = df.groupby(['UniqueCarrier'])['Dest'].transform('count')\n",
        "    df['carrier_count_per month'] = df.groupby(['UniqueCarrier', 'Month'])['Dest'].transform('count')\n",
        "    df['deptime_cos'] = df['DepTime'].map(make_harmonic_features_cos)\n",
        "    df['deptime_sin'] = df['DepTime'].map(make_harmonic_features_sin)\n",
        "    df['flightUC'] = df['flight']+df['UniqueCarrier']\n",
        "    df['DestUC'] = df['Dest']+df['UniqueCarrier']\n",
        "    df['OriginUC'] = df['Origin']+df['UniqueCarrier']\n",
        "    return df.drop('DepTime', axis=1)"
      ]
    },
    {
      "cell_type": "markdown",
      "metadata": {
        "id": "-BYbxXpU-FGE"
      },
      "source": [
        "Concatenate the training and testing dataframes.\n"
      ]
    },
    {
      "cell_type": "code",
      "execution_count": 15,
      "metadata": {
        "id": "Cj6bfSNw_RAf"
      },
      "outputs": [],
      "source": [
        "full_df = pd.concat([train_df.drop('dep_delayed_15min', axis=1), test_df])\n",
        "full_df = feature_eng(full_df)"
      ]
    },
    {
      "cell_type": "markdown",
      "metadata": {
        "id": "GSO8JbfM_W-F"
      },
      "source": [
        "Apply the earlier defined feature engineering functions to the full dataframe."
      ]
    },
    {
      "cell_type": "code",
      "execution_count": 16,
      "metadata": {
        "id": "x6RfAINftjwi"
      },
      "outputs": [],
      "source": [
        "for column in ['UniqueCarrier', 'Origin', 'Dest','flight',  'flightUC', 'DestUC', 'OriginUC']:\n",
        "    full_df[column] = label_enc(full_df[column])"
      ]
    },
    {
      "cell_type": "markdown",
      "metadata": {
        "id": "IJAw1RGB_ZuM"
      },
      "source": [
        "\n",
        "Split the new full dataframe into X_train and X_test."
      ]
    },
    {
      "cell_type": "code",
      "execution_count": 17,
      "metadata": {
        "id": "15cPtQU5tjfz"
      },
      "outputs": [],
      "source": [
        "X_train = full_df[:train_df.shape[0]]\n",
        "X_test = full_df[train_df.shape[0]:]"
      ]
    },
    {
      "cell_type": "markdown",
      "metadata": {
        "id": "umfAw-9JErLV"
      },
      "source": [
        "Create a list of the categorical features."
      ]
    },
    {
      "cell_type": "code",
      "execution_count": 18,
      "metadata": {
        "ExecuteTime": {
          "end_time": "2019-04-22T14:31:58.412296Z",
          "start_time": "2019-04-22T14:31:58.409088Z"
        },
        "id": "5ibeVyNb-KZI"
      },
      "outputs": [],
      "source": [
        "categorical_features = ['Month',  'DayOfWeek', 'UniqueCarrier', 'Origin', 'Dest','flight',  'flightUC', 'DestUC', 'OriginUC']"
      ]
    },
    {
      "cell_type": "markdown",
      "metadata": {
        "id": "NzMIsMPIETVk"
      },
      "source": [
        "Let's build a light GBM model to test the bayesian optimizer."
      ]
    },
    {
      "cell_type": "markdown",
      "metadata": {
        "ExecuteTime": {
          "end_time": "2019-04-22T15:18:04.466965Z",
          "start_time": "2019-04-22T15:18:04.457992Z"
        },
        "id": "2hfm1i5G-KZH"
      },
      "source": [
        "### [LightGBM](https://lightgbm.readthedocs.io/en/latest/) is a gradient boosting framework that uses tree-based learning algorithms. It is designed to be distributed and efficient with the following advantages:\n",
        "\n",
        "* Faster training speed and higher efficiency.\n",
        "* Lower memory usage.\n",
        "* Better accuracy.\n",
        "* Support of parallel and GPU learning.\n",
        "* Capable of handling large-scale data."
      ]
    },
    {
      "cell_type": "markdown",
      "metadata": {
        "id": "jf-3F2Wg-KZL"
      },
      "source": [
        "First, we define the function we want to maximize and that will count cross-validation metrics of lightGBM for our parameters.\n",
        "\n",
        "Some params such as num_leaves, max_depth, min_child_samples, min_data_in_leaf should be integers."
      ]
    },
    {
      "cell_type": "code",
      "execution_count": 19,
      "metadata": {
        "ExecuteTime": {
          "end_time": "2019-04-22T15:40:14.034265Z",
          "start_time": "2019-04-22T15:40:14.027868Z"
        },
        "id": "LyUJBhGX-KZM"
      },
      "outputs": [],
      "source": [
        "def lgb_eval(num_leaves,max_depth,lambda_l2,lambda_l1,min_child_samples, min_data_in_leaf):\n",
        "    params = {\n",
        "        \"objective\" : \"binary\",\n",
        "        \"metric\" : \"auc\",\n",
        "        'is_unbalance': True,\n",
        "        \"num_leaves\" : int(num_leaves),\n",
        "        \"max_depth\" : int(max_depth),\n",
        "        \"lambda_l2\" : lambda_l2,\n",
        "        \"lambda_l1\" : lambda_l1,\n",
        "        \"num_threads\" : 20,\n",
        "        \"min_child_samples\" : int(min_child_samples),\n",
        "        'min_data_in_leaf': int(min_data_in_leaf),\n",
        "        \"learning_rate\" : 0.03,\n",
        "        \"subsample_freq\" : 5,\n",
        "        \"bagging_seed\" : 42,\n",
        "        \"verbosity\" : -1\n",
        "    }\n",
        "    lgtrain = lightgbm.Dataset(X_train, y_train,categorical_feature=categorical_features)\n",
        "    cv_result = lightgbm.cv(params,\n",
        "                       lgtrain,\n",
        "                       1000,\n",
        "                       early_stopping_rounds=100,\n",
        "                       stratified=True,\n",
        "                       nfold=3)\n",
        "    return cv_result['auc-mean'][-1]"
      ]
    },
    {
      "cell_type": "markdown",
      "metadata": {
        "id": "FJwqBhdeF11Q"
      },
      "source": [
        "Apply the Bayesian optimizer to the function we created in the previous step to identify the best hyperparameters. We will run 10 iterations and set init_points = 2.\n"
      ]
    },
    {
      "cell_type": "code",
      "execution_count": 20,
      "metadata": {
        "ExecuteTime": {
          "end_time": "2019-04-22T15:48:04.682447Z",
          "start_time": "2019-04-22T15:40:14.641634Z"
        },
        "colab": {
          "base_uri": "https://localhost:8080/"
        },
        "id": "JheCOkUE-KZP",
        "outputId": "06be0ed4-e02c-4dc8-8c3f-08a26c560abf"
      },
      "outputs": [
        {
          "output_type": "stream",
          "name": "stdout",
          "text": [
            "|   iter    |  target   | lambda_l1 | lambda_l2 | max_depth | min_ch... | min_da... | num_le... |\n",
            "-------------------------------------------------------------------------------------------------\n",
            "[LightGBM] [Warning] min_data_in_leaf is set=1020, min_child_samples=1949 will be ignored. Current value: min_data_in_leaf=1020\n",
            "| \u001b[0m1        \u001b[0m | \u001b[0m0.7329   \u001b[0m | \u001b[0m0.04721  \u001b[0m | \u001b[0m0.04209  \u001b[0m | \u001b[0m61.47    \u001b[0m | \u001b[0m1.95e+03 \u001b[0m | \u001b[0m1.02e+03 \u001b[0m | \u001b[0m1.415e+03\u001b[0m |\n",
            "| \u001b[95m2        \u001b[0m | \u001b[95m0.7421   \u001b[0m | \u001b[95m0.03767  \u001b[0m | \u001b[95m0.01913  \u001b[0m | \u001b[95m5.465    \u001b[0m | \u001b[95m2.897e+03\u001b[0m | \u001b[95m1.671e+03\u001b[0m | \u001b[95m1.941e+03\u001b[0m |\n",
            "| \u001b[0m3        \u001b[0m | \u001b[0m0.7256   \u001b[0m | \u001b[0m0.04634  \u001b[0m | \u001b[0m0.006167 \u001b[0m | \u001b[0m53.9     \u001b[0m | \u001b[0m5.865e+03\u001b[0m | \u001b[0m668.5    \u001b[0m | \u001b[0m3.404e+03\u001b[0m |\n",
            "| \u001b[95m4        \u001b[0m | \u001b[95m0.7423   \u001b[0m | \u001b[95m0.02702  \u001b[0m | \u001b[95m0.02582  \u001b[0m | \u001b[95m8.594    \u001b[0m | \u001b[95m747.0    \u001b[0m | \u001b[95m1.196e+03\u001b[0m | \u001b[95m2.396e+03\u001b[0m |\n",
            "| \u001b[95m5        \u001b[0m | \u001b[95m0.7428   \u001b[0m | \u001b[95m0.03206  \u001b[0m | \u001b[95m0.04265  \u001b[0m | \u001b[95m22.4     \u001b[0m | \u001b[95m8.473e+03\u001b[0m | \u001b[95m1.228e+03\u001b[0m | \u001b[95m1.836e+03\u001b[0m |\n",
            "| \u001b[0m6        \u001b[0m | \u001b[0m0.7194   \u001b[0m | \u001b[0m0.03769  \u001b[0m | \u001b[0m0.01781  \u001b[0m | \u001b[0m15.06    \u001b[0m | \u001b[0m2.901e+03\u001b[0m | \u001b[0m465.6    \u001b[0m | \u001b[0m1.856e+03\u001b[0m |\n",
            "| \u001b[95m7        \u001b[0m | \u001b[95m0.7433   \u001b[0m | \u001b[95m0.001384 \u001b[0m | \u001b[95m0.02159  \u001b[0m | \u001b[95m23.7     \u001b[0m | \u001b[95m904.5    \u001b[0m | \u001b[95m1.698e+03\u001b[0m | \u001b[95m3.947e+03\u001b[0m |\n",
            "| \u001b[0m8        \u001b[0m | \u001b[0m0.7432   \u001b[0m | \u001b[0m0.02668  \u001b[0m | \u001b[0m0.02582  \u001b[0m | \u001b[0m55.8     \u001b[0m | \u001b[0m7.883e+03\u001b[0m | \u001b[0m1.892e+03\u001b[0m | \u001b[0m3.703e+03\u001b[0m |\n",
            "| \u001b[95m9        \u001b[0m | \u001b[95m0.7435   \u001b[0m | \u001b[95m0.02542  \u001b[0m | \u001b[95m0.01096  \u001b[0m | \u001b[95m35.61    \u001b[0m | \u001b[95m812.8    \u001b[0m | \u001b[95m1.727e+03\u001b[0m | \u001b[95m3.87e+03 \u001b[0m |\n",
            "| \u001b[0m11       \u001b[0m | \u001b[0m0.7434   \u001b[0m | \u001b[0m0.02175  \u001b[0m | \u001b[0m0.03015  \u001b[0m | \u001b[0m33.18    \u001b[0m | \u001b[0m9.262e+03\u001b[0m | \u001b[0m1.932e+03\u001b[0m | \u001b[0m3.011e+03\u001b[0m |\n",
            "| \u001b[95m12       \u001b[0m | \u001b[95m0.7441   \u001b[0m | \u001b[95m0.04089  \u001b[0m | \u001b[95m0.02452  \u001b[0m | \u001b[95m59.98    \u001b[0m | \u001b[95m782.0    \u001b[0m | \u001b[95m1.768e+03\u001b[0m | \u001b[95m3.902e+03\u001b[0m |\n",
            "=================================================================================================\n"
          ]
        }
      ],
      "source": [
        "lgbBO = BayesianOptimization(lgb_eval, {'num_leaves': (25, 4000),\n",
        "                                                'max_depth': (5, 63),\n",
        "                                                'lambda_l2': (0.0, 0.05),\n",
        "                                                'lambda_l1': (0.0, 0.05),\n",
        "                                                'min_child_samples': (50, 10000),\n",
        "                                                'min_data_in_leaf': (100, 2000)\n",
        "                                                })\n",
        "\n",
        "lgbBO.maximize(n_iter=10, init_points=2)"
      ]
    },
    {
      "cell_type": "markdown",
      "metadata": {
        "id": "rdkxhhST-KZS"
      },
      "source": [
        " **<font color='teal'> Print the best result by using the '.max' function.</font>**"
      ]
    },
    {
      "cell_type": "code",
      "execution_count": 21,
      "metadata": {
        "ExecuteTime": {
          "end_time": "2019-04-22T15:49:01.513767Z",
          "start_time": "2019-04-22T15:49:01.509392Z"
        },
        "colab": {
          "base_uri": "https://localhost:8080/"
        },
        "id": "oc8z6mfy-KZS",
        "outputId": "141815a8-8a35-462c-9ac2-24da055c7099"
      },
      "outputs": [
        {
          "output_type": "execute_result",
          "data": {
            "text/plain": [
              "{'target': 0.744069647411924,\n",
              " 'params': {'lambda_l1': 0.040888248106714126,\n",
              "  'lambda_l2': 0.024515678016709563,\n",
              "  'max_depth': 59.979872681612534,\n",
              "  'min_child_samples': 782.0245168146082,\n",
              "  'min_data_in_leaf': 1768.4821838046553,\n",
              "  'num_leaves': 3901.956965795362}}"
            ]
          },
          "metadata": {},
          "execution_count": 21
        }
      ],
      "source": [
        "lgbBO.max"
      ]
    },
    {
      "cell_type": "markdown",
      "metadata": {
        "ExecuteTime": {
          "end_time": "2019-04-22T15:50:29.049881Z",
          "start_time": "2019-04-22T15:50:29.045908Z"
        },
        "id": "J5LAydKC-KZW"
      },
      "source": [
        "Review the process at each step by using the '.res[0]' function."
      ]
    },
    {
      "cell_type": "code",
      "execution_count": 22,
      "metadata": {
        "ExecuteTime": {
          "end_time": "2019-04-22T15:51:01.001688Z",
          "start_time": "2019-04-22T15:51:00.997484Z"
        },
        "colab": {
          "base_uri": "https://localhost:8080/"
        },
        "id": "X1ttZmrI-KZX",
        "outputId": "6c1f72c6-0595-4bc9-daeb-6163eb24b0e8"
      },
      "outputs": [
        {
          "output_type": "execute_result",
          "data": {
            "text/plain": [
              "{'target': 0.73286493478432,\n",
              " 'params': {'lambda_l1': 0.04721335618471214,\n",
              "  'lambda_l2': 0.0420932631540373,\n",
              "  'max_depth': 61.46886021682441,\n",
              "  'min_child_samples': 1949.633668280868,\n",
              "  'min_data_in_leaf': 1020.2586276767454,\n",
              "  'num_leaves': 1414.5532689687452}}"
            ]
          },
          "metadata": {},
          "execution_count": 22
        }
      ],
      "source": [
        "lgbBO.res[0]"
      ]
    }
  ],
  "metadata": {
    "colab": {
      "provenance": [],
      "include_colab_link": true
    },
    "deepnote_execution_queue": [],
    "kernelspec": {
      "display_name": "Python 3",
      "language": "python",
      "name": "python3"
    },
    "language_info": {
      "codemirror_mode": {
        "name": "ipython",
        "version": 3
      },
      "file_extension": ".py",
      "mimetype": "text/x-python",
      "name": "python",
      "nbconvert_exporter": "python",
      "pygments_lexer": "ipython3",
      "version": "3.7.3"
    },
    "varInspector": {
      "cols": {
        "lenName": 16,
        "lenType": 16,
        "lenVar": 40
      },
      "kernels_config": {
        "python": {
          "delete_cmd_postfix": "",
          "delete_cmd_prefix": "del ",
          "library": "var_list.py",
          "varRefreshCmd": "print(var_dic_list())"
        },
        "r": {
          "delete_cmd_postfix": ") ",
          "delete_cmd_prefix": "rm(",
          "library": "var_list.r",
          "varRefreshCmd": "cat(var_dic_list()) "
        }
      },
      "types_to_exclude": [
        "module",
        "function",
        "builtin_function_or_method",
        "instance",
        "_Feature"
      ],
      "window_display": false
    }
  },
  "nbformat": 4,
  "nbformat_minor": 0
}