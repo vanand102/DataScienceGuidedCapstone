{
  "cells": [
    {
      "cell_type": "markdown",
      "metadata": {
        "id": "view-in-github",
        "colab_type": "text"
      },
      "source": [
        "<a href=\"https://colab.research.google.com/github/vanand102/DataScienceGuidedCapstone/blob/master/04_preprocessing_and_training.ipynb\" target=\"_parent\"><img src=\"https://colab.research.google.com/assets/colab-badge.svg\" alt=\"Open In Colab\"/></a>"
      ]
    },
    {
      "cell_type": "markdown",
      "metadata": {
        "id": "syV-3NZ7w1ew"
      },
      "source": [
        "# 4 Pre-Processing and Training Data<a id='4_Pre-Processing_and_Training_Data'></a>"
      ]
    },
    {
      "cell_type": "markdown",
      "metadata": {
        "id": "m_Xsv6cpw1ez"
      },
      "source": [
        "## 4.1 Contents<a id='4.1_Contents'></a>\n",
        "* [4 Pre-Processing and Training Data](#4_Pre-Processing_and_Training_Data)\n",
        "  * [4.1 Contents](#4.1_Contents)\n",
        "  * [4.2 Introduction](#4.2_Introduction)\n",
        "  * [4.3 Imports](#4.3_Imports)\n",
        "  * [4.4 Load Data](#4.4_Load_Data)\n",
        "  * [4.5 Extract Big Mountain Data](#4.5_Extract_Big_Mountain_Data)\n",
        "  * [4.6 Train/Test Split](#4.6_Train/Test_Split)\n",
        "  * [4.7 Initial Not-Even-A-Model](#4.7_Initial_Not-Even-A-Model)\n",
        "    * [4.7.1 Metrics](#4.7.1_Metrics)\n",
        "      * [4.7.1.1 R-squared, or coefficient of determination](#4.7.1.1_R-squared,_or_coefficient_of_determination)\n",
        "      * [4.7.1.2 Mean Absolute Error](#4.7.1.2_Mean_Absolute_Error)\n",
        "      * [4.7.1.3 Mean Squared Error](#4.7.1.3_Mean_Squared_Error)\n",
        "    * [4.7.2 sklearn metrics](#4.7.2_sklearn_metrics)\n",
        "        * [4.7.2.0.1 R-squared](#4.7.2.0.1_R-squared)\n",
        "        * [4.7.2.0.2 Mean absolute error](#4.7.2.0.2_Mean_absolute_error)\n",
        "        * [4.7.2.0.3 Mean squared error](#4.7.2.0.3_Mean_squared_error)\n",
        "    * [4.7.3 Note On Calculating Metrics](#4.7.3_Note_On_Calculating_Metrics)\n",
        "  * [4.8 Initial Models](#4.8_Initial_Models)\n",
        "    * [4.8.1 Imputing missing feature (predictor) values](#4.8.1_Imputing_missing_feature_(predictor)_values)\n",
        "      * [4.8.1.1 Impute missing values with median](#4.8.1.1_Impute_missing_values_with_median)\n",
        "        * [4.8.1.1.1 Learn the values to impute from the train set](#4.8.1.1.1_Learn_the_values_to_impute_from_the_train_set)\n",
        "        * [4.8.1.1.2 Apply the imputation to both train and test splits](#4.8.1.1.2_Apply_the_imputation_to_both_train_and_test_splits)\n",
        "        * [4.8.1.1.3 Scale the data](#4.8.1.1.3_Scale_the_data)\n",
        "        * [4.8.1.1.4 Train the model on the train split](#4.8.1.1.4_Train_the_model_on_the_train_split)\n",
        "        * [4.8.1.1.5 Make predictions using the model on both train and test splits](#4.8.1.1.5_Make_predictions_using_the_model_on_both_train_and_test_splits)\n",
        "        * [4.8.1.1.6 Assess model performance](#4.8.1.1.6_Assess_model_performance)\n",
        "      * [4.8.1.2 Impute missing values with the mean](#4.8.1.2_Impute_missing_values_with_the_mean)\n",
        "        * [4.8.1.2.1 Learn the values to impute from the train set](#4.8.1.2.1_Learn_the_values_to_impute_from_the_train_set)\n",
        "        * [4.8.1.2.2 Apply the imputation to both train and test splits](#4.8.1.2.2_Apply_the_imputation_to_both_train_and_test_splits)\n",
        "        * [4.8.1.2.3 Scale the data](#4.8.1.2.3_Scale_the_data)\n",
        "        * [4.8.1.2.4 Train the model on the train split](#4.8.1.2.4_Train_the_model_on_the_train_split)\n",
        "        * [4.8.1.2.5 Make predictions using the model on both train and test splits](#4.8.1.2.5_Make_predictions_using_the_model_on_both_train_and_test_splits)\n",
        "        * [4.8.1.2.6 Assess model performance](#4.8.1.2.6_Assess_model_performance)\n",
        "    * [4.8.2 Pipelines](#4.8.2_Pipelines)\n",
        "      * [4.8.2.1 Define the pipeline](#4.8.2.1_Define_the_pipeline)\n",
        "      * [4.8.2.2 Fit the pipeline](#4.8.2.2_Fit_the_pipeline)\n",
        "      * [4.8.2.3 Make predictions on the train and test sets](#4.8.2.3_Make_predictions_on_the_train_and_test_sets)\n",
        "      * [4.8.2.4 Assess performance](#4.8.2.4_Assess_performance)\n",
        "  * [4.9 Refining The Linear Model](#4.9_Refining_The_Linear_Model)\n",
        "    * [4.9.1 Define the pipeline](#4.9.1_Define_the_pipeline)\n",
        "    * [4.9.2 Fit the pipeline](#4.9.2_Fit_the_pipeline)\n",
        "    * [4.9.3 Assess performance on the train and test set](#4.9.3_Assess_performance_on_the_train_and_test_set)\n",
        "    * [4.9.4 Define a new pipeline to select a different number of features](#4.9.4_Define_a_new_pipeline_to_select_a_different_number_of_features)\n",
        "    * [4.9.5 Fit the pipeline](#4.9.5_Fit_the_pipeline)\n",
        "    * [4.9.6 Assess performance on train and test data](#4.9.6_Assess_performance_on_train_and_test_data)\n",
        "    * [4.9.7 Assessing performance using cross-validation](#4.9.7_Assessing_performance_using_cross-validation)\n",
        "    * [4.9.8 Hyperparameter search using GridSearchCV](#4.9.8_Hyperparameter_search_using_GridSearchCV)\n",
        "  * [4.10 Random Forest Model](#4.10_Random_Forest_Model)\n",
        "    * [4.10.1 Define the pipeline](#4.10.1_Define_the_pipeline)\n",
        "    * [4.10.2 Fit and assess performance using cross-validation](#4.10.2_Fit_and_assess_performance_using_cross-validation)\n",
        "    * [4.10.3 Hyperparameter search using GridSearchCV](#4.10.3_Hyperparameter_search_using_GridSearchCV)\n",
        "  * [4.11 Final Model Selection](#4.11_Final_Model_Selection)\n",
        "    * [4.11.1 Linear regression model performance](#4.11.1_Linear_regression_model_performance)\n",
        "    * [4.11.2 Random forest regression model performance](#4.11.2_Random_forest_regression_model_performance)\n",
        "    * [4.11.3 Conclusion](#4.11.3_Conclusion)\n",
        "  * [4.12 Data quantity assessment](#4.12_Data_quantity_assessment)\n",
        "  * [4.13 Save best model object from pipeline](#4.13_Save_best_model_object_from_pipeline)\n",
        "  * [4.14 Summary](#4.14_Summary)\n"
      ]
    },
    {
      "cell_type": "markdown",
      "metadata": {
        "id": "FptRbkdzw1e2"
      },
      "source": [
        "## 4.2 Introduction<a id='4.2_Introduction'></a>"
      ]
    },
    {
      "cell_type": "markdown",
      "metadata": {
        "id": "Knc4DIQkw1e3"
      },
      "source": [
        "In preceding notebooks, performed preliminary assessments of data quality and refined the question to be answered. You found a small number of data values that gave clear choices about whether to replace values or drop a whole row. You determined that predicting the adult weekend ticket price was your primary aim. You threw away records with missing price data, but not before making the most of the other available data to look for any patterns between the states. You didn't see any and decided to treat all states equally; the state label didn't seem to be particularly useful.\n",
        "\n",
        "In this notebook you'll start to build machine learning models. Before even starting with learning a machine learning model, however, start by considering how useful the mean value is as a predictor. This is more than just a pedagogical device. You never want to go to stakeholders with a machine learning model only to have the CEO point out that it performs worse than just guessing the average! Your first model is a baseline performance comparitor for any subsequent model. You then build up the process of efficiently and robustly creating and assessing models against it. The development we lay out may be little slower than in the real world, but this step of the capstone is definitely more than just instructional. It is good practice to build up an understanding that the machine learning pipelines you build work as expected. You can validate steps with your own functions for checking expected equivalence between, say, pandas and sklearn implementations."
      ]
    },
    {
      "cell_type": "markdown",
      "metadata": {
        "id": "ro5vVqyOw1e3"
      },
      "source": [
        "## 4.3 Imports<a id='4.3_Imports'></a>"
      ]
    },
    {
      "cell_type": "code",
      "source": [
        "from google.colab import drive\n",
        "drive.mount('/content/drive')"
      ],
      "metadata": {
        "colab": {
          "base_uri": "https://localhost:8080/"
        },
        "id": "z2be9TliyD-s",
        "outputId": "c83171e2-5d1e-4ec8-ed53-48ac72613611"
      },
      "execution_count": 1,
      "outputs": [
        {
          "output_type": "stream",
          "name": "stdout",
          "text": [
            "Mounted at /content/drive\n"
          ]
        }
      ]
    },
    {
      "cell_type": "code",
      "source": [
        "import sys\n",
        "sys.path.append('/content/drive/MyDrive/Guided Capstone/Notebooks')"
      ],
      "metadata": {
        "id": "cKHAZKeiyD26"
      },
      "execution_count": 2,
      "outputs": []
    },
    {
      "cell_type": "code",
      "execution_count": 3,
      "metadata": {
        "id": "uEvtWdDLw1e3"
      },
      "outputs": [],
      "source": [
        "import pandas as pd\n",
        "import numpy as np\n",
        "import os\n",
        "import pickle\n",
        "import matplotlib.pyplot as plt\n",
        "import seaborn as sns\n",
        "from sklearn import __version__ as sklearn_version\n",
        "from sklearn.decomposition import PCA\n",
        "from sklearn.preprocessing import scale\n",
        "from sklearn.model_selection import train_test_split, cross_validate, GridSearchCV, learning_curve\n",
        "from sklearn.preprocessing import StandardScaler, MinMaxScaler\n",
        "from sklearn.dummy import DummyRegressor\n",
        "from sklearn.linear_model import LinearRegression\n",
        "from sklearn.ensemble import RandomForestRegressor\n",
        "from sklearn.metrics import r2_score, mean_squared_error, mean_absolute_error\n",
        "from sklearn.pipeline import make_pipeline\n",
        "from sklearn.impute import SimpleImputer\n",
        "from sklearn.feature_selection import SelectKBest, f_regression\n",
        "import datetime\n",
        "\n",
        "from library.sb_utils import save_file"
      ]
    },
    {
      "cell_type": "markdown",
      "metadata": {
        "id": "wk-BmqIhw1e5"
      },
      "source": [
        "## 4.4 Load Data<a id='4.4_Load_Data'></a>"
      ]
    },
    {
      "cell_type": "code",
      "execution_count": 4,
      "metadata": {
        "scrolled": true,
        "id": "TbVLgHG0w1e6",
        "outputId": "adce73d0-06b8-410f-e0c1-55b24f916973",
        "colab": {
          "base_uri": "https://localhost:8080/",
          "height": 1000
        }
      },
      "outputs": [
        {
          "output_type": "execute_result",
          "data": {
            "text/plain": [
              "                                                 0                    1  \\\n",
              "Name                                Alyeska Resort  Eaglecrest Ski Area   \n",
              "Region                                      Alaska               Alaska   \n",
              "state                                       Alaska               Alaska   \n",
              "summit_elev                                   3939                 2600   \n",
              "vertical_drop                                 2500                 1540   \n",
              "base_elev                                      250                 1200   \n",
              "trams                                            1                    0   \n",
              "fastSixes                                        0                    0   \n",
              "fastQuads                                        2                    0   \n",
              "quad                                             2                    0   \n",
              "triple                                           0                    0   \n",
              "double                                           0                    4   \n",
              "surface                                          2                    0   \n",
              "total_chairs                                     7                    4   \n",
              "Runs                                          76.0                 36.0   \n",
              "TerrainParks                                   2.0                  1.0   \n",
              "LongestRun_mi                                  1.0                  2.0   \n",
              "SkiableTerrain_ac                           1610.0                640.0   \n",
              "Snow Making_ac                               113.0                 60.0   \n",
              "daysOpenLastYear                             150.0                 45.0   \n",
              "yearsOpen                                     60.0                 44.0   \n",
              "averageSnowfall                              669.0                350.0   \n",
              "AdultWeekend                                  85.0                 53.0   \n",
              "projectedDaysOpen                            150.0                 90.0   \n",
              "NightSkiing_ac                               550.0                  NaN   \n",
              "resorts_per_state                                3                    3   \n",
              "resorts_per_100kcapita                    0.410091             0.410091   \n",
              "resorts_per_100ksq_mile                   0.450867             0.450867   \n",
              "resort_skiable_area_ac_state_ratio         0.70614             0.280702   \n",
              "resort_days_open_state_ratio              0.434783             0.130435   \n",
              "resort_terrain_park_state_ratio                0.5                 0.25   \n",
              "resort_night_skiing_state_ratio           0.948276                  NaN   \n",
              "total_chairs_runs_ratio                   0.092105             0.111111   \n",
              "total_chairs_skiable_ratio                0.004348              0.00625   \n",
              "fastQuads_runs_ratio                      0.026316                  0.0   \n",
              "fastQuads_skiable_ratio                   0.001242                  0.0   \n",
              "\n",
              "                                                   2                 3  \\\n",
              "Name                                Hilltop Ski Area  Arizona Snowbowl   \n",
              "Region                                        Alaska           Arizona   \n",
              "state                                         Alaska           Arizona   \n",
              "summit_elev                                     2090             11500   \n",
              "vertical_drop                                    294              2300   \n",
              "base_elev                                       1796              9200   \n",
              "trams                                              0                 0   \n",
              "fastSixes                                          0                 1   \n",
              "fastQuads                                          0                 0   \n",
              "quad                                               0                 2   \n",
              "triple                                             1                 2   \n",
              "double                                             0                 1   \n",
              "surface                                            2                 2   \n",
              "total_chairs                                       3                 8   \n",
              "Runs                                            13.0              55.0   \n",
              "TerrainParks                                     1.0               4.0   \n",
              "LongestRun_mi                                    1.0               2.0   \n",
              "SkiableTerrain_ac                               30.0             777.0   \n",
              "Snow Making_ac                                  30.0             104.0   \n",
              "daysOpenLastYear                               150.0             122.0   \n",
              "yearsOpen                                       36.0              81.0   \n",
              "averageSnowfall                                 69.0             260.0   \n",
              "AdultWeekend                                    34.0              89.0   \n",
              "projectedDaysOpen                              152.0             122.0   \n",
              "NightSkiing_ac                                  30.0               NaN   \n",
              "resorts_per_state                                  3                 2   \n",
              "resorts_per_100kcapita                      0.410091          0.027477   \n",
              "resorts_per_100ksq_mile                     0.450867           1.75454   \n",
              "resort_skiable_area_ac_state_ratio          0.013158          0.492708   \n",
              "resort_days_open_state_ratio                0.434783          0.514768   \n",
              "resort_terrain_park_state_ratio                 0.25          0.666667   \n",
              "resort_night_skiing_state_ratio             0.051724               NaN   \n",
              "total_chairs_runs_ratio                     0.230769          0.145455   \n",
              "total_chairs_skiable_ratio                       0.1          0.010296   \n",
              "fastQuads_runs_ratio                             0.0               0.0   \n",
              "fastQuads_skiable_ratio                          0.0               0.0   \n",
              "\n",
              "                                                      4  \n",
              "Name                                Sunrise Park Resort  \n",
              "Region                                          Arizona  \n",
              "state                                           Arizona  \n",
              "summit_elev                                       11100  \n",
              "vertical_drop                                      1800  \n",
              "base_elev                                          9200  \n",
              "trams                                                 0  \n",
              "fastSixes                                             0  \n",
              "fastQuads                                             1  \n",
              "quad                                                  2  \n",
              "triple                                                3  \n",
              "double                                                1  \n",
              "surface                                               0  \n",
              "total_chairs                                          7  \n",
              "Runs                                               65.0  \n",
              "TerrainParks                                        2.0  \n",
              "LongestRun_mi                                       1.2  \n",
              "SkiableTerrain_ac                                 800.0  \n",
              "Snow Making_ac                                     80.0  \n",
              "daysOpenLastYear                                  115.0  \n",
              "yearsOpen                                          49.0  \n",
              "averageSnowfall                                   250.0  \n",
              "AdultWeekend                                       78.0  \n",
              "projectedDaysOpen                                 104.0  \n",
              "NightSkiing_ac                                     80.0  \n",
              "resorts_per_state                                     2  \n",
              "resorts_per_100kcapita                         0.027477  \n",
              "resorts_per_100ksq_mile                         1.75454  \n",
              "resort_skiable_area_ac_state_ratio             0.507292  \n",
              "resort_days_open_state_ratio                   0.485232  \n",
              "resort_terrain_park_state_ratio                0.333333  \n",
              "resort_night_skiing_state_ratio                     1.0  \n",
              "total_chairs_runs_ratio                        0.107692  \n",
              "total_chairs_skiable_ratio                      0.00875  \n",
              "fastQuads_runs_ratio                           0.015385  \n",
              "fastQuads_skiable_ratio                         0.00125  "
            ],
            "text/html": [
              "\n",
              "  <div id=\"df-685f59fe-7622-4469-80f3-17ea70da8b39\">\n",
              "    <div class=\"colab-df-container\">\n",
              "      <div>\n",
              "<style scoped>\n",
              "    .dataframe tbody tr th:only-of-type {\n",
              "        vertical-align: middle;\n",
              "    }\n",
              "\n",
              "    .dataframe tbody tr th {\n",
              "        vertical-align: top;\n",
              "    }\n",
              "\n",
              "    .dataframe thead th {\n",
              "        text-align: right;\n",
              "    }\n",
              "</style>\n",
              "<table border=\"1\" class=\"dataframe\">\n",
              "  <thead>\n",
              "    <tr style=\"text-align: right;\">\n",
              "      <th></th>\n",
              "      <th>0</th>\n",
              "      <th>1</th>\n",
              "      <th>2</th>\n",
              "      <th>3</th>\n",
              "      <th>4</th>\n",
              "    </tr>\n",
              "  </thead>\n",
              "  <tbody>\n",
              "    <tr>\n",
              "      <th>Name</th>\n",
              "      <td>Alyeska Resort</td>\n",
              "      <td>Eaglecrest Ski Area</td>\n",
              "      <td>Hilltop Ski Area</td>\n",
              "      <td>Arizona Snowbowl</td>\n",
              "      <td>Sunrise Park Resort</td>\n",
              "    </tr>\n",
              "    <tr>\n",
              "      <th>Region</th>\n",
              "      <td>Alaska</td>\n",
              "      <td>Alaska</td>\n",
              "      <td>Alaska</td>\n",
              "      <td>Arizona</td>\n",
              "      <td>Arizona</td>\n",
              "    </tr>\n",
              "    <tr>\n",
              "      <th>state</th>\n",
              "      <td>Alaska</td>\n",
              "      <td>Alaska</td>\n",
              "      <td>Alaska</td>\n",
              "      <td>Arizona</td>\n",
              "      <td>Arizona</td>\n",
              "    </tr>\n",
              "    <tr>\n",
              "      <th>summit_elev</th>\n",
              "      <td>3939</td>\n",
              "      <td>2600</td>\n",
              "      <td>2090</td>\n",
              "      <td>11500</td>\n",
              "      <td>11100</td>\n",
              "    </tr>\n",
              "    <tr>\n",
              "      <th>vertical_drop</th>\n",
              "      <td>2500</td>\n",
              "      <td>1540</td>\n",
              "      <td>294</td>\n",
              "      <td>2300</td>\n",
              "      <td>1800</td>\n",
              "    </tr>\n",
              "    <tr>\n",
              "      <th>base_elev</th>\n",
              "      <td>250</td>\n",
              "      <td>1200</td>\n",
              "      <td>1796</td>\n",
              "      <td>9200</td>\n",
              "      <td>9200</td>\n",
              "    </tr>\n",
              "    <tr>\n",
              "      <th>trams</th>\n",
              "      <td>1</td>\n",
              "      <td>0</td>\n",
              "      <td>0</td>\n",
              "      <td>0</td>\n",
              "      <td>0</td>\n",
              "    </tr>\n",
              "    <tr>\n",
              "      <th>fastSixes</th>\n",
              "      <td>0</td>\n",
              "      <td>0</td>\n",
              "      <td>0</td>\n",
              "      <td>1</td>\n",
              "      <td>0</td>\n",
              "    </tr>\n",
              "    <tr>\n",
              "      <th>fastQuads</th>\n",
              "      <td>2</td>\n",
              "      <td>0</td>\n",
              "      <td>0</td>\n",
              "      <td>0</td>\n",
              "      <td>1</td>\n",
              "    </tr>\n",
              "    <tr>\n",
              "      <th>quad</th>\n",
              "      <td>2</td>\n",
              "      <td>0</td>\n",
              "      <td>0</td>\n",
              "      <td>2</td>\n",
              "      <td>2</td>\n",
              "    </tr>\n",
              "    <tr>\n",
              "      <th>triple</th>\n",
              "      <td>0</td>\n",
              "      <td>0</td>\n",
              "      <td>1</td>\n",
              "      <td>2</td>\n",
              "      <td>3</td>\n",
              "    </tr>\n",
              "    <tr>\n",
              "      <th>double</th>\n",
              "      <td>0</td>\n",
              "      <td>4</td>\n",
              "      <td>0</td>\n",
              "      <td>1</td>\n",
              "      <td>1</td>\n",
              "    </tr>\n",
              "    <tr>\n",
              "      <th>surface</th>\n",
              "      <td>2</td>\n",
              "      <td>0</td>\n",
              "      <td>2</td>\n",
              "      <td>2</td>\n",
              "      <td>0</td>\n",
              "    </tr>\n",
              "    <tr>\n",
              "      <th>total_chairs</th>\n",
              "      <td>7</td>\n",
              "      <td>4</td>\n",
              "      <td>3</td>\n",
              "      <td>8</td>\n",
              "      <td>7</td>\n",
              "    </tr>\n",
              "    <tr>\n",
              "      <th>Runs</th>\n",
              "      <td>76.0</td>\n",
              "      <td>36.0</td>\n",
              "      <td>13.0</td>\n",
              "      <td>55.0</td>\n",
              "      <td>65.0</td>\n",
              "    </tr>\n",
              "    <tr>\n",
              "      <th>TerrainParks</th>\n",
              "      <td>2.0</td>\n",
              "      <td>1.0</td>\n",
              "      <td>1.0</td>\n",
              "      <td>4.0</td>\n",
              "      <td>2.0</td>\n",
              "    </tr>\n",
              "    <tr>\n",
              "      <th>LongestRun_mi</th>\n",
              "      <td>1.0</td>\n",
              "      <td>2.0</td>\n",
              "      <td>1.0</td>\n",
              "      <td>2.0</td>\n",
              "      <td>1.2</td>\n",
              "    </tr>\n",
              "    <tr>\n",
              "      <th>SkiableTerrain_ac</th>\n",
              "      <td>1610.0</td>\n",
              "      <td>640.0</td>\n",
              "      <td>30.0</td>\n",
              "      <td>777.0</td>\n",
              "      <td>800.0</td>\n",
              "    </tr>\n",
              "    <tr>\n",
              "      <th>Snow Making_ac</th>\n",
              "      <td>113.0</td>\n",
              "      <td>60.0</td>\n",
              "      <td>30.0</td>\n",
              "      <td>104.0</td>\n",
              "      <td>80.0</td>\n",
              "    </tr>\n",
              "    <tr>\n",
              "      <th>daysOpenLastYear</th>\n",
              "      <td>150.0</td>\n",
              "      <td>45.0</td>\n",
              "      <td>150.0</td>\n",
              "      <td>122.0</td>\n",
              "      <td>115.0</td>\n",
              "    </tr>\n",
              "    <tr>\n",
              "      <th>yearsOpen</th>\n",
              "      <td>60.0</td>\n",
              "      <td>44.0</td>\n",
              "      <td>36.0</td>\n",
              "      <td>81.0</td>\n",
              "      <td>49.0</td>\n",
              "    </tr>\n",
              "    <tr>\n",
              "      <th>averageSnowfall</th>\n",
              "      <td>669.0</td>\n",
              "      <td>350.0</td>\n",
              "      <td>69.0</td>\n",
              "      <td>260.0</td>\n",
              "      <td>250.0</td>\n",
              "    </tr>\n",
              "    <tr>\n",
              "      <th>AdultWeekend</th>\n",
              "      <td>85.0</td>\n",
              "      <td>53.0</td>\n",
              "      <td>34.0</td>\n",
              "      <td>89.0</td>\n",
              "      <td>78.0</td>\n",
              "    </tr>\n",
              "    <tr>\n",
              "      <th>projectedDaysOpen</th>\n",
              "      <td>150.0</td>\n",
              "      <td>90.0</td>\n",
              "      <td>152.0</td>\n",
              "      <td>122.0</td>\n",
              "      <td>104.0</td>\n",
              "    </tr>\n",
              "    <tr>\n",
              "      <th>NightSkiing_ac</th>\n",
              "      <td>550.0</td>\n",
              "      <td>NaN</td>\n",
              "      <td>30.0</td>\n",
              "      <td>NaN</td>\n",
              "      <td>80.0</td>\n",
              "    </tr>\n",
              "    <tr>\n",
              "      <th>resorts_per_state</th>\n",
              "      <td>3</td>\n",
              "      <td>3</td>\n",
              "      <td>3</td>\n",
              "      <td>2</td>\n",
              "      <td>2</td>\n",
              "    </tr>\n",
              "    <tr>\n",
              "      <th>resorts_per_100kcapita</th>\n",
              "      <td>0.410091</td>\n",
              "      <td>0.410091</td>\n",
              "      <td>0.410091</td>\n",
              "      <td>0.027477</td>\n",
              "      <td>0.027477</td>\n",
              "    </tr>\n",
              "    <tr>\n",
              "      <th>resorts_per_100ksq_mile</th>\n",
              "      <td>0.450867</td>\n",
              "      <td>0.450867</td>\n",
              "      <td>0.450867</td>\n",
              "      <td>1.75454</td>\n",
              "      <td>1.75454</td>\n",
              "    </tr>\n",
              "    <tr>\n",
              "      <th>resort_skiable_area_ac_state_ratio</th>\n",
              "      <td>0.70614</td>\n",
              "      <td>0.280702</td>\n",
              "      <td>0.013158</td>\n",
              "      <td>0.492708</td>\n",
              "      <td>0.507292</td>\n",
              "    </tr>\n",
              "    <tr>\n",
              "      <th>resort_days_open_state_ratio</th>\n",
              "      <td>0.434783</td>\n",
              "      <td>0.130435</td>\n",
              "      <td>0.434783</td>\n",
              "      <td>0.514768</td>\n",
              "      <td>0.485232</td>\n",
              "    </tr>\n",
              "    <tr>\n",
              "      <th>resort_terrain_park_state_ratio</th>\n",
              "      <td>0.5</td>\n",
              "      <td>0.25</td>\n",
              "      <td>0.25</td>\n",
              "      <td>0.666667</td>\n",
              "      <td>0.333333</td>\n",
              "    </tr>\n",
              "    <tr>\n",
              "      <th>resort_night_skiing_state_ratio</th>\n",
              "      <td>0.948276</td>\n",
              "      <td>NaN</td>\n",
              "      <td>0.051724</td>\n",
              "      <td>NaN</td>\n",
              "      <td>1.0</td>\n",
              "    </tr>\n",
              "    <tr>\n",
              "      <th>total_chairs_runs_ratio</th>\n",
              "      <td>0.092105</td>\n",
              "      <td>0.111111</td>\n",
              "      <td>0.230769</td>\n",
              "      <td>0.145455</td>\n",
              "      <td>0.107692</td>\n",
              "    </tr>\n",
              "    <tr>\n",
              "      <th>total_chairs_skiable_ratio</th>\n",
              "      <td>0.004348</td>\n",
              "      <td>0.00625</td>\n",
              "      <td>0.1</td>\n",
              "      <td>0.010296</td>\n",
              "      <td>0.00875</td>\n",
              "    </tr>\n",
              "    <tr>\n",
              "      <th>fastQuads_runs_ratio</th>\n",
              "      <td>0.026316</td>\n",
              "      <td>0.0</td>\n",
              "      <td>0.0</td>\n",
              "      <td>0.0</td>\n",
              "      <td>0.015385</td>\n",
              "    </tr>\n",
              "    <tr>\n",
              "      <th>fastQuads_skiable_ratio</th>\n",
              "      <td>0.001242</td>\n",
              "      <td>0.0</td>\n",
              "      <td>0.0</td>\n",
              "      <td>0.0</td>\n",
              "      <td>0.00125</td>\n",
              "    </tr>\n",
              "  </tbody>\n",
              "</table>\n",
              "</div>\n",
              "      <button class=\"colab-df-convert\" onclick=\"convertToInteractive('df-685f59fe-7622-4469-80f3-17ea70da8b39')\"\n",
              "              title=\"Convert this dataframe to an interactive table.\"\n",
              "              style=\"display:none;\">\n",
              "        \n",
              "  <svg xmlns=\"http://www.w3.org/2000/svg\" height=\"24px\"viewBox=\"0 0 24 24\"\n",
              "       width=\"24px\">\n",
              "    <path d=\"M0 0h24v24H0V0z\" fill=\"none\"/>\n",
              "    <path d=\"M18.56 5.44l.94 2.06.94-2.06 2.06-.94-2.06-.94-.94-2.06-.94 2.06-2.06.94zm-11 1L8.5 8.5l.94-2.06 2.06-.94-2.06-.94L8.5 2.5l-.94 2.06-2.06.94zm10 10l.94 2.06.94-2.06 2.06-.94-2.06-.94-.94-2.06-.94 2.06-2.06.94z\"/><path d=\"M17.41 7.96l-1.37-1.37c-.4-.4-.92-.59-1.43-.59-.52 0-1.04.2-1.43.59L10.3 9.45l-7.72 7.72c-.78.78-.78 2.05 0 2.83L4 21.41c.39.39.9.59 1.41.59.51 0 1.02-.2 1.41-.59l7.78-7.78 2.81-2.81c.8-.78.8-2.07 0-2.86zM5.41 20L4 18.59l7.72-7.72 1.47 1.35L5.41 20z\"/>\n",
              "  </svg>\n",
              "      </button>\n",
              "      \n",
              "  <style>\n",
              "    .colab-df-container {\n",
              "      display:flex;\n",
              "      flex-wrap:wrap;\n",
              "      gap: 12px;\n",
              "    }\n",
              "\n",
              "    .colab-df-convert {\n",
              "      background-color: #E8F0FE;\n",
              "      border: none;\n",
              "      border-radius: 50%;\n",
              "      cursor: pointer;\n",
              "      display: none;\n",
              "      fill: #1967D2;\n",
              "      height: 32px;\n",
              "      padding: 0 0 0 0;\n",
              "      width: 32px;\n",
              "    }\n",
              "\n",
              "    .colab-df-convert:hover {\n",
              "      background-color: #E2EBFA;\n",
              "      box-shadow: 0px 1px 2px rgba(60, 64, 67, 0.3), 0px 1px 3px 1px rgba(60, 64, 67, 0.15);\n",
              "      fill: #174EA6;\n",
              "    }\n",
              "\n",
              "    [theme=dark] .colab-df-convert {\n",
              "      background-color: #3B4455;\n",
              "      fill: #D2E3FC;\n",
              "    }\n",
              "\n",
              "    [theme=dark] .colab-df-convert:hover {\n",
              "      background-color: #434B5C;\n",
              "      box-shadow: 0px 1px 3px 1px rgba(0, 0, 0, 0.15);\n",
              "      filter: drop-shadow(0px 1px 2px rgba(0, 0, 0, 0.3));\n",
              "      fill: #FFFFFF;\n",
              "    }\n",
              "  </style>\n",
              "\n",
              "      <script>\n",
              "        const buttonEl =\n",
              "          document.querySelector('#df-685f59fe-7622-4469-80f3-17ea70da8b39 button.colab-df-convert');\n",
              "        buttonEl.style.display =\n",
              "          google.colab.kernel.accessAllowed ? 'block' : 'none';\n",
              "\n",
              "        async function convertToInteractive(key) {\n",
              "          const element = document.querySelector('#df-685f59fe-7622-4469-80f3-17ea70da8b39');\n",
              "          const dataTable =\n",
              "            await google.colab.kernel.invokeFunction('convertToInteractive',\n",
              "                                                     [key], {});\n",
              "          if (!dataTable) return;\n",
              "\n",
              "          const docLinkHtml = 'Like what you see? Visit the ' +\n",
              "            '<a target=\"_blank\" href=https://colab.research.google.com/notebooks/data_table.ipynb>data table notebook</a>'\n",
              "            + ' to learn more about interactive tables.';\n",
              "          element.innerHTML = '';\n",
              "          dataTable['output_type'] = 'display_data';\n",
              "          await google.colab.output.renderOutput(dataTable, element);\n",
              "          const docLink = document.createElement('div');\n",
              "          docLink.innerHTML = docLinkHtml;\n",
              "          element.appendChild(docLink);\n",
              "        }\n",
              "      </script>\n",
              "    </div>\n",
              "  </div>\n",
              "  "
            ]
          },
          "metadata": {},
          "execution_count": 4
        }
      ],
      "source": [
        "ski_data = pd.read_csv('/content/drive/MyDrive/Guided Capstone/raw_data/ski_data_step3_features.csv')\n",
        "ski_data.head().T"
      ]
    },
    {
      "cell_type": "markdown",
      "metadata": {
        "id": "DXL8E3l9w1e7"
      },
      "source": [
        "## 4.5 Extract Big Mountain Data<a id='4.5_Extract_Big_Mountain_Data'></a>"
      ]
    },
    {
      "cell_type": "markdown",
      "metadata": {
        "id": "XQ-pWYL6w1e7"
      },
      "source": [
        "Big Mountain is your resort. Separate it from the rest of the data to use later."
      ]
    },
    {
      "cell_type": "code",
      "execution_count": 5,
      "metadata": {
        "id": "4eGmpbgAw1e8"
      },
      "outputs": [],
      "source": [
        "big_mountain = ski_data[ski_data.Name == 'Big Mountain Resort']"
      ]
    },
    {
      "cell_type": "code",
      "execution_count": 6,
      "metadata": {
        "id": "dXat1_b4w1e8",
        "outputId": "d80c052e-0415-4921-949b-5a98bf3c3200",
        "colab": {
          "base_uri": "https://localhost:8080/",
          "height": 1000
        }
      },
      "outputs": [
        {
          "output_type": "execute_result",
          "data": {
            "text/plain": [
              "                                                    124\n",
              "Name                                Big Mountain Resort\n",
              "Region                                          Montana\n",
              "state                                           Montana\n",
              "summit_elev                                        6817\n",
              "vertical_drop                                      2353\n",
              "base_elev                                          4464\n",
              "trams                                                 0\n",
              "fastSixes                                             0\n",
              "fastQuads                                             3\n",
              "quad                                                  2\n",
              "triple                                                6\n",
              "double                                                0\n",
              "surface                                               3\n",
              "total_chairs                                         14\n",
              "Runs                                              105.0\n",
              "TerrainParks                                        4.0\n",
              "LongestRun_mi                                       3.3\n",
              "SkiableTerrain_ac                                3000.0\n",
              "Snow Making_ac                                    600.0\n",
              "daysOpenLastYear                                  123.0\n",
              "yearsOpen                                          72.0\n",
              "averageSnowfall                                   333.0\n",
              "AdultWeekend                                       81.0\n",
              "projectedDaysOpen                                 123.0\n",
              "NightSkiing_ac                                    600.0\n",
              "resorts_per_state                                    12\n",
              "resorts_per_100kcapita                         1.122778\n",
              "resorts_per_100ksq_mile                        8.161045\n",
              "resort_skiable_area_ac_state_ratio             0.140121\n",
              "resort_days_open_state_ratio                   0.129338\n",
              "resort_terrain_park_state_ratio                0.148148\n",
              "resort_night_skiing_state_ratio                 0.84507\n",
              "total_chairs_runs_ratio                        0.133333\n",
              "total_chairs_skiable_ratio                     0.004667\n",
              "fastQuads_runs_ratio                           0.028571\n",
              "fastQuads_skiable_ratio                           0.001"
            ],
            "text/html": [
              "\n",
              "  <div id=\"df-ac0421ea-501c-4164-9fde-a95d2542b569\">\n",
              "    <div class=\"colab-df-container\">\n",
              "      <div>\n",
              "<style scoped>\n",
              "    .dataframe tbody tr th:only-of-type {\n",
              "        vertical-align: middle;\n",
              "    }\n",
              "\n",
              "    .dataframe tbody tr th {\n",
              "        vertical-align: top;\n",
              "    }\n",
              "\n",
              "    .dataframe thead th {\n",
              "        text-align: right;\n",
              "    }\n",
              "</style>\n",
              "<table border=\"1\" class=\"dataframe\">\n",
              "  <thead>\n",
              "    <tr style=\"text-align: right;\">\n",
              "      <th></th>\n",
              "      <th>124</th>\n",
              "    </tr>\n",
              "  </thead>\n",
              "  <tbody>\n",
              "    <tr>\n",
              "      <th>Name</th>\n",
              "      <td>Big Mountain Resort</td>\n",
              "    </tr>\n",
              "    <tr>\n",
              "      <th>Region</th>\n",
              "      <td>Montana</td>\n",
              "    </tr>\n",
              "    <tr>\n",
              "      <th>state</th>\n",
              "      <td>Montana</td>\n",
              "    </tr>\n",
              "    <tr>\n",
              "      <th>summit_elev</th>\n",
              "      <td>6817</td>\n",
              "    </tr>\n",
              "    <tr>\n",
              "      <th>vertical_drop</th>\n",
              "      <td>2353</td>\n",
              "    </tr>\n",
              "    <tr>\n",
              "      <th>base_elev</th>\n",
              "      <td>4464</td>\n",
              "    </tr>\n",
              "    <tr>\n",
              "      <th>trams</th>\n",
              "      <td>0</td>\n",
              "    </tr>\n",
              "    <tr>\n",
              "      <th>fastSixes</th>\n",
              "      <td>0</td>\n",
              "    </tr>\n",
              "    <tr>\n",
              "      <th>fastQuads</th>\n",
              "      <td>3</td>\n",
              "    </tr>\n",
              "    <tr>\n",
              "      <th>quad</th>\n",
              "      <td>2</td>\n",
              "    </tr>\n",
              "    <tr>\n",
              "      <th>triple</th>\n",
              "      <td>6</td>\n",
              "    </tr>\n",
              "    <tr>\n",
              "      <th>double</th>\n",
              "      <td>0</td>\n",
              "    </tr>\n",
              "    <tr>\n",
              "      <th>surface</th>\n",
              "      <td>3</td>\n",
              "    </tr>\n",
              "    <tr>\n",
              "      <th>total_chairs</th>\n",
              "      <td>14</td>\n",
              "    </tr>\n",
              "    <tr>\n",
              "      <th>Runs</th>\n",
              "      <td>105.0</td>\n",
              "    </tr>\n",
              "    <tr>\n",
              "      <th>TerrainParks</th>\n",
              "      <td>4.0</td>\n",
              "    </tr>\n",
              "    <tr>\n",
              "      <th>LongestRun_mi</th>\n",
              "      <td>3.3</td>\n",
              "    </tr>\n",
              "    <tr>\n",
              "      <th>SkiableTerrain_ac</th>\n",
              "      <td>3000.0</td>\n",
              "    </tr>\n",
              "    <tr>\n",
              "      <th>Snow Making_ac</th>\n",
              "      <td>600.0</td>\n",
              "    </tr>\n",
              "    <tr>\n",
              "      <th>daysOpenLastYear</th>\n",
              "      <td>123.0</td>\n",
              "    </tr>\n",
              "    <tr>\n",
              "      <th>yearsOpen</th>\n",
              "      <td>72.0</td>\n",
              "    </tr>\n",
              "    <tr>\n",
              "      <th>averageSnowfall</th>\n",
              "      <td>333.0</td>\n",
              "    </tr>\n",
              "    <tr>\n",
              "      <th>AdultWeekend</th>\n",
              "      <td>81.0</td>\n",
              "    </tr>\n",
              "    <tr>\n",
              "      <th>projectedDaysOpen</th>\n",
              "      <td>123.0</td>\n",
              "    </tr>\n",
              "    <tr>\n",
              "      <th>NightSkiing_ac</th>\n",
              "      <td>600.0</td>\n",
              "    </tr>\n",
              "    <tr>\n",
              "      <th>resorts_per_state</th>\n",
              "      <td>12</td>\n",
              "    </tr>\n",
              "    <tr>\n",
              "      <th>resorts_per_100kcapita</th>\n",
              "      <td>1.122778</td>\n",
              "    </tr>\n",
              "    <tr>\n",
              "      <th>resorts_per_100ksq_mile</th>\n",
              "      <td>8.161045</td>\n",
              "    </tr>\n",
              "    <tr>\n",
              "      <th>resort_skiable_area_ac_state_ratio</th>\n",
              "      <td>0.140121</td>\n",
              "    </tr>\n",
              "    <tr>\n",
              "      <th>resort_days_open_state_ratio</th>\n",
              "      <td>0.129338</td>\n",
              "    </tr>\n",
              "    <tr>\n",
              "      <th>resort_terrain_park_state_ratio</th>\n",
              "      <td>0.148148</td>\n",
              "    </tr>\n",
              "    <tr>\n",
              "      <th>resort_night_skiing_state_ratio</th>\n",
              "      <td>0.84507</td>\n",
              "    </tr>\n",
              "    <tr>\n",
              "      <th>total_chairs_runs_ratio</th>\n",
              "      <td>0.133333</td>\n",
              "    </tr>\n",
              "    <tr>\n",
              "      <th>total_chairs_skiable_ratio</th>\n",
              "      <td>0.004667</td>\n",
              "    </tr>\n",
              "    <tr>\n",
              "      <th>fastQuads_runs_ratio</th>\n",
              "      <td>0.028571</td>\n",
              "    </tr>\n",
              "    <tr>\n",
              "      <th>fastQuads_skiable_ratio</th>\n",
              "      <td>0.001</td>\n",
              "    </tr>\n",
              "  </tbody>\n",
              "</table>\n",
              "</div>\n",
              "      <button class=\"colab-df-convert\" onclick=\"convertToInteractive('df-ac0421ea-501c-4164-9fde-a95d2542b569')\"\n",
              "              title=\"Convert this dataframe to an interactive table.\"\n",
              "              style=\"display:none;\">\n",
              "        \n",
              "  <svg xmlns=\"http://www.w3.org/2000/svg\" height=\"24px\"viewBox=\"0 0 24 24\"\n",
              "       width=\"24px\">\n",
              "    <path d=\"M0 0h24v24H0V0z\" fill=\"none\"/>\n",
              "    <path d=\"M18.56 5.44l.94 2.06.94-2.06 2.06-.94-2.06-.94-.94-2.06-.94 2.06-2.06.94zm-11 1L8.5 8.5l.94-2.06 2.06-.94-2.06-.94L8.5 2.5l-.94 2.06-2.06.94zm10 10l.94 2.06.94-2.06 2.06-.94-2.06-.94-.94-2.06-.94 2.06-2.06.94z\"/><path d=\"M17.41 7.96l-1.37-1.37c-.4-.4-.92-.59-1.43-.59-.52 0-1.04.2-1.43.59L10.3 9.45l-7.72 7.72c-.78.78-.78 2.05 0 2.83L4 21.41c.39.39.9.59 1.41.59.51 0 1.02-.2 1.41-.59l7.78-7.78 2.81-2.81c.8-.78.8-2.07 0-2.86zM5.41 20L4 18.59l7.72-7.72 1.47 1.35L5.41 20z\"/>\n",
              "  </svg>\n",
              "      </button>\n",
              "      \n",
              "  <style>\n",
              "    .colab-df-container {\n",
              "      display:flex;\n",
              "      flex-wrap:wrap;\n",
              "      gap: 12px;\n",
              "    }\n",
              "\n",
              "    .colab-df-convert {\n",
              "      background-color: #E8F0FE;\n",
              "      border: none;\n",
              "      border-radius: 50%;\n",
              "      cursor: pointer;\n",
              "      display: none;\n",
              "      fill: #1967D2;\n",
              "      height: 32px;\n",
              "      padding: 0 0 0 0;\n",
              "      width: 32px;\n",
              "    }\n",
              "\n",
              "    .colab-df-convert:hover {\n",
              "      background-color: #E2EBFA;\n",
              "      box-shadow: 0px 1px 2px rgba(60, 64, 67, 0.3), 0px 1px 3px 1px rgba(60, 64, 67, 0.15);\n",
              "      fill: #174EA6;\n",
              "    }\n",
              "\n",
              "    [theme=dark] .colab-df-convert {\n",
              "      background-color: #3B4455;\n",
              "      fill: #D2E3FC;\n",
              "    }\n",
              "\n",
              "    [theme=dark] .colab-df-convert:hover {\n",
              "      background-color: #434B5C;\n",
              "      box-shadow: 0px 1px 3px 1px rgba(0, 0, 0, 0.15);\n",
              "      filter: drop-shadow(0px 1px 2px rgba(0, 0, 0, 0.3));\n",
              "      fill: #FFFFFF;\n",
              "    }\n",
              "  </style>\n",
              "\n",
              "      <script>\n",
              "        const buttonEl =\n",
              "          document.querySelector('#df-ac0421ea-501c-4164-9fde-a95d2542b569 button.colab-df-convert');\n",
              "        buttonEl.style.display =\n",
              "          google.colab.kernel.accessAllowed ? 'block' : 'none';\n",
              "\n",
              "        async function convertToInteractive(key) {\n",
              "          const element = document.querySelector('#df-ac0421ea-501c-4164-9fde-a95d2542b569');\n",
              "          const dataTable =\n",
              "            await google.colab.kernel.invokeFunction('convertToInteractive',\n",
              "                                                     [key], {});\n",
              "          if (!dataTable) return;\n",
              "\n",
              "          const docLinkHtml = 'Like what you see? Visit the ' +\n",
              "            '<a target=\"_blank\" href=https://colab.research.google.com/notebooks/data_table.ipynb>data table notebook</a>'\n",
              "            + ' to learn more about interactive tables.';\n",
              "          element.innerHTML = '';\n",
              "          dataTable['output_type'] = 'display_data';\n",
              "          await google.colab.output.renderOutput(dataTable, element);\n",
              "          const docLink = document.createElement('div');\n",
              "          docLink.innerHTML = docLinkHtml;\n",
              "          element.appendChild(docLink);\n",
              "        }\n",
              "      </script>\n",
              "    </div>\n",
              "  </div>\n",
              "  "
            ]
          },
          "metadata": {},
          "execution_count": 6
        }
      ],
      "source": [
        "big_mountain.T"
      ]
    },
    {
      "cell_type": "code",
      "execution_count": 7,
      "metadata": {
        "id": "7OIPVKltw1e8",
        "outputId": "22f78574-c834-4536-c5fc-4ec86f0bb193",
        "colab": {
          "base_uri": "https://localhost:8080/"
        }
      },
      "outputs": [
        {
          "output_type": "execute_result",
          "data": {
            "text/plain": [
              "(277, 36)"
            ]
          },
          "metadata": {},
          "execution_count": 7
        }
      ],
      "source": [
        "ski_data.shape"
      ]
    },
    {
      "cell_type": "code",
      "execution_count": 8,
      "metadata": {
        "id": "iPUMWhfqw1e8"
      },
      "outputs": [],
      "source": [
        "ski_data = ski_data[ski_data.Name != 'Big Mountain Resort']"
      ]
    },
    {
      "cell_type": "code",
      "execution_count": 9,
      "metadata": {
        "id": "1n0mTly9w1e9",
        "outputId": "4ca1bfb6-952c-40cd-fa27-5b7945972672",
        "colab": {
          "base_uri": "https://localhost:8080/"
        }
      },
      "outputs": [
        {
          "output_type": "execute_result",
          "data": {
            "text/plain": [
              "(276, 36)"
            ]
          },
          "metadata": {},
          "execution_count": 9
        }
      ],
      "source": [
        "ski_data.shape"
      ]
    },
    {
      "cell_type": "markdown",
      "metadata": {
        "id": "fDBqJChJw1e9"
      },
      "source": [
        "## 4.6 Train/Test Split<a id='4.6_Train/Test_Split'></a>"
      ]
    },
    {
      "cell_type": "markdown",
      "metadata": {
        "id": "ZP-DXbyjw1e9"
      },
      "source": [
        "So far, you've treated ski resort data as a single entity. In machine learning, when you train your model on all of your data, you end up with no data set aside to evaluate model performance. You could keep making more and more complex models that fit the data better and better and not realise you were overfitting to that one set of samples. By partitioning the data into training and testing splits, without letting a model (or missing-value imputation) learn anything about the test split, you have a somewhat independent assessment of how your model might perform in the future. An often overlooked subtlety here is that people all too frequently use the test set to assess model performance _and then compare multiple models to pick the best_. This means their overall model selection process is  fitting to one specific data set, now the test split. You could keep going, trying to get better and better performance on that one data set, but that's  where cross-validation becomes especially useful. While training models, a test split is very useful as a final check on expected future performance."
      ]
    },
    {
      "cell_type": "markdown",
      "metadata": {
        "id": "4V67l0Pbw1e-"
      },
      "source": [
        "What partition sizes would you have with a 70/30 train/test split?"
      ]
    },
    {
      "cell_type": "code",
      "execution_count": 10,
      "metadata": {
        "id": "TWNCRzTtw1e-",
        "outputId": "364179d9-8efd-4ba3-a29d-1da0c08609b5",
        "colab": {
          "base_uri": "https://localhost:8080/"
        }
      },
      "outputs": [
        {
          "output_type": "execute_result",
          "data": {
            "text/plain": [
              "(193.2, 82.8)"
            ]
          },
          "metadata": {},
          "execution_count": 10
        }
      ],
      "source": [
        "len(ski_data) * .7, len(ski_data) * .3"
      ]
    },
    {
      "cell_type": "code",
      "execution_count": 11,
      "metadata": {
        "id": "0WWbtf1iw1e-"
      },
      "outputs": [],
      "source": [
        "X_train, X_test, y_train, y_test = train_test_split(ski_data.drop(columns='AdultWeekend'), \n",
        "                                                    ski_data.AdultWeekend, test_size=0.3, \n",
        "                                                    random_state=47)"
      ]
    },
    {
      "cell_type": "code",
      "execution_count": 12,
      "metadata": {
        "id": "mAGYJu6Aw1e-",
        "outputId": "a3573d26-72c3-4f6c-e6a4-e6d930b36da9",
        "colab": {
          "base_uri": "https://localhost:8080/"
        }
      },
      "outputs": [
        {
          "output_type": "execute_result",
          "data": {
            "text/plain": [
              "((193, 35), (83, 35))"
            ]
          },
          "metadata": {},
          "execution_count": 12
        }
      ],
      "source": [
        "X_train.shape, X_test.shape"
      ]
    },
    {
      "cell_type": "code",
      "execution_count": 13,
      "metadata": {
        "id": "G0iDOpQIw1e-",
        "outputId": "d70d1c15-7cd4-4bfc-93e6-dcb67ce705d6",
        "colab": {
          "base_uri": "https://localhost:8080/"
        }
      },
      "outputs": [
        {
          "output_type": "execute_result",
          "data": {
            "text/plain": [
              "((193,), (83,))"
            ]
          },
          "metadata": {},
          "execution_count": 13
        }
      ],
      "source": [
        "y_train.shape, y_test.shape"
      ]
    },
    {
      "cell_type": "code",
      "execution_count": 14,
      "metadata": {
        "id": "2lQwgcnnw1e_",
        "colab": {
          "base_uri": "https://localhost:8080/"
        },
        "outputId": "0d4fa71f-a0c3-4275-d2cf-37f06f090f6d"
      },
      "outputs": [
        {
          "output_type": "execute_result",
          "data": {
            "text/plain": [
              "((193, 32), (83, 32))"
            ]
          },
          "metadata": {},
          "execution_count": 14
        }
      ],
      "source": [
        "#Code task 1#\n",
        "#Save the 'Name', 'state', and 'Region' columns from the train/test data into names_train and names_test\n",
        "#Then drop those columns from `X_train` and `X_test`. Use 'inplace=True'\n",
        "names_list = ['Name', 'state', 'Region']\n",
        "names_train = X_train[names_list]\n",
        "names_test = X_test[names_list]\n",
        "X_train.drop(columns=names_list, inplace=True)\n",
        "X_test.drop(columns=names_list, inplace=True)\n",
        "X_train.shape, X_test.shape"
      ]
    },
    {
      "cell_type": "code",
      "execution_count": 15,
      "metadata": {
        "id": "sMTpDKInw1e_",
        "colab": {
          "base_uri": "https://localhost:8080/"
        },
        "outputId": "d0c05c09-caca-44ba-afed-1ebb6678d03d"
      },
      "outputs": [
        {
          "output_type": "execute_result",
          "data": {
            "text/plain": [
              "summit_elev                             int64\n",
              "vertical_drop                           int64\n",
              "base_elev                               int64\n",
              "trams                                   int64\n",
              "fastSixes                               int64\n",
              "fastQuads                               int64\n",
              "quad                                    int64\n",
              "triple                                  int64\n",
              "double                                  int64\n",
              "surface                                 int64\n",
              "total_chairs                            int64\n",
              "Runs                                  float64\n",
              "TerrainParks                          float64\n",
              "LongestRun_mi                         float64\n",
              "SkiableTerrain_ac                     float64\n",
              "Snow Making_ac                        float64\n",
              "daysOpenLastYear                      float64\n",
              "yearsOpen                             float64\n",
              "averageSnowfall                       float64\n",
              "projectedDaysOpen                     float64\n",
              "NightSkiing_ac                        float64\n",
              "resorts_per_state                       int64\n",
              "resorts_per_100kcapita                float64\n",
              "resorts_per_100ksq_mile               float64\n",
              "resort_skiable_area_ac_state_ratio    float64\n",
              "resort_days_open_state_ratio          float64\n",
              "resort_terrain_park_state_ratio       float64\n",
              "resort_night_skiing_state_ratio       float64\n",
              "total_chairs_runs_ratio               float64\n",
              "total_chairs_skiable_ratio            float64\n",
              "fastQuads_runs_ratio                  float64\n",
              "fastQuads_skiable_ratio               float64\n",
              "dtype: object"
            ]
          },
          "metadata": {},
          "execution_count": 15
        }
      ],
      "source": [
        "#Code task 2#\n",
        "#Check the `dtypes` attribute of `X_train` to verify all features are numeric\n",
        "X_train.dtypes"
      ]
    },
    {
      "cell_type": "code",
      "execution_count": 16,
      "metadata": {
        "id": "6jbR6RY3w1e_",
        "colab": {
          "base_uri": "https://localhost:8080/"
        },
        "outputId": "4809b46f-3428-451c-9a3c-b95a7d83bea5"
      },
      "outputs": [
        {
          "output_type": "execute_result",
          "data": {
            "text/plain": [
              "summit_elev                             int64\n",
              "vertical_drop                           int64\n",
              "base_elev                               int64\n",
              "trams                                   int64\n",
              "fastSixes                               int64\n",
              "fastQuads                               int64\n",
              "quad                                    int64\n",
              "triple                                  int64\n",
              "double                                  int64\n",
              "surface                                 int64\n",
              "total_chairs                            int64\n",
              "Runs                                  float64\n",
              "TerrainParks                          float64\n",
              "LongestRun_mi                         float64\n",
              "SkiableTerrain_ac                     float64\n",
              "Snow Making_ac                        float64\n",
              "daysOpenLastYear                      float64\n",
              "yearsOpen                             float64\n",
              "averageSnowfall                       float64\n",
              "projectedDaysOpen                     float64\n",
              "NightSkiing_ac                        float64\n",
              "resorts_per_state                       int64\n",
              "resorts_per_100kcapita                float64\n",
              "resorts_per_100ksq_mile               float64\n",
              "resort_skiable_area_ac_state_ratio    float64\n",
              "resort_days_open_state_ratio          float64\n",
              "resort_terrain_park_state_ratio       float64\n",
              "resort_night_skiing_state_ratio       float64\n",
              "total_chairs_runs_ratio               float64\n",
              "total_chairs_skiable_ratio            float64\n",
              "fastQuads_runs_ratio                  float64\n",
              "fastQuads_skiable_ratio               float64\n",
              "dtype: object"
            ]
          },
          "metadata": {},
          "execution_count": 16
        }
      ],
      "source": [
        "#Code task 3#\n",
        "#Repeat this check for the test split in `X_test`\n",
        "X_test.dtypes"
      ]
    },
    {
      "cell_type": "markdown",
      "metadata": {
        "id": "I8ykdWipw1e_"
      },
      "source": [
        "You have only numeric features in your X now!"
      ]
    },
    {
      "cell_type": "markdown",
      "metadata": {
        "id": "mDcZRdyqw1e_"
      },
      "source": [
        "## 4.7 Initial Not-Even-A-Model<a id='4.7_Initial_Not-Even-A-Model'></a>"
      ]
    },
    {
      "cell_type": "markdown",
      "metadata": {
        "id": "eIZo6Jfqw1fA"
      },
      "source": [
        "A good place to start is to see how good the mean is as a predictor. In other words, what if you simply say your best guess is the average price?"
      ]
    },
    {
      "cell_type": "code",
      "execution_count": 17,
      "metadata": {
        "id": "31m2YkW2w1fA",
        "colab": {
          "base_uri": "https://localhost:8080/"
        },
        "outputId": "cbc7e0a1-c750-46a7-ea3a-d8d1b2b4d0f5"
      },
      "outputs": [
        {
          "output_type": "execute_result",
          "data": {
            "text/plain": [
              "63.811088082901556"
            ]
          },
          "metadata": {},
          "execution_count": 17
        }
      ],
      "source": [
        "#Code task 4#\n",
        "#Calculate the mean of `y_train`\n",
        "train_mean = y_train.mean()\n",
        "train_mean"
      ]
    },
    {
      "cell_type": "markdown",
      "metadata": {
        "id": "SKsxVEa8w1fA"
      },
      "source": [
        "`sklearn`'s `DummyRegressor` easily does this:"
      ]
    },
    {
      "cell_type": "code",
      "execution_count": 18,
      "metadata": {
        "id": "FIYDuWo_w1fA",
        "colab": {
          "base_uri": "https://localhost:8080/"
        },
        "outputId": "84645dea-573e-4b27-8921-184fbc054726"
      },
      "outputs": [
        {
          "output_type": "execute_result",
          "data": {
            "text/plain": [
              "array([[63.81108808]])"
            ]
          },
          "metadata": {},
          "execution_count": 18
        }
      ],
      "source": [
        "#Code task 5#\n",
        "#Fit the dummy regressor on the training data\n",
        "#Hint, call its `.fit()` method with `X_train` and `y_train` as arguments\n",
        "#Then print the object's `constant_` attribute and verify it's the same as the mean above\n",
        "dumb_reg = DummyRegressor(strategy='mean')\n",
        "dumb_reg.fit(X_train, y_train)\n",
        "dumb_reg.constant_"
      ]
    },
    {
      "cell_type": "markdown",
      "metadata": {
        "id": "KCAzL3gsw1fA"
      },
      "source": [
        "How good is this? How closely does this match, or explain, the actual values? There are many ways of assessing how good one set of values agrees with another, which brings us to the subject of metrics."
      ]
    },
    {
      "cell_type": "markdown",
      "metadata": {
        "id": "d_-co5t8w1fA"
      },
      "source": [
        "### 4.7.1 Metrics<a id='4.7.1_Metrics'></a>"
      ]
    },
    {
      "cell_type": "markdown",
      "metadata": {
        "id": "K-vNnzH2w1fA"
      },
      "source": [
        "#### 4.7.1.1 R-squared, or coefficient of determination<a id='4.7.1.1_R-squared,_or_coefficient_of_determination'></a>"
      ]
    },
    {
      "cell_type": "markdown",
      "metadata": {
        "id": "zhtWFUUQw1fA"
      },
      "source": [
        "One measure is $R^2$, the [coefficient of determination](https://en.wikipedia.org/wiki/Coefficient_of_determination). This is a measure of the proportion of variance in the dependent variable (our ticket price) that is predicted by our \"model\". The linked Wikipedia articles gives a nice explanation of how negative values can arise. This is frequently a cause of confusion for newcomers who, reasonably, ask how can a squared value be negative?\n",
        "\n",
        "Recall the mean can be denoted by $\\bar{y}$, where\n",
        "\n",
        "$$\\bar{y} = \\frac{1}{n}\\sum_{i=1}^ny_i$$\n",
        "\n",
        "and where $y_i$ are the individual values of the dependent variable.\n",
        "\n",
        "The total sum of squares (error), can be expressed as\n",
        "\n",
        "$$SS_{tot} = \\sum_i(y_i-\\bar{y})^2$$\n",
        "\n",
        "The above formula should be familiar as it's simply the variance without the denominator to scale (divide) by the sample size.\n",
        "\n",
        "The residual sum of squares is similarly defined to be\n",
        "\n",
        "$$SS_{res} = \\sum_i(y_i-\\hat{y})^2$$\n",
        "\n",
        "where $\\hat{y}$ are our predicted values for the depended variable.\n",
        "\n",
        "The coefficient of determination, $R^2$, here is given by\n",
        "\n",
        "$$R^2 = 1 - \\frac{SS_{res}}{SS_{tot}}$$\n",
        "\n",
        "Putting it into words, it's one minus the ratio of the residual variance to the original variance. Thus, the baseline model here, which always predicts $\\bar{y}$, should give $R^2=0$. A model that perfectly predicts the observed values would have no residual error and so give $R^2=1$. Models that do worse than predicting the mean will have increased the sum of squares of residuals and so produce a negative $R^2$."
      ]
    },
    {
      "cell_type": "code",
      "execution_count": 19,
      "metadata": {
        "id": "nw_-BWwVw1fB"
      },
      "outputs": [],
      "source": [
        "#Code task 6#\n",
        "#Calculate the R^2 as defined above\n",
        "def r_squared(y, ypred):\n",
        "    \"\"\"R-squared score.\n",
        "    \n",
        "    Calculate the R-squared, or coefficient of determination, of the input.\n",
        "    \n",
        "    Arguments:\n",
        "    y -- the observed values\n",
        "    ypred -- the predicted values\n",
        "    \"\"\"\n",
        "    ybar = np.sum(y) / len(y) #yes, we could use np.mean(y)\n",
        "    sum_sq_tot = np.sum((y - ybar)**2) #total sum of squares error\n",
        "    sum_sq_res = np.sum((y - ypred)**2) #residual sum of squares error\n",
        "    R2 = 1.0 - sum_sq_res / sum_sq_tot\n",
        "    return R2"
      ]
    },
    {
      "cell_type": "markdown",
      "metadata": {
        "id": "hn9clIfQw1fB"
      },
      "source": [
        "Make your predictions by creating an array of length the size of the training set with the single value of the mean."
      ]
    },
    {
      "cell_type": "code",
      "execution_count": 20,
      "metadata": {
        "id": "9NHsGWJnw1fB",
        "outputId": "a97c82e8-79a4-45d7-e020-7b0344f300c6",
        "colab": {
          "base_uri": "https://localhost:8080/"
        }
      },
      "outputs": [
        {
          "output_type": "execute_result",
          "data": {
            "text/plain": [
              "array([63.81108808, 63.81108808, 63.81108808, 63.81108808, 63.81108808])"
            ]
          },
          "metadata": {},
          "execution_count": 20
        }
      ],
      "source": [
        "y_tr_pred_ = train_mean * np.ones(len(y_train))\n",
        "y_tr_pred_[:5]"
      ]
    },
    {
      "cell_type": "markdown",
      "metadata": {
        "id": "bzG3-8KGw1fB"
      },
      "source": [
        "Remember the `sklearn` dummy regressor? "
      ]
    },
    {
      "cell_type": "code",
      "execution_count": 21,
      "metadata": {
        "id": "0NfG2SPAw1fB",
        "outputId": "b7515465-2026-4c9c-8e02-33f3fbdf1062",
        "colab": {
          "base_uri": "https://localhost:8080/"
        }
      },
      "outputs": [
        {
          "output_type": "execute_result",
          "data": {
            "text/plain": [
              "array([63.81108808, 63.81108808, 63.81108808, 63.81108808, 63.81108808])"
            ]
          },
          "metadata": {},
          "execution_count": 21
        }
      ],
      "source": [
        "y_tr_pred = dumb_reg.predict(X_train)\n",
        "y_tr_pred[:5]"
      ]
    },
    {
      "cell_type": "markdown",
      "metadata": {
        "id": "N64CkeSmw1fC"
      },
      "source": [
        "You can see that `DummyRegressor` produces exactly the same results and saves you having to mess about broadcasting the mean (or whichever other statistic we used - check out the [documentation](https://scikit-learn.org/stable/modules/generated/sklearn.dummy.DummyRegressor.html) to see what's available) to an array of the appropriate length. It also gives you an object with `fit()` and `predict()` methods as well so you can use them as conveniently as any other `sklearn` estimator."
      ]
    },
    {
      "cell_type": "code",
      "execution_count": 22,
      "metadata": {
        "id": "MyF7i8Lvw1fC",
        "outputId": "6484ae67-f398-4bd8-f432-071ae1f78045",
        "colab": {
          "base_uri": "https://localhost:8080/"
        }
      },
      "outputs": [
        {
          "output_type": "execute_result",
          "data": {
            "text/plain": [
              "0.0"
            ]
          },
          "metadata": {},
          "execution_count": 22
        }
      ],
      "source": [
        "r_squared(y_train, y_tr_pred)"
      ]
    },
    {
      "cell_type": "markdown",
      "metadata": {
        "id": "ZWBEHB98w1fC"
      },
      "source": [
        "Exactly as expected, if you use the average value as your prediction, you get an $R^2$ of zero _on our training set_. What if you use this \"model\" to predict unseen values from the test set? Remember, of course, that your \"model\" is trained on the training set; you still use the training set mean as your prediction."
      ]
    },
    {
      "cell_type": "markdown",
      "metadata": {
        "id": "_v3N7sntw1fC"
      },
      "source": [
        "Make your predictions by creating an array of length the size of the test set with the single value of the (training) mean."
      ]
    },
    {
      "cell_type": "code",
      "execution_count": 23,
      "metadata": {
        "id": "7gRelCs2w1fC",
        "outputId": "957ba9cb-238c-41ae-93e4-05b452bd1098",
        "colab": {
          "base_uri": "https://localhost:8080/"
        }
      },
      "outputs": [
        {
          "output_type": "execute_result",
          "data": {
            "text/plain": [
              "-0.0031235200417913944"
            ]
          },
          "metadata": {},
          "execution_count": 23
        }
      ],
      "source": [
        "y_te_pred = train_mean * np.ones(len(y_test))\n",
        "r_squared(y_test, y_te_pred)"
      ]
    },
    {
      "cell_type": "markdown",
      "metadata": {
        "id": "uDw9dvZvw1fD"
      },
      "source": [
        "Generally, you can expect performance on a test set to be slightly worse than on the training set. As you are getting an $R^2$ of zero on the training set, there's nowhere to go but negative!"
      ]
    },
    {
      "cell_type": "markdown",
      "metadata": {
        "id": "RKFZBYi7w1fD"
      },
      "source": [
        "$R^2$ is a common metric, and interpretable in terms of the amount of variance explained, it's less appealing if you want an idea of how \"close\" your predictions are to the true values. Metrics that summarise the difference between predicted and actual values are _mean absolute error_ and _mean squared error_."
      ]
    },
    {
      "cell_type": "markdown",
      "metadata": {
        "id": "vZoOvk-6w1fD"
      },
      "source": [
        "#### 4.7.1.2 Mean Absolute Error<a id='4.7.1.2_Mean_Absolute_Error'></a>"
      ]
    },
    {
      "cell_type": "markdown",
      "metadata": {
        "id": "a2kTWpkew1fD"
      },
      "source": [
        "This is very simply the average of the absolute errors:\n",
        "\n",
        "$$MAE = \\frac{1}{n}\\sum_i^n|y_i - \\hat{y}|$$"
      ]
    },
    {
      "cell_type": "code",
      "execution_count": 24,
      "metadata": {
        "id": "5pFNxp-Ew1fD"
      },
      "outputs": [],
      "source": [
        "#Code task 7#\n",
        "#Calculate the MAE as defined above\n",
        "def mae(y, ypred):\n",
        "    \"\"\"Mean absolute error.\n",
        "    \n",
        "    Calculate the mean absolute error of the arguments\n",
        "\n",
        "    Arguments:\n",
        "    y -- the observed values\n",
        "    ypred -- the predicted values\n",
        "    \"\"\"\n",
        "    abs_error = np.abs(y - ypred)\n",
        "    mae = np.mean(abs_error)\n",
        "    return mae"
      ]
    },
    {
      "cell_type": "code",
      "execution_count": 25,
      "metadata": {
        "id": "ZdCV7wMpw1fD",
        "outputId": "413cd988-86de-472e-ae6e-a2204d11d948",
        "colab": {
          "base_uri": "https://localhost:8080/"
        }
      },
      "outputs": [
        {
          "output_type": "execute_result",
          "data": {
            "text/plain": [
              "17.923463717146785"
            ]
          },
          "metadata": {},
          "execution_count": 25
        }
      ],
      "source": [
        "mae(y_train, y_tr_pred)"
      ]
    },
    {
      "cell_type": "code",
      "execution_count": 26,
      "metadata": {
        "id": "rSxuQacGw1fD",
        "outputId": "10f4a8e8-3834-4ae3-e49f-f4deac3f23cb",
        "colab": {
          "base_uri": "https://localhost:8080/"
        }
      },
      "outputs": [
        {
          "output_type": "execute_result",
          "data": {
            "text/plain": [
              "19.136142081278486"
            ]
          },
          "metadata": {},
          "execution_count": 26
        }
      ],
      "source": [
        "mae(y_test, y_te_pred)"
      ]
    },
    {
      "cell_type": "markdown",
      "metadata": {
        "id": "KWXxPYdNw1fD"
      },
      "source": [
        "Mean absolute error is arguably the most intuitive of all the metrics, this essentially tells you that, on average, you might expect to be off by around \\\\$19 if you guessed ticket price based on an average of known values."
      ]
    },
    {
      "cell_type": "markdown",
      "metadata": {
        "id": "XgulIr3gw1fE"
      },
      "source": [
        "#### 4.7.1.3 Mean Squared Error<a id='4.7.1.3_Mean_Squared_Error'></a>"
      ]
    },
    {
      "cell_type": "markdown",
      "metadata": {
        "id": "Hv23OBhdw1fE"
      },
      "source": [
        "Another common metric (and an important one internally for optimizing machine learning models) is the mean squared error. This is simply the average of the square of the errors:\n",
        "\n",
        "$$MSE = \\frac{1}{n}\\sum_i^n(y_i - \\hat{y})^2$$"
      ]
    },
    {
      "cell_type": "code",
      "execution_count": 27,
      "metadata": {
        "scrolled": true,
        "id": "5PvwpWk2w1fE"
      },
      "outputs": [],
      "source": [
        "#Code task 8#\n",
        "#Calculate the MSE as defined above\n",
        "def mse(y, ypred):\n",
        "    \"\"\"Mean square error.\n",
        "    \n",
        "    Calculate the mean square error of the arguments\n",
        "\n",
        "    Arguments:\n",
        "    y -- the observed values\n",
        "    ypred -- the predicted values\n",
        "    \"\"\"\n",
        "    sq_error = (y - ypred)**2\n",
        "    mse = np.mean(sq_error)\n",
        "    return mse"
      ]
    },
    {
      "cell_type": "code",
      "execution_count": 28,
      "metadata": {
        "id": "qeO3rzRDw1fE",
        "outputId": "f884380d-b6ee-4533-8514-5f1feca01b8b",
        "colab": {
          "base_uri": "https://localhost:8080/"
        }
      },
      "outputs": [
        {
          "output_type": "execute_result",
          "data": {
            "text/plain": [
              "614.1334096969057"
            ]
          },
          "metadata": {},
          "execution_count": 28
        }
      ],
      "source": [
        "mse(y_train, y_tr_pred)"
      ]
    },
    {
      "cell_type": "code",
      "execution_count": 29,
      "metadata": {
        "id": "l9QhCVxAw1fE",
        "outputId": "51bd3893-1698-40f9-9b83-092721cb7ef6",
        "colab": {
          "base_uri": "https://localhost:8080/"
        }
      },
      "outputs": [
        {
          "output_type": "execute_result",
          "data": {
            "text/plain": [
              "581.4365441953481"
            ]
          },
          "metadata": {},
          "execution_count": 29
        }
      ],
      "source": [
        "mse(y_test, y_te_pred)"
      ]
    },
    {
      "cell_type": "markdown",
      "metadata": {
        "id": "WWdwIG-4w1fE"
      },
      "source": [
        "So here, you get a slightly better MSE on the test set than you did on the train set. And what does a squared error mean anyway? To convert this back to our measurement space, we often take the square root, to form the _root mean square error_ thus:"
      ]
    },
    {
      "cell_type": "code",
      "execution_count": 30,
      "metadata": {
        "id": "0C8tTlelw1fE",
        "outputId": "f0238392-7401-4da7-b2c8-8230333814fe",
        "colab": {
          "base_uri": "https://localhost:8080/"
        }
      },
      "outputs": [
        {
          "output_type": "execute_result",
          "data": {
            "text/plain": [
              "array([24.78171523, 24.11299534])"
            ]
          },
          "metadata": {},
          "execution_count": 30
        }
      ],
      "source": [
        "np.sqrt([mse(y_train, y_tr_pred), mse(y_test, y_te_pred)])"
      ]
    },
    {
      "cell_type": "markdown",
      "metadata": {
        "id": "RhjxRJJVw1fF"
      },
      "source": [
        "### 4.7.2 sklearn metrics<a id='4.7.2_sklearn_metrics'></a>"
      ]
    },
    {
      "cell_type": "markdown",
      "metadata": {
        "id": "2eqoKZarw1fF"
      },
      "source": [
        "Functions are good, but you don't want to have to define functions every time we want to assess performance. `sklearn.metrics` provides many commonly used metrics, included the ones above."
      ]
    },
    {
      "cell_type": "markdown",
      "metadata": {
        "id": "AfW8cYCrw1fF"
      },
      "source": [
        "##### 4.7.2.0.1 R-squared<a id='4.7.2.0.1_R-squared'></a>"
      ]
    },
    {
      "cell_type": "code",
      "execution_count": 31,
      "metadata": {
        "id": "CwRQYwWyw1fF",
        "outputId": "c66712e3-6eed-4b88-e101-ad1e4a88993f",
        "colab": {
          "base_uri": "https://localhost:8080/"
        }
      },
      "outputs": [
        {
          "output_type": "execute_result",
          "data": {
            "text/plain": [
              "(0.0, -0.0031235200417913944)"
            ]
          },
          "metadata": {},
          "execution_count": 31
        }
      ],
      "source": [
        "r2_score(y_train, y_tr_pred), r2_score(y_test, y_te_pred)"
      ]
    },
    {
      "cell_type": "markdown",
      "metadata": {
        "id": "DjdmCUU8w1fF"
      },
      "source": [
        "##### 4.7.2.0.2 Mean absolute error<a id='4.7.2.0.2_Mean_absolute_error'></a>"
      ]
    },
    {
      "cell_type": "code",
      "execution_count": 32,
      "metadata": {
        "id": "I1BR434Xw1fF",
        "outputId": "abee39be-22fc-4e03-882b-d093b872f43b",
        "colab": {
          "base_uri": "https://localhost:8080/"
        }
      },
      "outputs": [
        {
          "output_type": "execute_result",
          "data": {
            "text/plain": [
              "(17.92346371714677, 19.136142081278486)"
            ]
          },
          "metadata": {},
          "execution_count": 32
        }
      ],
      "source": [
        "mean_absolute_error(y_train, y_tr_pred), mean_absolute_error(y_test, y_te_pred)"
      ]
    },
    {
      "cell_type": "markdown",
      "metadata": {
        "id": "aTuuyWe_w1fF"
      },
      "source": [
        "##### 4.7.2.0.3 Mean squared error<a id='4.7.2.0.3_Mean_squared_error'></a>"
      ]
    },
    {
      "cell_type": "code",
      "execution_count": 33,
      "metadata": {
        "id": "jLLQyVbUw1fF",
        "outputId": "c3c356f2-0816-41b9-c6e5-9d3b314d0220",
        "colab": {
          "base_uri": "https://localhost:8080/"
        }
      },
      "outputs": [
        {
          "output_type": "execute_result",
          "data": {
            "text/plain": [
              "(614.1334096969046, 581.4365441953483)"
            ]
          },
          "metadata": {},
          "execution_count": 33
        }
      ],
      "source": [
        "mean_squared_error(y_train, y_tr_pred), mean_squared_error(y_test, y_te_pred)"
      ]
    },
    {
      "cell_type": "markdown",
      "metadata": {
        "id": "wIVzPN3sw1fG"
      },
      "source": [
        "### 4.7.3 Note On Calculating Metrics<a id='4.7.3_Note_On_Calculating_Metrics'></a>"
      ]
    },
    {
      "cell_type": "markdown",
      "metadata": {
        "id": "GVE_4waYw1fG"
      },
      "source": [
        "When calling functions to calculate metrics, it is important to take care in the order of the arguments. Two of the metrics above actually don't care if the arguments are reversed; one does. Which one cares?"
      ]
    },
    {
      "cell_type": "markdown",
      "metadata": {
        "id": "jqbu_g1Jw1fG"
      },
      "source": [
        "In a Jupyter code cell, running `r2_score?` will bring up the docstring for the function, and `r2_score??` will bring up the actual code of the function! Try them and compare the source for `sklearn`'s function with yours. Feel free to explore what happens when you reverse the order of the arguments and compare behaviour of `sklearn`'s function and yours."
      ]
    },
    {
      "cell_type": "code",
      "execution_count": 34,
      "metadata": {
        "id": "iyJ8LiXaw1fG",
        "outputId": "771b7145-7e34-4b52-88a7-73527893ee6c",
        "colab": {
          "base_uri": "https://localhost:8080/"
        }
      },
      "outputs": [
        {
          "output_type": "execute_result",
          "data": {
            "text/plain": [
              "(0.0, -3.041041349306602e+30)"
            ]
          },
          "metadata": {},
          "execution_count": 34
        }
      ],
      "source": [
        "# train set - sklearn\n",
        "# correct order, incorrect order\n",
        "r2_score(y_train, y_tr_pred), r2_score(y_tr_pred, y_train)"
      ]
    },
    {
      "cell_type": "code",
      "execution_count": 35,
      "metadata": {
        "id": "rdLa8ZXow1fG",
        "outputId": "385622bf-d7cf-4afd-9080-b80873e35728",
        "colab": {
          "base_uri": "https://localhost:8080/"
        }
      },
      "outputs": [
        {
          "output_type": "execute_result",
          "data": {
            "text/plain": [
              "(-0.0031235200417913944, 0.0)"
            ]
          },
          "metadata": {},
          "execution_count": 35
        }
      ],
      "source": [
        "# test set - sklearn\n",
        "# correct order, incorrect order\n",
        "r2_score(y_test, y_te_pred), r2_score(y_te_pred, y_test)"
      ]
    },
    {
      "cell_type": "code",
      "execution_count": 36,
      "metadata": {
        "id": "KahVSY0Pw1fG",
        "outputId": "c9999bfd-c215-4886-cd7d-3087d94c98a9",
        "colab": {
          "base_uri": "https://localhost:8080/"
        }
      },
      "outputs": [
        {
          "output_type": "execute_result",
          "data": {
            "text/plain": [
              "(0.0, -3.041041349306602e+30)"
            ]
          },
          "metadata": {},
          "execution_count": 36
        }
      ],
      "source": [
        "# train set - using our homebrew function\n",
        "# correct order, incorrect order\n",
        "r_squared(y_train, y_tr_pred), r_squared(y_tr_pred, y_train)"
      ]
    },
    {
      "cell_type": "code",
      "execution_count": 37,
      "metadata": {
        "id": "Ig_8o-Onw1fG",
        "outputId": "d08c0c92-d85e-4ac1-ffa5-f5a876e2eb65",
        "colab": {
          "base_uri": "https://localhost:8080/"
        }
      },
      "outputs": [
        {
          "output_type": "stream",
          "name": "stderr",
          "text": [
            "/usr/local/lib/python3.7/dist-packages/ipykernel_launcher.py:15: RuntimeWarning: divide by zero encountered in double_scalars\n",
            "  from ipykernel import kernelapp as app\n"
          ]
        },
        {
          "output_type": "execute_result",
          "data": {
            "text/plain": [
              "(-0.0031235200417913944, -inf)"
            ]
          },
          "metadata": {},
          "execution_count": 37
        }
      ],
      "source": [
        "# test set - using our homebrew function\n",
        "# correct order, incorrect order\n",
        "r_squared(y_test, y_te_pred), r_squared(y_te_pred, y_test)"
      ]
    },
    {
      "cell_type": "markdown",
      "metadata": {
        "id": "nzk2MUS-w1fG"
      },
      "source": [
        "You can get very different results swapping the argument order. It's worth highlighting this because data scientists do this too much in the real world! Don't be one of them! Frequently the argument order doesn't matter, but it will bite you when you do it with a function that does care. It's sloppy, bad practice and if you don't make a habit of putting arguments in the right order, you will forget!\n",
        "\n",
        "Remember:\n",
        "* argument order matters,\n",
        "* check function syntax with `func?` in a code cell"
      ]
    },
    {
      "cell_type": "markdown",
      "metadata": {
        "id": "9A_Fb0PZw1fH"
      },
      "source": [
        "## 4.8 Initial Models<a id='4.8_Initial_Models'></a>"
      ]
    },
    {
      "cell_type": "markdown",
      "metadata": {
        "id": "-Igi8fxSw1fH"
      },
      "source": [
        "### 4.8.1 Imputing missing feature (predictor) values<a id='4.8.1_Imputing_missing_feature_(predictor)_values'></a>"
      ]
    },
    {
      "cell_type": "markdown",
      "metadata": {
        "id": "vpZ6iX67w1fH"
      },
      "source": [
        "Recall when performing EDA, you imputed (filled in) some missing values in pandas. You did this judiciously for exploratory/visualization purposes. You left many missing values in the data. You can impute missing values using scikit-learn, but note that you should learn values to impute from a train split and apply that to the test split to then assess how well your imputation worked."
      ]
    },
    {
      "cell_type": "markdown",
      "metadata": {
        "id": "XSY2qzhcw1fH"
      },
      "source": [
        "#### 4.8.1.1 Impute missing values with median<a id='4.8.1.1_Impute_missing_values_with_median'></a>"
      ]
    },
    {
      "cell_type": "markdown",
      "metadata": {
        "id": "2fJZMEvlw1fH"
      },
      "source": [
        "There's missing values. Recall from your data exploration that many distributions were skewed. Your first thought might be to impute missing values using the median."
      ]
    },
    {
      "cell_type": "markdown",
      "metadata": {
        "id": "tr-QyXuxw1fH"
      },
      "source": [
        "##### 4.8.1.1.1 Learn the values to impute from the train set<a id='4.8.1.1.1_Learn_the_values_to_impute_from_the_train_set'></a>"
      ]
    },
    {
      "cell_type": "code",
      "execution_count": 38,
      "metadata": {
        "id": "T2Ba-Qb_w1fH",
        "outputId": "e44f5baf-43b2-414c-fca1-0e50eec45168",
        "colab": {
          "base_uri": "https://localhost:8080/"
        }
      },
      "outputs": [
        {
          "output_type": "execute_result",
          "data": {
            "text/plain": [
              "summit_elev                           2215.000000\n",
              "vertical_drop                          750.000000\n",
              "base_elev                             1300.000000\n",
              "trams                                    0.000000\n",
              "fastSixes                                0.000000\n",
              "fastQuads                                0.000000\n",
              "quad                                     1.000000\n",
              "triple                                   1.000000\n",
              "double                                   1.000000\n",
              "surface                                  2.000000\n",
              "total_chairs                             7.000000\n",
              "Runs                                    28.000000\n",
              "TerrainParks                             2.000000\n",
              "LongestRun_mi                            1.000000\n",
              "SkiableTerrain_ac                      170.000000\n",
              "Snow Making_ac                          96.500000\n",
              "daysOpenLastYear                       109.000000\n",
              "yearsOpen                               57.000000\n",
              "averageSnowfall                        120.000000\n",
              "projectedDaysOpen                      115.000000\n",
              "NightSkiing_ac                          70.000000\n",
              "resorts_per_state                       15.000000\n",
              "resorts_per_100kcapita                   0.248243\n",
              "resorts_per_100ksq_mile                 22.902162\n",
              "resort_skiable_area_ac_state_ratio       0.051458\n",
              "resort_days_open_state_ratio             0.071225\n",
              "resort_terrain_park_state_ratio          0.069444\n",
              "resort_night_skiing_state_ratio          0.077081\n",
              "total_chairs_runs_ratio                  0.200000\n",
              "total_chairs_skiable_ratio               0.040323\n",
              "fastQuads_runs_ratio                     0.000000\n",
              "fastQuads_skiable_ratio                  0.000000\n",
              "dtype: float64"
            ]
          },
          "metadata": {},
          "execution_count": 38
        }
      ],
      "source": [
        "# These are the values we'll use to fill in any missing values\n",
        "X_defaults_median = X_train.median()\n",
        "X_defaults_median"
      ]
    },
    {
      "cell_type": "markdown",
      "metadata": {
        "id": "-uGOCKidw1fH"
      },
      "source": [
        "##### 4.8.1.1.2 Apply the imputation to both train and test splits<a id='4.8.1.1.2_Apply_the_imputation_to_both_train_and_test_splits'></a>"
      ]
    },
    {
      "cell_type": "code",
      "execution_count": 39,
      "metadata": {
        "id": "86OlI6r7w1fH"
      },
      "outputs": [],
      "source": [
        "#Code task 9#\n",
        "#Call `X_train` and `X_test`'s `fillna()` method, passing `X_defaults_median` as the values to use\n",
        "#Assign the results to `X_tr` and `X_te`, respectively\n",
        "X_tr = X_train.fillna(X_defaults_median)\n",
        "X_te = X_test.fillna(X_defaults_median)"
      ]
    },
    {
      "cell_type": "markdown",
      "metadata": {
        "id": "5MEiMcmBw1fH"
      },
      "source": [
        "##### 4.8.1.1.3 Scale the data<a id='4.8.1.1.3_Scale_the_data'></a>"
      ]
    },
    {
      "cell_type": "markdown",
      "metadata": {
        "id": "XBdcQ6YIw1fI"
      },
      "source": [
        "As you have features measured in many different units, with numbers that vary by orders of magnitude, start off by scaling them to put them all on a consistent scale. The [StandardScaler](https://scikit-learn.org/stable/modules/generated/sklearn.preprocessing.StandardScaler.html) scales each feature to zero mean and unit variance."
      ]
    },
    {
      "cell_type": "code",
      "execution_count": 40,
      "metadata": {
        "id": "vSfrmrjiw1fI"
      },
      "outputs": [],
      "source": [
        "#Code task 10#\n",
        "#Call the StandardScaler`s fit method on `X_tr` to fit the scaler\n",
        "#then use it's `transform()` method to apply the scaling to both the train and test split\n",
        "#data (`X_tr` and `X_te`), naming the results `X_tr_scaled` and `X_te_scaled`, respectively\n",
        "scaler = StandardScaler()\n",
        "scaler.fit(X_tr)\n",
        "X_tr_scaled = scaler.transform(X_tr)\n",
        "X_te_scaled = scaler.transform(X_te)"
      ]
    },
    {
      "cell_type": "markdown",
      "metadata": {
        "id": "SJhgbuA7w1fJ"
      },
      "source": [
        "##### 4.8.1.1.4 Train the model on the train split<a id='4.8.1.1.4_Train_the_model_on_the_train_split'></a>"
      ]
    },
    {
      "cell_type": "code",
      "execution_count": 41,
      "metadata": {
        "id": "P-bk1PVKw1fJ"
      },
      "outputs": [],
      "source": [
        "lm = LinearRegression().fit(X_tr_scaled, y_train)"
      ]
    },
    {
      "cell_type": "markdown",
      "metadata": {
        "id": "srMRFGXnw1fJ"
      },
      "source": [
        "##### 4.8.1.1.5 Make predictions using the model on both train and test splits<a id='4.8.1.1.5_Make_predictions_using_the_model_on_both_train_and_test_splits'></a>"
      ]
    },
    {
      "cell_type": "code",
      "execution_count": 42,
      "metadata": {
        "id": "iizziuPQw1fJ"
      },
      "outputs": [],
      "source": [
        "#Code task 11#\n",
        "#Call the `predict()` method of the model (`lm`) on both the (scaled) train and test data\n",
        "#Assign the predictions to `y_tr_pred` and `y_te_pred`, respectively\n",
        "y_tr_pred = lm.predict(X_tr_scaled)\n",
        "y_te_pred = lm.predict(X_te_scaled)"
      ]
    },
    {
      "cell_type": "markdown",
      "metadata": {
        "id": "C9NVxzLIw1fJ"
      },
      "source": [
        "##### 4.8.1.1.6 Assess model performance<a id='4.8.1.1.6_Assess_model_performance'></a>"
      ]
    },
    {
      "cell_type": "code",
      "execution_count": 43,
      "metadata": {
        "id": "y2ql4w2nw1fJ",
        "outputId": "dc6811fb-5f30-430d-ef83-98c693aa317f",
        "colab": {
          "base_uri": "https://localhost:8080/"
        }
      },
      "outputs": [
        {
          "output_type": "execute_result",
          "data": {
            "text/plain": [
              "(0.8177988515690604, 0.7209725843435146)"
            ]
          },
          "metadata": {},
          "execution_count": 43
        }
      ],
      "source": [
        "# r^2 - train, test\n",
        "median_r2 = r2_score(y_train, y_tr_pred), r2_score(y_test, y_te_pred)\n",
        "median_r2"
      ]
    },
    {
      "cell_type": "markdown",
      "metadata": {
        "id": "5DOG9WmPw1fJ"
      },
      "source": [
        "Recall that you estimated ticket price by simply using a known average. As expected, this produced an $R^2$ of zero for both the training and test set, because $R^2$ tells us how much of the variance you're explaining beyond that of using just the mean, and you were using just the mean. Here we see that our simple linear regression model explains over 80% of the variance on the train set and over 70% on the test set. Clearly you are onto something, although the much lower value for the test set suggests you're overfitting somewhat. This isn't a surprise as you've made no effort to select a parsimonious set of features or deal with multicollinearity in our data."
      ]
    },
    {
      "cell_type": "code",
      "execution_count": 44,
      "metadata": {
        "id": "PK88n5Kpw1fJ",
        "colab": {
          "base_uri": "https://localhost:8080/"
        },
        "outputId": "0dd95cc8-34c4-4ad7-96cc-054ebfc77add"
      },
      "outputs": [
        {
          "output_type": "execute_result",
          "data": {
            "text/plain": [
              "(8.547850301825427, 9.40702011858132)"
            ]
          },
          "metadata": {},
          "execution_count": 44
        }
      ],
      "source": [
        "#Code task 12#\n",
        "#Now calculate the mean absolute error scores using `sklearn`'s `mean_absolute_error` function\n",
        "# as we did above for R^2\n",
        "# MAE - train, test\n",
        "median_mae = mean_absolute_error(y_train, y_tr_pred), mean_absolute_error(y_test, y_te_pred)\n",
        "median_mae"
      ]
    },
    {
      "cell_type": "markdown",
      "metadata": {
        "id": "muOw2YPYw1fK"
      },
      "source": [
        "Using this model, then, on average you'd expect to estimate a ticket price within \\\\$9 or so of the real price. This is much, much better than the \\\\$19 from just guessing using the average. There may be something to this machine learning lark after all!"
      ]
    },
    {
      "cell_type": "code",
      "execution_count": 45,
      "metadata": {
        "id": "gkJPg3Ucw1fK",
        "colab": {
          "base_uri": "https://localhost:8080/"
        },
        "outputId": "dc50786b-a70e-4bbc-9b4e-01db11e6d3e3"
      },
      "outputs": [
        {
          "output_type": "execute_result",
          "data": {
            "text/plain": [
              "(111.89581253658478, 161.73156451192267)"
            ]
          },
          "metadata": {},
          "execution_count": 45
        }
      ],
      "source": [
        "#Code task 13#\n",
        "#And also do the same using `sklearn`'s `mean_squared_error`\n",
        "# MSE - train, test\n",
        "median_mse = mean_squared_error(y_train, y_tr_pred), mean_squared_error(y_test, y_te_pred)\n",
        "median_mse"
      ]
    },
    {
      "cell_type": "markdown",
      "metadata": {
        "id": "N9k9wu5qw1fK"
      },
      "source": [
        "#### 4.8.1.2 Impute missing values with the mean<a id='4.8.1.2_Impute_missing_values_with_the_mean'></a>"
      ]
    },
    {
      "cell_type": "markdown",
      "metadata": {
        "id": "jW8Rd4qhw1fK"
      },
      "source": [
        "You chose to use the median for filling missing values because of the skew of many of our predictor feature distributions. What if you wanted to try something else, such as the mean?"
      ]
    },
    {
      "cell_type": "markdown",
      "metadata": {
        "id": "Jb9OIKMxw1fK"
      },
      "source": [
        "##### 4.8.1.2.1 Learn the values to impute from the train set<a id='4.8.1.2.1_Learn_the_values_to_impute_from_the_train_set'></a>"
      ]
    },
    {
      "cell_type": "code",
      "execution_count": 46,
      "metadata": {
        "id": "jCDJJ0Q-w1fK",
        "colab": {
          "base_uri": "https://localhost:8080/"
        },
        "outputId": "61a6c237-f33e-4a7c-fd75-b6ea46770f4d"
      },
      "outputs": [
        {
          "output_type": "execute_result",
          "data": {
            "text/plain": [
              "summit_elev                           4074.554404\n",
              "vertical_drop                         1043.196891\n",
              "base_elev                             3020.512953\n",
              "trams                                    0.103627\n",
              "fastSixes                                0.072539\n",
              "fastQuads                                0.673575\n",
              "quad                                     1.010363\n",
              "triple                                   1.440415\n",
              "double                                   1.813472\n",
              "surface                                  2.497409\n",
              "total_chairs                             7.611399\n",
              "Runs                                    41.188482\n",
              "TerrainParks                             2.434783\n",
              "LongestRun_mi                            1.293122\n",
              "SkiableTerrain_ac                      448.785340\n",
              "Snow Making_ac                         129.601190\n",
              "daysOpenLastYear                       110.100629\n",
              "yearsOpen                               56.559585\n",
              "averageSnowfall                        162.310160\n",
              "projectedDaysOpen                      115.920245\n",
              "NightSkiing_ac                          86.384615\n",
              "resorts_per_state                       16.264249\n",
              "resorts_per_100kcapita                   0.424802\n",
              "resorts_per_100ksq_mile                 40.957785\n",
              "resort_skiable_area_ac_state_ratio       0.097205\n",
              "resort_days_open_state_ratio             0.126014\n",
              "resort_terrain_park_state_ratio          0.116022\n",
              "resort_night_skiing_state_ratio          0.155024\n",
              "total_chairs_runs_ratio                  0.271441\n",
              "total_chairs_skiable_ratio               0.070483\n",
              "fastQuads_runs_ratio                     0.010401\n",
              "fastQuads_skiable_ratio                  0.001633\n",
              "dtype: float64"
            ]
          },
          "metadata": {},
          "execution_count": 46
        }
      ],
      "source": [
        "#Code task 14#\n",
        "#As we did for the median above, calculate mean values for imputing missing values\n",
        "# These are the values we'll use to fill in any missing values\n",
        "X_defaults_mean = X_train.mean()\n",
        "X_defaults_mean"
      ]
    },
    {
      "cell_type": "markdown",
      "metadata": {
        "id": "6OYKChhUw1fK"
      },
      "source": [
        "By eye, you can immediately tell that your replacement values are much higher than those from using the median."
      ]
    },
    {
      "cell_type": "markdown",
      "metadata": {
        "id": "--hVcAQHw1fK"
      },
      "source": [
        "##### 4.8.1.2.2 Apply the imputation to both train and test splits<a id='4.8.1.2.2_Apply_the_imputation_to_both_train_and_test_splits'></a>"
      ]
    },
    {
      "cell_type": "code",
      "execution_count": 47,
      "metadata": {
        "id": "85fcReIKw1fK"
      },
      "outputs": [],
      "source": [
        "X_tr = X_train.fillna(X_defaults_mean)\n",
        "X_te = X_test.fillna(X_defaults_mean)"
      ]
    },
    {
      "cell_type": "markdown",
      "metadata": {
        "id": "As-PwOn2w1fL"
      },
      "source": [
        "##### 4.8.1.2.3 Scale the data<a id='4.8.1.2.3_Scale_the_data'></a>"
      ]
    },
    {
      "cell_type": "code",
      "execution_count": 48,
      "metadata": {
        "id": "o7f_gyOKw1fL"
      },
      "outputs": [],
      "source": [
        "scaler = StandardScaler()\n",
        "scaler.fit(X_tr)\n",
        "X_tr_scaled = scaler.transform(X_tr)\n",
        "X_te_scaled = scaler.transform(X_te)"
      ]
    },
    {
      "cell_type": "markdown",
      "metadata": {
        "id": "2md0Frw3w1fL"
      },
      "source": [
        "##### 4.8.1.2.4 Train the model on the train split<a id='4.8.1.2.4_Train_the_model_on_the_train_split'></a>"
      ]
    },
    {
      "cell_type": "code",
      "execution_count": 49,
      "metadata": {
        "id": "Z5HnJ5Jow1fL"
      },
      "outputs": [],
      "source": [
        "lm = LinearRegression().fit(X_tr_scaled, y_train)"
      ]
    },
    {
      "cell_type": "markdown",
      "metadata": {
        "id": "1ACPYMstw1fL"
      },
      "source": [
        "##### 4.8.1.2.5 Make predictions using the model on both train and test splits<a id='4.8.1.2.5_Make_predictions_using_the_model_on_both_train_and_test_splits'></a>"
      ]
    },
    {
      "cell_type": "code",
      "execution_count": 50,
      "metadata": {
        "id": "DXi5Fn-xw1fL"
      },
      "outputs": [],
      "source": [
        "y_tr_pred = lm.predict(X_tr_scaled)\n",
        "y_te_pred = lm.predict(X_te_scaled)"
      ]
    },
    {
      "cell_type": "markdown",
      "metadata": {
        "id": "WqrWgc8Jw1fL"
      },
      "source": [
        "##### 4.8.1.2.6 Assess model performance<a id='4.8.1.2.6_Assess_model_performance'></a>"
      ]
    },
    {
      "cell_type": "code",
      "execution_count": 51,
      "metadata": {
        "id": "qXITd-ynw1fL",
        "outputId": "3233425e-a083-446a-ab4a-973a9b085bdc",
        "colab": {
          "base_uri": "https://localhost:8080/"
        }
      },
      "outputs": [
        {
          "output_type": "execute_result",
          "data": {
            "text/plain": [
              "(0.8170154093990025, 0.716381471695996)"
            ]
          },
          "metadata": {},
          "execution_count": 51
        }
      ],
      "source": [
        "r2_score(y_train, y_tr_pred), r2_score(y_test, y_te_pred)"
      ]
    },
    {
      "cell_type": "code",
      "execution_count": 52,
      "metadata": {
        "id": "bApstTX9w1fL",
        "outputId": "fb6f8820-a043-4157-fe59-d581d809c584",
        "colab": {
          "base_uri": "https://localhost:8080/"
        }
      },
      "outputs": [
        {
          "output_type": "execute_result",
          "data": {
            "text/plain": [
              "(8.536884040670977, 9.416375625789271)"
            ]
          },
          "metadata": {},
          "execution_count": 52
        }
      ],
      "source": [
        "mean_absolute_error(y_train, y_tr_pred), mean_absolute_error(y_test, y_te_pred)"
      ]
    },
    {
      "cell_type": "code",
      "execution_count": 53,
      "metadata": {
        "id": "OhSY4mPWw1fM",
        "outputId": "32405b9c-01dd-410c-9804-ffe2bacc6a1d",
        "colab": {
          "base_uri": "https://localhost:8080/"
        }
      },
      "outputs": [
        {
          "output_type": "execute_result",
          "data": {
            "text/plain": [
              "(112.37695054778277, 164.39269309524363)"
            ]
          },
          "metadata": {},
          "execution_count": 53
        }
      ],
      "source": [
        "mean_squared_error(y_train, y_tr_pred), mean_squared_error(y_test, y_te_pred)"
      ]
    },
    {
      "cell_type": "markdown",
      "metadata": {
        "id": "x7JYjqurw1fM"
      },
      "source": [
        "These results don't seem very different to when you used the median for imputing missing values. Perhaps it doesn't make much difference here. Maybe your overtraining dominates. Maybe other feature transformations, such as taking the log, would help. You could try with just a subset of features rather than using all of them as inputs.\n",
        "\n",
        "To perform the median/mean comparison, you copied and pasted a lot of code just to change the function for imputing missing values. It would make more sense to write a function that performed the sequence of steps:\n",
        "1. impute missing values\n",
        "2. scale the features\n",
        "3. train a model\n",
        "4. calculate model performance\n",
        "\n",
        "But these are common steps and `sklearn` provides something much better than writing custom functions."
      ]
    },
    {
      "cell_type": "markdown",
      "metadata": {
        "id": "z187Sgumw1fM"
      },
      "source": [
        "### 4.8.2 Pipelines<a id='4.8.2_Pipelines'></a>"
      ]
    },
    {
      "cell_type": "markdown",
      "metadata": {
        "id": "nmWGM39Hw1fM"
      },
      "source": [
        "One of the most important and useful components of `sklearn` is the [pipeline](https://scikit-learn.org/stable/modules/generated/sklearn.pipeline.Pipeline.html). In place of `panda`'s `fillna` DataFrame method, there is `sklearn`'s `SimpleImputer`. Remember the first linear model above performed the steps:\n",
        "\n",
        "1. replace missing values with the median for each feature\n",
        "2. scale the data to zero mean and unit variance\n",
        "3. train a linear regression model\n",
        "\n",
        "and all these steps were trained on the train split and then applied to the test split for assessment.\n",
        "\n",
        "The pipeline below defines exactly those same steps. Crucially, the resultant `Pipeline` object has a `fit()` method and a `predict()` method, just like the `LinearRegression()` object itself. Just as you might create a linear regression model and train it with `.fit()` and predict with `.predict()`, you can wrap the entire process of imputing and feature scaling and regression in a single object you can train with `.fit()` and predict with `.predict()`. And that's basically a pipeline: a model on steroids."
      ]
    },
    {
      "cell_type": "markdown",
      "metadata": {
        "id": "jSxXsYqaw1fM"
      },
      "source": [
        "#### 4.8.2.1 Define the pipeline<a id='4.8.2.1_Define_the_pipeline'></a>"
      ]
    },
    {
      "cell_type": "code",
      "execution_count": 54,
      "metadata": {
        "id": "BOXdPNGpw1fM"
      },
      "outputs": [],
      "source": [
        "pipe = make_pipeline(\n",
        "    SimpleImputer(strategy='median'), \n",
        "    StandardScaler(), \n",
        "    LinearRegression()\n",
        ")"
      ]
    },
    {
      "cell_type": "code",
      "execution_count": 55,
      "metadata": {
        "id": "XHDYg7XNw1fM",
        "outputId": "3fa91c41-9ea0-44e1-b1de-377451b51f54",
        "colab": {
          "base_uri": "https://localhost:8080/"
        }
      },
      "outputs": [
        {
          "output_type": "execute_result",
          "data": {
            "text/plain": [
              "sklearn.pipeline.Pipeline"
            ]
          },
          "metadata": {},
          "execution_count": 55
        }
      ],
      "source": [
        "type(pipe)"
      ]
    },
    {
      "cell_type": "code",
      "execution_count": 56,
      "metadata": {
        "id": "_epEBFq-w1fN",
        "outputId": "8f982b64-532e-4e57-f4df-3c905b7690bc",
        "colab": {
          "base_uri": "https://localhost:8080/"
        }
      },
      "outputs": [
        {
          "output_type": "execute_result",
          "data": {
            "text/plain": [
              "(True, True)"
            ]
          },
          "metadata": {},
          "execution_count": 56
        }
      ],
      "source": [
        "hasattr(pipe, 'fit'), hasattr(pipe, 'predict')"
      ]
    },
    {
      "cell_type": "markdown",
      "metadata": {
        "id": "XUTWxRiIw1fN"
      },
      "source": [
        "#### 4.8.2.2 Fit the pipeline<a id='4.8.2.2_Fit_the_pipeline'></a>"
      ]
    },
    {
      "cell_type": "markdown",
      "metadata": {
        "id": "G6CVf0Lkw1fN"
      },
      "source": [
        "Here, a single call to the pipeline's `fit()` method combines the steps of learning the imputation (determining what values to use to fill the missing ones), the scaling (determining the mean to subtract and the variance to divide by), and then training the model. It does this all in the one call with the training data as arguments."
      ]
    },
    {
      "cell_type": "code",
      "execution_count": 57,
      "metadata": {
        "id": "PfBQyc02w1fN",
        "colab": {
          "base_uri": "https://localhost:8080/"
        },
        "outputId": "44f2ff77-503c-4bb5-ffbd-230de2a18842"
      },
      "outputs": [
        {
          "output_type": "execute_result",
          "data": {
            "text/plain": [
              "Pipeline(steps=[('simpleimputer', SimpleImputer(strategy='median')),\n",
              "                ('standardscaler', StandardScaler()),\n",
              "                ('linearregression', LinearRegression())])"
            ]
          },
          "metadata": {},
          "execution_count": 57
        }
      ],
      "source": [
        "#Code task 15#\n",
        "#Call the pipe's `fit()` method with `X_train` and `y_train` as arguments\n",
        "pipe.fit(X_train,y_train)"
      ]
    },
    {
      "cell_type": "markdown",
      "metadata": {
        "id": "djoArXj_w1fN"
      },
      "source": [
        "#### 4.8.2.3 Make predictions on the train and test sets<a id='4.8.2.3_Make_predictions_on_the_train_and_test_sets'></a>"
      ]
    },
    {
      "cell_type": "code",
      "execution_count": 58,
      "metadata": {
        "id": "AFX_2oHrw1fN"
      },
      "outputs": [],
      "source": [
        "y_tr_pred = pipe.predict(X_train)\n",
        "y_te_pred = pipe.predict(X_test)"
      ]
    },
    {
      "cell_type": "markdown",
      "metadata": {
        "id": "39kSt2s1w1fN"
      },
      "source": [
        "#### 4.8.2.4 Assess performance<a id='4.8.2.4_Assess_performance'></a>"
      ]
    },
    {
      "cell_type": "code",
      "execution_count": 59,
      "metadata": {
        "id": "nobNB_Dcw1fN",
        "outputId": "ab23d606-9ada-42b5-e6fa-1364cde1749c",
        "colab": {
          "base_uri": "https://localhost:8080/"
        }
      },
      "outputs": [
        {
          "output_type": "execute_result",
          "data": {
            "text/plain": [
              "(0.8177988515690604, 0.7209725843435146)"
            ]
          },
          "metadata": {},
          "execution_count": 59
        }
      ],
      "source": [
        "r2_score(y_train, y_tr_pred), r2_score(y_test, y_te_pred)"
      ]
    },
    {
      "cell_type": "markdown",
      "metadata": {
        "id": "A10EGpsBw1fN"
      },
      "source": [
        "And compare with your earlier (non-pipeline) result:"
      ]
    },
    {
      "cell_type": "code",
      "execution_count": 60,
      "metadata": {
        "id": "a3UYHxwFw1fO",
        "outputId": "110d122e-0bb7-467b-f53d-f091df3693c0",
        "colab": {
          "base_uri": "https://localhost:8080/"
        }
      },
      "outputs": [
        {
          "output_type": "execute_result",
          "data": {
            "text/plain": [
              "(0.8177988515690604, 0.7209725843435146)"
            ]
          },
          "metadata": {},
          "execution_count": 60
        }
      ],
      "source": [
        "median_r2"
      ]
    },
    {
      "cell_type": "code",
      "execution_count": 61,
      "metadata": {
        "id": "KwxrY7lgw1fO",
        "outputId": "2608e09d-ded8-49ff-966a-a7e9ac42e20c",
        "colab": {
          "base_uri": "https://localhost:8080/"
        }
      },
      "outputs": [
        {
          "output_type": "execute_result",
          "data": {
            "text/plain": [
              "(8.547850301825427, 9.40702011858132)"
            ]
          },
          "metadata": {},
          "execution_count": 61
        }
      ],
      "source": [
        "mean_absolute_error(y_train, y_tr_pred), mean_absolute_error(y_test, y_te_pred)"
      ]
    },
    {
      "cell_type": "code",
      "execution_count": 62,
      "metadata": {
        "id": "aMuwE2HYw1fO"
      },
      "outputs": [],
      "source": [
        "#Compare with your earlier result:"
      ]
    },
    {
      "cell_type": "code",
      "execution_count": 63,
      "metadata": {
        "id": "Ug7Qd_Aaw1fO",
        "outputId": "94141978-109d-4e20-c946-2451779af3fe",
        "colab": {
          "base_uri": "https://localhost:8080/"
        }
      },
      "outputs": [
        {
          "output_type": "execute_result",
          "data": {
            "text/plain": [
              "(8.547850301825427, 9.40702011858132)"
            ]
          },
          "metadata": {},
          "execution_count": 63
        }
      ],
      "source": [
        "median_mae"
      ]
    },
    {
      "cell_type": "code",
      "execution_count": 64,
      "metadata": {
        "id": "VZDMsmz4w1fO",
        "outputId": "1103dbe9-99cc-499e-9ca8-732cfe28fbe4",
        "colab": {
          "base_uri": "https://localhost:8080/"
        }
      },
      "outputs": [
        {
          "output_type": "execute_result",
          "data": {
            "text/plain": [
              "(111.89581253658478, 161.73156451192267)"
            ]
          },
          "metadata": {},
          "execution_count": 64
        }
      ],
      "source": [
        "mean_squared_error(y_train, y_tr_pred), mean_squared_error(y_test, y_te_pred)"
      ]
    },
    {
      "cell_type": "markdown",
      "metadata": {
        "id": "aI9gCTeiw1fO"
      },
      "source": [
        "Compare with your earlier result:"
      ]
    },
    {
      "cell_type": "code",
      "execution_count": 65,
      "metadata": {
        "id": "5L3n8gW0w1fO",
        "outputId": "697a84cc-3736-46b8-8800-5fda6cf817be",
        "colab": {
          "base_uri": "https://localhost:8080/"
        }
      },
      "outputs": [
        {
          "output_type": "execute_result",
          "data": {
            "text/plain": [
              "(111.89581253658478, 161.73156451192267)"
            ]
          },
          "metadata": {},
          "execution_count": 65
        }
      ],
      "source": [
        "median_mse"
      ]
    },
    {
      "cell_type": "markdown",
      "metadata": {
        "id": "sI3BWycgw1fP"
      },
      "source": [
        "These results confirm the pipeline is doing exactly what's expected, and results are identical to your earlier steps. This allows you to move faster but with confidence."
      ]
    },
    {
      "cell_type": "markdown",
      "metadata": {
        "id": "VXXoTB3hw1fP"
      },
      "source": [
        "## 4.9 Refining The Linear Model<a id='4.9_Refining_The_Linear_Model'></a>"
      ]
    },
    {
      "cell_type": "markdown",
      "metadata": {
        "id": "xgWmlhNfw1fP"
      },
      "source": [
        "You suspected the model was overfitting. This is no real surprise given the number of features you blindly used. It's likely a judicious subset of features would generalize better. `sklearn` has a number of feature selection functions available. The one you'll use here is `SelectKBest` which, as you might guess, selects the k best features. You can read about SelectKBest \n",
        "[here](https://scikit-learn.org/stable/modules/generated/sklearn.feature_selection.SelectKBest.html#sklearn.feature_selection.SelectKBest). `f_regression` is just the [score function](https://scikit-learn.org/stable/modules/generated/sklearn.feature_selection.f_regression.html#sklearn.feature_selection.f_regression) you're using because you're performing regression. It's important to choose an appropriate one for your machine learning task."
      ]
    },
    {
      "cell_type": "markdown",
      "metadata": {
        "id": "bqEYT5u9w1fP"
      },
      "source": [
        "### 4.9.1 Define the pipeline<a id='4.9.1_Define_the_pipeline'></a>"
      ]
    },
    {
      "cell_type": "markdown",
      "metadata": {
        "id": "PaApjplrw1fP"
      },
      "source": [
        "Redefine your pipeline to include this feature selection step:"
      ]
    },
    {
      "cell_type": "code",
      "execution_count": 66,
      "metadata": {
        "id": "T4CeQZFAw1fP"
      },
      "outputs": [],
      "source": [
        "#Code task 16#\n",
        "#Add `SelectKBest` as a step in the pipeline between `StandardScaler()` and `LinearRegression()`\n",
        "#Don't forget to tell it to use `f_regression` as its score function\n",
        "pipe = make_pipeline(\n",
        "    SimpleImputer(strategy='median'), \n",
        "    StandardScaler(),\n",
        "    SelectKBest(f_regression),\n",
        "    LinearRegression()\n",
        ")"
      ]
    },
    {
      "cell_type": "markdown",
      "metadata": {
        "id": "ecBrZoE3w1fP"
      },
      "source": [
        "### 4.9.2 Fit the pipeline<a id='4.9.2_Fit_the_pipeline'></a>"
      ]
    },
    {
      "cell_type": "code",
      "execution_count": 67,
      "metadata": {
        "id": "64lizHj9w1fP",
        "outputId": "10b50544-aaf6-46c7-aa04-9a700410ac49",
        "colab": {
          "base_uri": "https://localhost:8080/"
        }
      },
      "outputs": [
        {
          "output_type": "execute_result",
          "data": {
            "text/plain": [
              "Pipeline(steps=[('simpleimputer', SimpleImputer(strategy='median')),\n",
              "                ('standardscaler', StandardScaler()),\n",
              "                ('selectkbest',\n",
              "                 SelectKBest(score_func=<function f_regression at 0x7ff84aee2e60>)),\n",
              "                ('linearregression', LinearRegression())])"
            ]
          },
          "metadata": {},
          "execution_count": 67
        }
      ],
      "source": [
        "pipe.fit(X_train, y_train)"
      ]
    },
    {
      "cell_type": "markdown",
      "metadata": {
        "id": "92Azkmx3w1fP"
      },
      "source": [
        "### 4.9.3 Assess performance on the train and test set<a id='4.9.3_Assess_performance_on_the_train_and_test_set'></a>"
      ]
    },
    {
      "cell_type": "code",
      "execution_count": 68,
      "metadata": {
        "id": "1Q6UEjnlw1fP"
      },
      "outputs": [],
      "source": [
        "y_tr_pred = pipe.predict(X_train)\n",
        "y_te_pred = pipe.predict(X_test)"
      ]
    },
    {
      "cell_type": "code",
      "execution_count": 69,
      "metadata": {
        "id": "7FURVWVPw1fQ",
        "outputId": "d830f33c-0734-42f4-caff-a11f9309920e",
        "colab": {
          "base_uri": "https://localhost:8080/"
        }
      },
      "outputs": [
        {
          "output_type": "execute_result",
          "data": {
            "text/plain": [
              "(0.7674914326052744, 0.6259877354190837)"
            ]
          },
          "metadata": {},
          "execution_count": 69
        }
      ],
      "source": [
        "r2_score(y_train, y_tr_pred), r2_score(y_test, y_te_pred)"
      ]
    },
    {
      "cell_type": "code",
      "execution_count": 70,
      "metadata": {
        "id": "M9SV_L-8w1fQ",
        "outputId": "06f9bf2b-005d-4165-b6ba-1867e5ea362d",
        "colab": {
          "base_uri": "https://localhost:8080/"
        }
      },
      "outputs": [
        {
          "output_type": "execute_result",
          "data": {
            "text/plain": [
              "(9.501495079727484, 11.20183019033205)"
            ]
          },
          "metadata": {},
          "execution_count": 70
        }
      ],
      "source": [
        "mean_absolute_error(y_train, y_tr_pred), mean_absolute_error(y_test, y_te_pred)"
      ]
    },
    {
      "cell_type": "markdown",
      "metadata": {
        "id": "3fDi2Lrgw1fQ"
      },
      "source": [
        "This has made things worse! Clearly selecting a subset of features has an impact on performance. `SelectKBest` defaults to k=10. You've just seen that 10 is worse than using all features. What is the best k? You could create a new pipeline with a different value of k:"
      ]
    },
    {
      "cell_type": "markdown",
      "metadata": {
        "id": "z_Cm0UoXw1fQ"
      },
      "source": [
        "### 4.9.4 Define a new pipeline to select a different number of features<a id='4.9.4_Define_a_new_pipeline_to_select_a_different_number_of_features'></a>"
      ]
    },
    {
      "cell_type": "code",
      "execution_count": 71,
      "metadata": {
        "id": "xntO62uzw1fQ"
      },
      "outputs": [],
      "source": [
        "#Code task 17#\n",
        "#Modify the `SelectKBest` step to use a value of 15 for k\n",
        "pipe15 = make_pipeline(\n",
        "    SimpleImputer(strategy='median'), \n",
        "    StandardScaler(),\n",
        "    SelectKBest(f_regression, k=15),\n",
        "    LinearRegression()\n",
        ")"
      ]
    },
    {
      "cell_type": "markdown",
      "metadata": {
        "id": "Md4Au-Y0w1fQ"
      },
      "source": [
        "### 4.9.5 Fit the pipeline<a id='4.9.5_Fit_the_pipeline'></a>"
      ]
    },
    {
      "cell_type": "code",
      "execution_count": 72,
      "metadata": {
        "id": "Vwl3wVd2w1fQ",
        "outputId": "67d6d825-b6de-4d1b-bcdd-787a9d7421c2",
        "colab": {
          "base_uri": "https://localhost:8080/"
        }
      },
      "outputs": [
        {
          "output_type": "execute_result",
          "data": {
            "text/plain": [
              "Pipeline(steps=[('simpleimputer', SimpleImputer(strategy='median')),\n",
              "                ('standardscaler', StandardScaler()),\n",
              "                ('selectkbest',\n",
              "                 SelectKBest(k=15,\n",
              "                             score_func=<function f_regression at 0x7ff84aee2e60>)),\n",
              "                ('linearregression', LinearRegression())])"
            ]
          },
          "metadata": {},
          "execution_count": 72
        }
      ],
      "source": [
        "pipe15.fit(X_train, y_train)"
      ]
    },
    {
      "cell_type": "markdown",
      "metadata": {
        "id": "8xvb0GP4w1fQ"
      },
      "source": [
        "### 4.9.6 Assess performance on train and test data<a id='4.9.6_Assess_performance_on_train_and_test_data'></a>"
      ]
    },
    {
      "cell_type": "code",
      "execution_count": 73,
      "metadata": {
        "id": "pzKzyU9Qw1fR"
      },
      "outputs": [],
      "source": [
        "y_tr_pred = pipe15.predict(X_train)\n",
        "y_te_pred = pipe15.predict(X_test)"
      ]
    },
    {
      "cell_type": "code",
      "execution_count": 74,
      "metadata": {
        "id": "qN8PCmpUw1fR",
        "outputId": "bc7045aa-dc4d-4f9f-84ad-46d18978c445",
        "colab": {
          "base_uri": "https://localhost:8080/"
        }
      },
      "outputs": [
        {
          "output_type": "execute_result",
          "data": {
            "text/plain": [
              "(0.7924096060483825, 0.6376199973170795)"
            ]
          },
          "metadata": {},
          "execution_count": 74
        }
      ],
      "source": [
        "r2_score(y_train, y_tr_pred), r2_score(y_test, y_te_pred)"
      ]
    },
    {
      "cell_type": "code",
      "execution_count": 75,
      "metadata": {
        "id": "pLpiy498w1fR",
        "outputId": "3e34a5cd-44f7-4154-80ef-21d1d7e813d3",
        "colab": {
          "base_uri": "https://localhost:8080/"
        }
      },
      "outputs": [
        {
          "output_type": "execute_result",
          "data": {
            "text/plain": [
              "(9.211767769307116, 10.488246867294357)"
            ]
          },
          "metadata": {},
          "execution_count": 75
        }
      ],
      "source": [
        "mean_absolute_error(y_train, y_tr_pred), mean_absolute_error(y_test, y_te_pred)"
      ]
    },
    {
      "cell_type": "markdown",
      "metadata": {
        "id": "mTWlroDjw1fS"
      },
      "source": [
        "You could keep going, trying different values of k, training a model, measuring performance on the test set, and then picking the model with the best test set performance. There's a fundamental problem with this approach: _you're tuning the model to the arbitrary test set_! If you continue this way you'll end up with a model works well on the particular quirks of our test set _but fails to generalize to new data_. The whole point of keeping a test set is for it to be a set of that new data, to check how well our model might perform on data it hasn't seen.\n",
        "\n",
        "The way around this is a technique called _cross-validation_. You partition the training set into k folds, train our model on k-1 of those folds, and calculate performance on the fold not used in training. This procedure then cycles through k times with a different fold held back each time. Thus you end up building k models on k sets of data with k estimates of how the model performs on unseen data but without having to touch the test set."
      ]
    },
    {
      "cell_type": "markdown",
      "metadata": {
        "id": "4LhMINqNw1fS"
      },
      "source": [
        "### 4.9.7 Assessing performance using cross-validation<a id='4.9.7_Assessing_performance_using_cross-validation'></a>"
      ]
    },
    {
      "cell_type": "code",
      "execution_count": 76,
      "metadata": {
        "id": "jv4pGbjgw1fS"
      },
      "outputs": [],
      "source": [
        "cv_results = cross_validate(pipe15, X_train, y_train, cv=5)"
      ]
    },
    {
      "cell_type": "code",
      "execution_count": 77,
      "metadata": {
        "id": "gXXA2TDNw1fS",
        "outputId": "ea8dd2d5-84eb-4d09-cd80-35abb3297503",
        "colab": {
          "base_uri": "https://localhost:8080/"
        }
      },
      "outputs": [
        {
          "output_type": "execute_result",
          "data": {
            "text/plain": [
              "array([0.63760862, 0.72831381, 0.74443537, 0.5487915 , 0.50441472])"
            ]
          },
          "metadata": {},
          "execution_count": 77
        }
      ],
      "source": [
        "cv_scores = cv_results['test_score']\n",
        "cv_scores"
      ]
    },
    {
      "cell_type": "markdown",
      "metadata": {
        "id": "a0fJmclRw1fS"
      },
      "source": [
        "Without using the same random state for initializing the CV folds, your actual numbers will be different."
      ]
    },
    {
      "cell_type": "code",
      "execution_count": 78,
      "metadata": {
        "id": "Z38Qr-Dww1fT",
        "outputId": "605ad363-5150-4007-af3c-ce624d3b41e9",
        "colab": {
          "base_uri": "https://localhost:8080/"
        }
      },
      "outputs": [
        {
          "output_type": "execute_result",
          "data": {
            "text/plain": [
              "(0.6327128053007864, 0.0950248784987769)"
            ]
          },
          "metadata": {},
          "execution_count": 78
        }
      ],
      "source": [
        "np.mean(cv_scores), np.std(cv_scores)"
      ]
    },
    {
      "cell_type": "markdown",
      "metadata": {
        "id": "s-5-zyFDw1fT"
      },
      "source": [
        "These results highlight that assessing model performance in inherently open to variability. You'll get different results depending on the quirks of which points are in which fold. An advantage of this is that you can also obtain an estimate of the variability, or uncertainty, in your performance estimate."
      ]
    },
    {
      "cell_type": "code",
      "execution_count": 79,
      "metadata": {
        "id": "Fwnaa66Gw1fT",
        "outputId": "996eef4c-6b6c-4bf4-d363-e9727a3b54a8",
        "colab": {
          "base_uri": "https://localhost:8080/"
        }
      },
      "outputs": [
        {
          "output_type": "execute_result",
          "data": {
            "text/plain": [
              "array([0.44, 0.82])"
            ]
          },
          "metadata": {},
          "execution_count": 79
        }
      ],
      "source": [
        "np.round((np.mean(cv_scores) - 2 * np.std(cv_scores), np.mean(cv_scores) + 2 * np.std(cv_scores)), 2)"
      ]
    },
    {
      "cell_type": "markdown",
      "metadata": {
        "id": "2q9U8UUTw1fT"
      },
      "source": [
        "### 4.9.8 Hyperparameter search using GridSearchCV<a id='4.9.8_Hyperparameter_search_using_GridSearchCV'></a>"
      ]
    },
    {
      "cell_type": "markdown",
      "metadata": {
        "id": "vmp454cqw1fT"
      },
      "source": [
        "Pulling the above together, we have:\n",
        "* a pipeline that\n",
        "    * imputes missing values\n",
        "    * scales the data\n",
        "    * selects the k best features\n",
        "    * trains a linear regression model\n",
        "* a technique (cross-validation) for estimating model performance\n",
        "\n",
        "Now you want to use cross-validation for multiple values of k and use cross-validation to pick the value of k that gives the best performance. `make_pipeline` automatically names each step as the lowercase name of the step and the parameters of the step are then accessed by appending a double underscore followed by the parameter name. You know the name of the step will be 'selectkbest' and you know the parameter is 'k'.\n",
        "\n",
        "You can also list the names of all the parameters in a pipeline like this:"
      ]
    },
    {
      "cell_type": "code",
      "source": [
        ""
      ],
      "metadata": {
        "id": "r76hlXNOH_Qy"
      },
      "execution_count": 79,
      "outputs": []
    },
    {
      "cell_type": "code",
      "execution_count": 80,
      "metadata": {
        "id": "yZA6lwKIw1fT",
        "colab": {
          "base_uri": "https://localhost:8080/"
        },
        "outputId": "6247f533-8ae0-4fd3-a4c2-32a45dd33c4a"
      },
      "outputs": [
        {
          "output_type": "execute_result",
          "data": {
            "text/plain": [
              "dict_keys(['memory', 'steps', 'verbose', 'simpleimputer', 'standardscaler', 'selectkbest', 'linearregression', 'simpleimputer__add_indicator', 'simpleimputer__copy', 'simpleimputer__fill_value', 'simpleimputer__missing_values', 'simpleimputer__strategy', 'simpleimputer__verbose', 'standardscaler__copy', 'standardscaler__with_mean', 'standardscaler__with_std', 'selectkbest__k', 'selectkbest__score_func', 'linearregression__copy_X', 'linearregression__fit_intercept', 'linearregression__n_jobs', 'linearregression__normalize', 'linearregression__positive'])"
            ]
          },
          "metadata": {},
          "execution_count": 80
        }
      ],
      "source": [
        "#Code task 18#\n",
        "#Call `pipe`'s `get_params()` method to get a dict of available parameters and print their names\n",
        "#using dict's `keys()` method\n",
        "pipe.get_params().keys()"
      ]
    },
    {
      "cell_type": "markdown",
      "metadata": {
        "id": "GfDeEhZfw1fT"
      },
      "source": [
        "The above can be particularly useful as your pipelines becomes more complex (you can even nest pipelines within pipelines)."
      ]
    },
    {
      "cell_type": "code",
      "execution_count": 81,
      "metadata": {
        "id": "fR18HArCw1fT"
      },
      "outputs": [],
      "source": [
        "k = [k+1 for k in range(len(X_train.columns))]\n",
        "grid_params = {'selectkbest__k': k}"
      ]
    },
    {
      "cell_type": "markdown",
      "metadata": {
        "id": "2yeT34VXw1fT"
      },
      "source": [
        "Now you have a range of `k` to investigate. Is 1 feature best? 2? 3? 4? All of them? You could write a for loop and iterate over each possible value, doing all the housekeeping oyurselves to track the best value of k. But this is  a common task so there's a built in function in `sklearn`. This is [`GridSearchCV`](https://scikit-learn.org/stable/modules/generated/sklearn.model_selection.GridSearchCV.html).\n",
        "This takes the pipeline object, in fact it takes anything with a `.fit()` and `.predict()` method. In simple cases with no feature selection or imputation or feature scaling etc. you may see the classifier or regressor object itself directly passed into `GridSearchCV`. The other key input is the parameters and values to search over. Optional parameters include the cross-validation strategy and number of CPUs to use."
      ]
    },
    {
      "cell_type": "code",
      "execution_count": 82,
      "metadata": {
        "id": "6FrZ_vahw1fT"
      },
      "outputs": [],
      "source": [
        "lr_grid_cv = GridSearchCV(pipe, param_grid=grid_params, cv=5, n_jobs=-1)"
      ]
    },
    {
      "cell_type": "code",
      "execution_count": 83,
      "metadata": {
        "id": "DuuwVG1Fw1fU",
        "outputId": "8276e81e-950f-45f2-dcc0-8dd93cc8b816",
        "colab": {
          "base_uri": "https://localhost:8080/"
        }
      },
      "outputs": [
        {
          "output_type": "execute_result",
          "data": {
            "text/plain": [
              "GridSearchCV(cv=5,\n",
              "             estimator=Pipeline(steps=[('simpleimputer',\n",
              "                                        SimpleImputer(strategy='median')),\n",
              "                                       ('standardscaler', StandardScaler()),\n",
              "                                       ('selectkbest',\n",
              "                                        SelectKBest(score_func=<function f_regression at 0x7ff84aee2e60>)),\n",
              "                                       ('linearregression',\n",
              "                                        LinearRegression())]),\n",
              "             n_jobs=-1,\n",
              "             param_grid={'selectkbest__k': [1, 2, 3, 4, 5, 6, 7, 8, 9, 10, 11,\n",
              "                                            12, 13, 14, 15, 16, 17, 18, 19, 20,\n",
              "                                            21, 22, 23, 24, 25, 26, 27, 28, 29,\n",
              "                                            30, ...]})"
            ]
          },
          "metadata": {},
          "execution_count": 83
        }
      ],
      "source": [
        "lr_grid_cv.fit(X_train, y_train)"
      ]
    },
    {
      "cell_type": "code",
      "execution_count": 84,
      "metadata": {
        "id": "fcRM21RDw1fU"
      },
      "outputs": [],
      "source": [
        "score_mean = lr_grid_cv.cv_results_['mean_test_score']\n",
        "score_std = lr_grid_cv.cv_results_['std_test_score']\n",
        "cv_k = [k for k in lr_grid_cv.cv_results_['param_selectkbest__k']]"
      ]
    },
    {
      "cell_type": "code",
      "execution_count": 85,
      "metadata": {
        "id": "HWpdHgrlw1fU",
        "colab": {
          "base_uri": "https://localhost:8080/"
        },
        "outputId": "07261be1-d43d-4e2c-842b-ca08fc6929b2"
      },
      "outputs": [
        {
          "output_type": "execute_result",
          "data": {
            "text/plain": [
              "{'selectkbest__k': 8}"
            ]
          },
          "metadata": {},
          "execution_count": 85
        }
      ],
      "source": [
        "#Code task 19#\n",
        "#Print the `best_params_` attribute of `lr_grid_cv`\n",
        "lr_grid_cv.best_params_"
      ]
    },
    {
      "cell_type": "code",
      "execution_count": 86,
      "metadata": {
        "id": "YSUZ7s4ow1fU",
        "colab": {
          "base_uri": "https://localhost:8080/",
          "height": 350
        },
        "outputId": "27262650-4144-4c57-c62d-b01d49ed3d93"
      },
      "outputs": [
        {
          "output_type": "display_data",
          "data": {
            "text/plain": [
              "<Figure size 720x360 with 1 Axes>"
            ],
            "image/png": "[encoded data removed]"
          },
          "metadata": {
            "needs_background": "light"
          }
        }
      ],
      "source": [
        "#Code task 20#\n",
        "#Assign the value of k from the above dict of `best_params_` and assign it to `best_k`\n",
        "best_k = lr_grid_cv.best_params_['selectkbest__k']\n",
        "plt.subplots(figsize=(10, 5))\n",
        "plt.errorbar(cv_k, score_mean, yerr=score_std)\n",
        "plt.axvline(x=best_k, c='r', ls='--', alpha=.5)\n",
        "plt.xlabel('k')\n",
        "plt.ylabel('CV score (r-squared)')\n",
        "plt.title('Pipeline mean CV score (error bars +/- 1sd)');"
      ]
    },
    {
      "cell_type": "markdown",
      "metadata": {
        "id": "vWQJ3K6Pw1fU"
      },
      "source": [
        "The above suggests a good value for k is 8. There was an initial rapid increase with k, followed by a slow decline. Also noticeable is the variance of the results greatly increase above k=8. As you increasingly overfit, expect greater swings in performance as different points move in and out of the train/test folds."
      ]
    },
    {
      "cell_type": "markdown",
      "metadata": {
        "id": "iRcsTxf_w1fU"
      },
      "source": [
        "Which features were most useful? Step into your best model, shown below. Starting with the fitted grid search object, you get the best estimator, then the named step 'selectkbest', for which you can its `get_support()` method for a logical mask of the features selected."
      ]
    },
    {
      "cell_type": "code",
      "execution_count": 87,
      "metadata": {
        "id": "LWUQ8APPw1fU"
      },
      "outputs": [],
      "source": [
        "selected = lr_grid_cv.best_estimator_.named_steps.selectkbest.get_support()"
      ]
    },
    {
      "cell_type": "markdown",
      "metadata": {
        "id": "h3XG7EvCw1fU"
      },
      "source": [
        "Similarly, instead of using the 'selectkbest' named step, you can access the named step for the linear regression model and, from that, grab the model coefficients via its `coef_` attribute:"
      ]
    },
    {
      "cell_type": "code",
      "execution_count": 88,
      "metadata": {
        "id": "RL0VZPlgw1fU",
        "colab": {
          "base_uri": "https://localhost:8080/"
        },
        "outputId": "46ea4c56-3681-4c8f-9ae7-b2f2665e133c"
      },
      "outputs": [
        {
          "output_type": "execute_result",
          "data": {
            "text/plain": [
              "vertical_drop        10.767857\n",
              "Snow Making_ac        6.290074\n",
              "total_chairs          5.794156\n",
              "fastQuads             5.745626\n",
              "Runs                  5.370555\n",
              "LongestRun_mi         0.181814\n",
              "trams                -4.142024\n",
              "SkiableTerrain_ac    -5.249780\n",
              "dtype: float64"
            ]
          },
          "metadata": {},
          "execution_count": 88
        }
      ],
      "source": [
        "#Code task 21#\n",
        "#Get the linear model coefficients from the `coef_` attribute and store in `coefs`,\n",
        "#get the matching feature names from the column names of the dataframe,\n",
        "#and display the results as a pandas Series with `coefs` as the values and `features` as the index,\n",
        "#sorting the values in descending order\n",
        "coefs = lr_grid_cv.best_estimator_.named_steps.linearregression.coef_\n",
        "features = X_train.columns[selected]\n",
        "pd.Series(coefs, index=features).sort_values(ascending=False)"
      ]
    },
    {
      "cell_type": "markdown",
      "metadata": {
        "id": "SMfYEf_3w1fU"
      },
      "source": [
        "These results suggest that vertical drop is your biggest positive feature. This makes intuitive sense and is consistent with what you saw during the EDA work. Also, you see the area covered by snow making equipment is a strong positive as well. People like guaranteed skiing! The skiable terrain area is negatively associated with ticket price! This seems odd. People will pay less for larger resorts? There could be all manner of reasons for this. It could be  an effect whereby larger resorts can host more visitors at any one time and so can charge less per ticket. As has been mentioned previously, the data are missing information about visitor numbers. Bear in mind,  the coefficient for skiable terrain is negative _for this model_. For example, if you kept the total number of chairs and fastQuads constant, but increased the skiable terrain extent, you might imagine the resort is worse off because the chairlift capacity is stretched thinner."
      ]
    },
    {
      "cell_type": "markdown",
      "metadata": {
        "id": "PWtTM-2Yw1fV"
      },
      "source": [
        "## 4.10 Random Forest Model<a id='4.10_Random_Forest_Model'></a>"
      ]
    },
    {
      "cell_type": "markdown",
      "metadata": {
        "id": "Ngz-m1Faw1fV"
      },
      "source": [
        "A model that can work very well in a lot of cases is the random forest. For regression, this is provided by `sklearn`'s `RandomForestRegressor` class.\n",
        "\n",
        "Time to stop the bad practice of repeatedly checking performance on the test split. Instead, go straight from defining the pipeline to assessing performance using cross-validation. `cross_validate` will perform the fitting as part of the process. This uses the default settings for the random forest so you'll then proceed to investigate some different hyperparameters."
      ]
    },
    {
      "cell_type": "markdown",
      "metadata": {
        "id": "Bd750PCQw1fV"
      },
      "source": [
        "### 4.10.1 Define the pipeline<a id='4.10.1_Define_the_pipeline'></a>"
      ]
    },
    {
      "cell_type": "code",
      "execution_count": 89,
      "metadata": {
        "id": "W09chAnBw1fV"
      },
      "outputs": [],
      "source": [
        "#Code task 22#\n",
        "#Define a pipeline comprising the steps:\n",
        "#SimpleImputer() with a strategy of 'median'\n",
        "#StandardScaler(),\n",
        "#and then RandomForestRegressor() with a random state of 47\n",
        "RF_pipe = make_pipeline(\n",
        "    SimpleImputer(strategy='median'),\n",
        "    StandardScaler(),\n",
        "    RandomForestRegressor(random_state=47)\n",
        ")"
      ]
    },
    {
      "cell_type": "markdown",
      "metadata": {
        "id": "glQ4ZydMw1fV"
      },
      "source": [
        "### 4.10.2 Fit and assess performance using cross-validation<a id='4.10.2_Fit_and_assess_performance_using_cross-validation'></a>"
      ]
    },
    {
      "cell_type": "code",
      "execution_count": 90,
      "metadata": {
        "id": "Yqx_MF-6w1fV"
      },
      "outputs": [],
      "source": [
        "#Code task 23#\n",
        "#Call `cross_validate` to estimate the pipeline's performance.\n",
        "#Pass it the random forest pipe object, `X_train` and `y_train`,\n",
        "#and get it to use 5-fold cross-validation\n",
        "rf_default_cv_results = cross_validate(RF_pipe, X_train, y_train, cv=5)"
      ]
    },
    {
      "cell_type": "code",
      "execution_count": 91,
      "metadata": {
        "id": "pdtoNg6fw1fV",
        "outputId": "fecf67d9-c6ba-47ea-f8da-33172c2722aa",
        "colab": {
          "base_uri": "https://localhost:8080/"
        }
      },
      "outputs": [
        {
          "output_type": "execute_result",
          "data": {
            "text/plain": [
              "array([0.69249204, 0.78061953, 0.77546915, 0.62190924, 0.61742339])"
            ]
          },
          "metadata": {},
          "execution_count": 91
        }
      ],
      "source": [
        "rf_cv_scores = rf_default_cv_results['test_score']\n",
        "rf_cv_scores"
      ]
    },
    {
      "cell_type": "code",
      "execution_count": 92,
      "metadata": {
        "id": "NdfKefIzw1fV",
        "outputId": "e0e43b60-7988-4d45-cf29-b72919c78aa6",
        "colab": {
          "base_uri": "https://localhost:8080/"
        }
      },
      "outputs": [
        {
          "output_type": "execute_result",
          "data": {
            "text/plain": [
              "(0.6975826707112506, 0.07090742940774528)"
            ]
          },
          "metadata": {},
          "execution_count": 92
        }
      ],
      "source": [
        "np.mean(rf_cv_scores), np.std(rf_cv_scores)"
      ]
    },
    {
      "cell_type": "markdown",
      "metadata": {
        "id": "e13ApL-dw1fV"
      },
      "source": [
        "### 4.10.3 Hyperparameter search using GridSearchCV<a id='4.10.3_Hyperparameter_search_using_GridSearchCV'></a>"
      ]
    },
    {
      "cell_type": "markdown",
      "metadata": {
        "id": "ljag5rJ7w1fV"
      },
      "source": [
        "Random forest has a number of hyperparameters that can be explored, however here you'll limit yourselves to exploring some different values for the number of trees. You'll try it with and without feature scaling, and try both the mean and median as strategies for imputing missing values."
      ]
    },
    {
      "cell_type": "code",
      "execution_count": 93,
      "metadata": {
        "id": "O_cY0UBww1fW",
        "outputId": "8b52e89d-8961-4953-95fd-a33789ab3b64",
        "colab": {
          "base_uri": "https://localhost:8080/"
        }
      },
      "outputs": [
        {
          "output_type": "execute_result",
          "data": {
            "text/plain": [
              "{'randomforestregressor__n_estimators': [10,\n",
              "  12,\n",
              "  16,\n",
              "  20,\n",
              "  26,\n",
              "  33,\n",
              "  42,\n",
              "  54,\n",
              "  69,\n",
              "  88,\n",
              "  112,\n",
              "  143,\n",
              "  183,\n",
              "  233,\n",
              "  297,\n",
              "  379,\n",
              "  483,\n",
              "  615,\n",
              "  784,\n",
              "  1000],\n",
              " 'simpleimputer__strategy': ['mean', 'median'],\n",
              " 'standardscaler': [StandardScaler(), None]}"
            ]
          },
          "metadata": {},
          "execution_count": 93
        }
      ],
      "source": [
        "n_est = [int(n) for n in np.logspace(start=1, stop=3, num=20)]\n",
        "grid_params = {\n",
        "        'randomforestregressor__n_estimators': n_est,\n",
        "        'standardscaler': [StandardScaler(), None],\n",
        "        'simpleimputer__strategy': ['mean', 'median']\n",
        "}\n",
        "grid_params"
      ]
    },
    {
      "cell_type": "code",
      "execution_count": 94,
      "metadata": {
        "id": "x1S2f9Now1fW"
      },
      "outputs": [],
      "source": [
        "#Code task 24#\n",
        "#Call `GridSearchCV` with the random forest pipeline, passing in the above `grid_params`\n",
        "#dict for parameters to evaluate, 5-fold cross-validation, and all available CPU cores (if desired)\n",
        "rf_grid_cv = GridSearchCV(RF_pipe, param_grid=grid_params, cv=5, n_jobs=-1)"
      ]
    },
    {
      "cell_type": "code",
      "execution_count": 95,
      "metadata": {
        "id": "2zD040Slw1fW",
        "colab": {
          "base_uri": "https://localhost:8080/"
        },
        "outputId": "2e5dd2f8-ee7e-42d9-f587-d6d5ec6e5385"
      },
      "outputs": [
        {
          "output_type": "execute_result",
          "data": {
            "text/plain": [
              "GridSearchCV(cv=5,\n",
              "             estimator=Pipeline(steps=[('simpleimputer',\n",
              "                                        SimpleImputer(strategy='median')),\n",
              "                                       ('standardscaler', StandardScaler()),\n",
              "                                       ('randomforestregressor',\n",
              "                                        RandomForestRegressor(random_state=47))]),\n",
              "             n_jobs=-1,\n",
              "             param_grid={'randomforestregressor__n_estimators': [10, 12, 16, 20,\n",
              "                                                                 26, 33, 42, 54,\n",
              "                                                                 69, 88, 112,\n",
              "                                                                 143, 183, 233,\n",
              "                                                                 297, 379, 483,\n",
              "                                                                 615, 784,\n",
              "                                                                 1000],\n",
              "                         'simpleimputer__strategy': ['mean', 'median'],\n",
              "                         'standardscaler': [StandardScaler(), None]})"
            ]
          },
          "metadata": {},
          "execution_count": 95
        }
      ],
      "source": [
        "#Code task 25#\n",
        "#Now call the `GridSearchCV`'s `fit()` method with `X_train` and `y_train` as arguments\n",
        "#to actually start the grid search. This may take a minute or two.\n",
        "rf_grid_cv.fit(X_train, y_train)"
      ]
    },
    {
      "cell_type": "code",
      "execution_count": 96,
      "metadata": {
        "id": "FCjoeUzTw1fW",
        "colab": {
          "base_uri": "https://localhost:8080/"
        },
        "outputId": "8e113274-dd52-445d-c450-cff7f699746a"
      },
      "outputs": [
        {
          "output_type": "execute_result",
          "data": {
            "text/plain": [
              "{'randomforestregressor__n_estimators': 69,\n",
              " 'simpleimputer__strategy': 'median',\n",
              " 'standardscaler': None}"
            ]
          },
          "metadata": {},
          "execution_count": 96
        }
      ],
      "source": [
        "#Code task 26#\n",
        "#Print the best params (`best_params_` attribute) from the grid search\n",
        "rf_grid_cv.best_params_"
      ]
    },
    {
      "cell_type": "markdown",
      "metadata": {
        "id": "X7KafFURw1fW"
      },
      "source": [
        "It looks like imputing with the median helps, but scaling the features doesn't."
      ]
    },
    {
      "cell_type": "code",
      "execution_count": 97,
      "metadata": {
        "id": "LUMTYpSuw1fW",
        "outputId": "b5f6ec46-95b7-4689-b81b-e7ba693681c3",
        "colab": {
          "base_uri": "https://localhost:8080/"
        }
      },
      "outputs": [
        {
          "output_type": "execute_result",
          "data": {
            "text/plain": [
              "array([0.6951357 , 0.79430697, 0.77170917, 0.62254707, 0.66499334])"
            ]
          },
          "metadata": {},
          "execution_count": 97
        }
      ],
      "source": [
        "rf_best_cv_results = cross_validate(rf_grid_cv.best_estimator_, X_train, y_train, cv=5)\n",
        "rf_best_scores = rf_best_cv_results['test_score']\n",
        "rf_best_scores"
      ]
    },
    {
      "cell_type": "code",
      "execution_count": 98,
      "metadata": {
        "id": "osVKLis1w1fW",
        "outputId": "6427d859-714d-4a8d-edcc-a25214bbec65",
        "colab": {
          "base_uri": "https://localhost:8080/"
        }
      },
      "outputs": [
        {
          "output_type": "execute_result",
          "data": {
            "text/plain": [
              "(0.7097384501425082, 0.06451341966873386)"
            ]
          },
          "metadata": {},
          "execution_count": 98
        }
      ],
      "source": [
        "np.mean(rf_best_scores), np.std(rf_best_scores)"
      ]
    },
    {
      "cell_type": "markdown",
      "metadata": {
        "id": "q_NnUXdhw1fW"
      },
      "source": [
        "You've marginally improved upon the default CV results. Random forest has many more hyperparameters you could tune, but we won't dive into that here."
      ]
    },
    {
      "cell_type": "code",
      "execution_count": 99,
      "metadata": {
        "id": "cc7gAk6_w1fX",
        "colab": {
          "base_uri": "https://localhost:8080/",
          "height": 511
        },
        "outputId": "a9b0991e-091f-449d-d7ec-1093b482aec0"
      },
      "outputs": [
        {
          "output_type": "display_data",
          "data": {
            "text/plain": [
              "<Figure size 720x360 with 1 Axes>"
            ],
            "image/png": "[encoded data removed]"
          },
          "metadata": {
            "needs_background": "light"
          }
        }
      ],
      "source": [
        "#Code task 27#\n",
        "#Plot a barplot of the random forest's feature importances,\n",
        "#assigning the `feature_importances_` attribute of \n",
        "#`rf_grid_cv.best_estimator_.named_steps.randomforestregressor` to the name `imps` to then\n",
        "#create a pandas Series object of the feature importances, with the index given by the\n",
        "#training data column names, sorting the values in descending order\n",
        "plt.subplots(figsize=(10, 5))\n",
        "imps = rf_grid_cv.best_estimator_.named_steps.randomforestregressor.feature_importances_\n",
        "rf_feat_imps = pd.Series(imps, index=X_train.columns).sort_values(ascending=False)\n",
        "rf_feat_imps.plot(kind='bar')\n",
        "plt.xlabel('features')\n",
        "plt.ylabel('importance')\n",
        "plt.title('Best random forest regressor feature importances');"
      ]
    },
    {
      "cell_type": "markdown",
      "metadata": {
        "id": "QGwgs1S9w1fX"
      },
      "source": [
        "Encouragingly, the dominant top four features are in common with your linear model:\n",
        "* fastQuads\n",
        "* Runs\n",
        "* Snow Making_ac\n",
        "* vertical_drop"
      ]
    },
    {
      "cell_type": "markdown",
      "metadata": {
        "id": "Yl79IIfiw1fX"
      },
      "source": [
        "## 4.11 Final Model Selection<a id='4.11_Final_Model_Selection'></a>"
      ]
    },
    {
      "cell_type": "markdown",
      "metadata": {
        "id": "rTAtSpDOw1fX"
      },
      "source": [
        "Time to select your final model to use for further business modeling! It would be good to revisit the above model selection; there is undoubtedly more that could be done to explore possible hyperparameters.\n",
        "It would also be worthwhile to investigate removing the least useful features. Gathering or calculating, and storing, features adds business cost and dependencies, so if features genuinely are not needed they should be removed.\n",
        "Building a simpler model with fewer features can also have the advantage of being easier to sell (and/or explain) to stakeholders.\n",
        "Certainly there seem to be four strong features here and so a model using only those would probably work well.\n",
        "However, you want to explore some different scenarios where other features vary so keep the fuller \n",
        "model for now. \n",
        "The business is waiting for this model and you have something that you have confidence in to be much better than guessing with the average price.\n",
        "\n",
        "Or, rather, you have two \"somethings\". You built a best linear model and a best random forest model. You need to finally choose between them. You can calculate the mean absolute error using cross-validation. Although `cross-validate` defaults to the $R^2$ [metric for scoring](https://scikit-learn.org/stable/modules/model_evaluation.html#scoring) regression, you can specify the mean absolute error as an alternative via\n",
        "the `scoring` parameter."
      ]
    },
    {
      "cell_type": "markdown",
      "metadata": {
        "id": "AxCUr_vsw1fX"
      },
      "source": [
        "### 4.11.1 Linear regression model performance<a id='4.11.1_Linear_regression_model_performance'></a>"
      ]
    },
    {
      "cell_type": "code",
      "execution_count": 100,
      "metadata": {
        "id": "dSVvBtj6w1fX"
      },
      "outputs": [],
      "source": [
        "# 'neg_mean_absolute_error' uses the (negative of) the mean absolute error\n",
        "lr_neg_mae = cross_validate(lr_grid_cv.best_estimator_, X_train, y_train, \n",
        "                            scoring='neg_mean_absolute_error', cv=5, n_jobs=-1)"
      ]
    },
    {
      "cell_type": "code",
      "execution_count": 101,
      "metadata": {
        "id": "Ruc3VHJVw1fX",
        "outputId": "2b61d920-8700-48f1-89f6-09293994e4c4",
        "colab": {
          "base_uri": "https://localhost:8080/"
        }
      },
      "outputs": [
        {
          "output_type": "execute_result",
          "data": {
            "text/plain": [
              "(10.499032338015294, 1.6220608976799658)"
            ]
          },
          "metadata": {},
          "execution_count": 101
        }
      ],
      "source": [
        "lr_mae_mean = np.mean(-1 * lr_neg_mae['test_score'])\n",
        "lr_mae_std = np.std(-1 * lr_neg_mae['test_score'])\n",
        "lr_mae_mean, lr_mae_std"
      ]
    },
    {
      "cell_type": "code",
      "execution_count": 102,
      "metadata": {
        "id": "KaguR2ajw1fX",
        "outputId": "07b108cc-5c83-49c3-8e2a-3a2b42ea3c94",
        "colab": {
          "base_uri": "https://localhost:8080/"
        }
      },
      "outputs": [
        {
          "output_type": "execute_result",
          "data": {
            "text/plain": [
              "11.793465668669327"
            ]
          },
          "metadata": {},
          "execution_count": 102
        }
      ],
      "source": [
        "mean_absolute_error(y_test, lr_grid_cv.best_estimator_.predict(X_test))"
      ]
    },
    {
      "cell_type": "markdown",
      "metadata": {
        "id": "ML7dv8hpw1fX"
      },
      "source": [
        "### 4.11.2 Random forest regression model performance<a id='4.11.2_Random_forest_regression_model_performance'></a>"
      ]
    },
    {
      "cell_type": "code",
      "execution_count": 103,
      "metadata": {
        "id": "6rZiJ8Vfw1fY"
      },
      "outputs": [],
      "source": [
        "rf_neg_mae = cross_validate(rf_grid_cv.best_estimator_, X_train, y_train, \n",
        "                            scoring='neg_mean_absolute_error', cv=5, n_jobs=-1)"
      ]
    },
    {
      "cell_type": "code",
      "execution_count": 104,
      "metadata": {
        "id": "8X85DX7qw1fY",
        "outputId": "18a2d8a6-95d5-4523-ba6b-489a3e8f2d58",
        "colab": {
          "base_uri": "https://localhost:8080/"
        }
      },
      "outputs": [
        {
          "output_type": "execute_result",
          "data": {
            "text/plain": [
              "(9.644639167595688, 1.3528565172191818)"
            ]
          },
          "metadata": {},
          "execution_count": 104
        }
      ],
      "source": [
        "rf_mae_mean = np.mean(-1 * rf_neg_mae['test_score'])\n",
        "rf_mae_std = np.std(-1 * rf_neg_mae['test_score'])\n",
        "rf_mae_mean, rf_mae_std"
      ]
    },
    {
      "cell_type": "code",
      "execution_count": 105,
      "metadata": {
        "id": "sqtDP8ybw1fY",
        "outputId": "5a943ca4-46f3-4bc3-9ede-cf323665db46",
        "colab": {
          "base_uri": "https://localhost:8080/"
        }
      },
      "outputs": [
        {
          "output_type": "execute_result",
          "data": {
            "text/plain": [
              "9.537730050637332"
            ]
          },
          "metadata": {},
          "execution_count": 105
        }
      ],
      "source": [
        "mean_absolute_error(y_test, rf_grid_cv.best_estimator_.predict(X_test))"
      ]
    },
    {
      "cell_type": "markdown",
      "metadata": {
        "id": "m9ZzWAVdw1fY"
      },
      "source": [
        "### 4.11.3 Conclusion<a id='4.11.3_Conclusion'></a>"
      ]
    },
    {
      "cell_type": "markdown",
      "metadata": {
        "id": "i4F9JHvZw1fY"
      },
      "source": [
        "The random forest model has a lower cross-validation mean absolute error by almost \\\\$1. It also exhibits less variability. Verifying performance on the test set produces performance consistent with the cross-validation results."
      ]
    },
    {
      "cell_type": "markdown",
      "metadata": {
        "id": "Wm1poyY1w1fY"
      },
      "source": [
        "## 4.12 Data quantity assessment<a id='4.12_Data_quantity_assessment'></a>"
      ]
    },
    {
      "cell_type": "markdown",
      "metadata": {
        "id": "NvI7oqU5w1fY"
      },
      "source": [
        "Finally, you need to advise the business whether it needs to undertake further data collection. Would more data be useful? We're often led to believe more data is always good, but gathering data invariably has a cost associated with it. Assess this trade off by seeing how performance varies with differing data set sizes. The `learning_curve` function does this conveniently."
      ]
    },
    {
      "cell_type": "code",
      "execution_count": 106,
      "metadata": {
        "id": "aAaMqujmw1fY"
      },
      "outputs": [],
      "source": [
        "fractions = [.2, .25, .3, .35, .4, .45, .5, .6, .75, .8, 1.0]\n",
        "train_size, train_scores, test_scores = learning_curve(pipe, X_train, y_train, train_sizes=fractions)\n",
        "train_scores_mean = np.mean(train_scores, axis=1)\n",
        "train_scores_std = np.std(train_scores, axis=1)\n",
        "test_scores_mean = np.mean(test_scores, axis=1)\n",
        "test_scores_std = np.std(test_scores, axis=1)"
      ]
    },
    {
      "cell_type": "code",
      "execution_count": 107,
      "metadata": {
        "id": "4ZqThKgWw1fY",
        "outputId": "6ee1ebba-6557-47e0-e5b5-9a565d69ad19",
        "colab": {
          "base_uri": "https://localhost:8080/",
          "height": 350
        }
      },
      "outputs": [
        {
          "output_type": "display_data",
          "data": {
            "text/plain": [
              "<Figure size 720x360 with 1 Axes>"
            ],
            "image/png": "[encoded data removed]"
          },
          "metadata": {
            "needs_background": "light"
          }
        }
      ],
      "source": [
        "plt.subplots(figsize=(10, 5))\n",
        "plt.errorbar(train_size, test_scores_mean, yerr=test_scores_std)\n",
        "plt.xlabel('Training set size')\n",
        "plt.ylabel('CV scores')\n",
        "plt.title('Cross-validation score as training set size increases');"
      ]
    },
    {
      "cell_type": "markdown",
      "metadata": {
        "id": "ziMRkdxWw1fY"
      },
      "source": [
        "This shows that you seem to have plenty of data. There's an initial rapid improvement in model scores as one would expect, but it's essentially levelled off by around a sample size of 40-50."
      ]
    },
    {
      "cell_type": "markdown",
      "metadata": {
        "id": "jj6eUnWZw1fY"
      },
      "source": [
        "## 4.13 Save best model object from pipeline<a id='4.13_Save_best_model_object_from_pipeline'></a>"
      ]
    },
    {
      "cell_type": "code",
      "execution_count": 108,
      "metadata": {
        "id": "FEJ1nzYVw1fZ"
      },
      "outputs": [],
      "source": [
        "#Code task 28#\n",
        "#This may not be \"production grade ML deployment\" practice, but adding some basic\n",
        "#information to your saved models can save your bacon in development.\n",
        "#Just what version model have you just loaded to reuse? What version of `sklearn`\n",
        "#created it? When did you make it?\n",
        "#Assign the pandas version number (`pd.__version__`) to the `pandas_version` attribute,\n",
        "#the numpy version (`np.__version__`) to the `numpy_version` attribute,\n",
        "#the sklearn version (`sklearn_version`) to the `sklearn_version` attribute,\n",
        "#and the current datetime (`datetime.datetime.now()`) to the `build_datetime` attribute\n",
        "#Let's call this model version '1.0'\n",
        "best_model = rf_grid_cv.best_estimator_\n",
        "best_model.version = '1.0'\n",
        "best_model.pandas_version = pd.__version__\n",
        "best_model.numpy_version = np.__version__\n",
        "best_model.sklearn_version = sklearn_version\n",
        "best_model.X_columns = [col for col in X_train.columns]\n",
        "best_model.build_datetime = datetime.datetime.now()"
      ]
    },
    {
      "cell_type": "code",
      "execution_count": 109,
      "metadata": {
        "id": "A6TLeR1vw1fZ",
        "colab": {
          "base_uri": "https://localhost:8080/"
        },
        "outputId": "9cb9e6e9-4031-492c-9db3-46aadb333a53"
      },
      "outputs": [
        {
          "output_type": "stream",
          "name": "stdout",
          "text": [
            "Directory ../models was created.\n",
            "Writing file.  \"../models/ski_resort_pricing_model.pkl\"\n"
          ]
        }
      ],
      "source": [
        "# save the model\n",
        "\n",
        "modelpath = '../models'\n",
        "save_file(best_model, 'ski_resort_pricing_model.pkl', modelpath)"
      ]
    },
    {
      "cell_type": "markdown",
      "metadata": {
        "id": "HzspihfMw1fZ"
      },
      "source": [
        "## 4.14 Summary<a id='4.14_Summary'></a>"
      ]
    },
    {
      "cell_type": "markdown",
      "metadata": {
        "id": "4z1VlMLjw1fZ"
      },
      "source": [
        "**Q: 1** Write a summary of the work in this notebook. Capture the fact that you gained a baseline idea of performance by simply taking the average price and how well that did. Then highlight that you built a linear model and the features that found. Comment on the estimate of its performance from cross-validation and whether its performance on the test split was consistent with this estimate. Also highlight that a random forest regressor was tried, what preprocessing steps were found to be best, and again what its estimated performance via cross-validation was and whether its performance on the test set was consistent with that. State which model you have decided to use going forwards and why. This summary should provide a quick overview for someone wanting to know quickly why the given model was chosen for the next part of the business problem to help guide important business decisions."
      ]
    },
    {
      "cell_type": "markdown",
      "metadata": {
        "id": "JTUwofqnw1fZ"
      },
      "source": [
        "**A: 1** Your answer here\n",
        "\n",
        "In this workbook, conducted the following steps to preprocess and train the data:\n",
        "\n",
        "1) Split the data into separate train and test data. Removed the ticket price column in the X data (independent variables) and separated 30% as test data. Used the ticket price column as the Y data (dependent variable) and separated 30% as test data.\n",
        "\n",
        "2) For the first model, I used the average price as the predicted price. I then ran all the metrics to find out if the model is effective. I will use these metrics as a baseline to compare to future models I'll create to determine their performance.\n",
        "\n",
        "3) I then filled the NA's in the data with the median values and ran a linear regression model. Noted that this model performed significantly better than the model created in step 2.\n",
        "\n",
        "4) I then filled the NA's in the data with the mean values and ran a linear regression model. Noted that this model performed almost the same as the model created in step 3.\n",
        "\n",
        "5) Created another model using SelectKBest which selects the k best features. This defaults to k=10. Noted that this model performed worse than the previous models run.\n",
        "\n",
        "6) Created another model with k=15, however noted that its not best practices to make small changes and test the performance of the model frequently because this creates the risk that you're tuning the model to the specific data set that you're working with and it wouldn't work for data outside the set.\n",
        "\n",
        "7) Tested the model created in Step 6 with cross validation. Noted that the performance was very different for each of the groups that were validated.\n",
        "\n",
        "8) Using GridsearchCV determined a k value of 8 is ideal for testing as variability increases significantly after 8. Additionally obtained a list of the 8 biggest positive features.\n",
        "\n",
        "9) A model was created using the random forest regressor as well. The random forest model has a lower cross-validation mae and it also had less variability. Verifying performance on the test set produces performance consistent with the cross-validation results.\n",
        "\n",
        "10) Using the Learning Curve function, validated that further data collection is not required and would not benefit the analysis.\n",
        "\n",
        "11) Determined that the random forest model has a lower cross-validation mae and it also had less variability. Therefore confirmed that this is the best model to use going forward."
      ]
    }
  ],
  "metadata": {
    "kernelspec": {
      "display_name": "Python 3",
      "language": "python",
      "name": "python3"
    },
    "language_info": {
      "codemirror_mode": {
        "name": "ipython",
        "version": 3
      },
      "file_extension": ".py",
      "mimetype": "text/x-python",
      "name": "python",
      "nbconvert_exporter": "python",
      "pygments_lexer": "ipython3",
      "version": "3.7.9"
    },
    "toc": {
      "base_numbering": 1,
      "nav_menu": {},
      "number_sections": true,
      "sideBar": true,
      "skip_h1_title": false,
      "title_cell": "Table of Contents",
      "title_sidebar": "Contents",
      "toc_cell": false,
      "toc_position": {},
      "toc_section_display": true,
      "toc_window_display": true
    },
    "varInspector": {
      "cols": {
        "lenName": 16,
        "lenType": 16,
        "lenVar": 40
      },
      "kernels_config": {
        "python": {
          "delete_cmd_postfix": "",
          "delete_cmd_prefix": "del ",
          "library": "var_list.py",
          "varRefreshCmd": "print(var_dic_list())"
        },
        "r": {
          "delete_cmd_postfix": ") ",
          "delete_cmd_prefix": "rm(",
          "library": "var_list.r",
          "varRefreshCmd": "cat(var_dic_list()) "
        }
      },
      "types_to_exclude": [
        "module",
        "function",
        "builtin_function_or_method",
        "instance",
        "_Feature"
      ],
      "window_display": false
    },
    "colab": {
      "name": "04_preprocessing_and_training.ipynb",
      "provenance": [],
      "include_colab_link": true
    }
  },
  "nbformat": 4,
  "nbformat_minor": 0
}